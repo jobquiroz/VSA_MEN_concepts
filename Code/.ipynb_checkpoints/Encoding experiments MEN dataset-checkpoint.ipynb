{
 "cells": [
  {
   "cell_type": "markdown",
   "metadata": {},
   "source": [
    "# Experiments\n",
    "\n",
    "In this notebook we perform different ways to encode the concepts' features based on *Rank_PF*, *Disting*, and *Intercorr_str_tax*. \n",
    "This notebooks uses the MEN dataset... \n",
    "\n",
    "## Header\n",
    "\n",
    "Libraries and additional programs"
   ]
  },
  {
   "cell_type": "code",
   "execution_count": 55,
   "metadata": {},
   "outputs": [],
   "source": [
    "import matplotlib\n",
    "import matplotlib.pyplot as plt\n",
    "import pandas as pd\n",
    "import numpy\n",
    "import random\n",
    "from scipy.stats.stats import pearsonr\n",
    "from scipy.stats.stats import spearmanr\n",
    "\n",
    "%matplotlib inline\n",
    "\n",
    "pathh = '../Data/'"
   ]
  },
  {
   "cell_type": "markdown",
   "metadata": {},
   "source": [
    "## MEN dataset\n",
    "_The MEN dataset consists of 3,000 word pairs. These were obtained by crowdsourcing using Amazon Mechanical Turk. \n",
    "The collection can be used to train and/or test computer algorithms implementing semantic similarity and relatedness measures.\n",
    "Link for more information: https://staff.fnwi.uva.nl/e.bruni/MEN_\n",
    "\n",
    "First we find how many pairs are there for which both concepts appear in the McRae dataset. "
   ]
  },
  {
   "cell_type": "code",
   "execution_count": 56,
   "metadata": {
    "scrolled": true
   },
   "outputs": [],
   "source": [
    "def ListConcepts():\n",
    "    \"Read an excel file and returns a list of pairs of concepts with its similarity value (according to humans)\"\n",
    "    MEN_path = \"../Data/MEN_dataset_natural_form_full\"\n",
    "    MEN_file = open(MEN_path, \"r\")\n",
    "    MEN = MEN_file.readlines()\n",
    "    MEN = [str.split(x) for x in MEN]\n",
    "\n",
    "    # List of all concepts in McRae dataset\n",
    "    Concepts = get_concepts_list() \n",
    "    \n",
    "    MENList = []\n",
    "    for row in MEN:\n",
    "        if row[0] in Concepts and row[1] in Concepts:\n",
    "            MENList.append([row[0], row[1], float(row[2])])\n",
    "    \n",
    "    #sort and return\n",
    "    return sorted(MENList, key = lambda x: x[2])\n",
    "            \n",
    "def ListNames (PairConcepts):\n",
    "    \"Given the list of pairs of concepts. It returns a list of the concept names without repetition\"\n",
    "    L = set([])\n",
    "    for x in PairConcepts:\n",
    "        L.add(x[0])\n",
    "        L.add(x[1])\n",
    "    return sorted(list(L))\n",
    "\n",
    "MENList = ListConcepts()\n",
    "MEN_sim = [x[2] for x in MENList]\n",
    "MEN_names = ListNames(MENList)\n",
    "\n",
    "#for x in MENList: print x"
   ]
  },
  {
   "cell_type": "markdown",
   "metadata": {},
   "source": [
    "### a) Visualizing dataset"
   ]
  },
  {
   "cell_type": "code",
   "execution_count": 57,
   "metadata": {},
   "outputs": [
    {
     "data": {
      "image/png": "[encoded data removed]",
      "text/plain": [
       "<matplotlib.figure.Figure at 0x78787390>"
      ]
     },
     "metadata": {},
     "output_type": "display_data"
    }
   ],
   "source": [
    "plt.rcParams[\"figure.figsize\"] = [12,8]\n",
    "plt.plot([x[2] for x in MENList], color='k', linestyle='-', marker='.', markersize=6, linewidth=.3 )  \n",
    "plt.xlim((0,94))\n",
    "plt.ylim((0,50))\n",
    "plt.xlabel('Pair number', fontsize=18)\n",
    "plt.ylabel('Semantic similarity', fontsize=18)\n",
    "plt.grid(True)\n",
    "plt.savefig('HumSim-MEN.png', dpi=300)"
   ]
  },
  {
   "cell_type": "markdown",
   "metadata": {},
   "source": [
    "### b) Encoding dataset"
   ]
  },
  {
   "cell_type": "code",
   "execution_count": 58,
   "metadata": {
    "scrolled": true
   },
   "outputs": [
    {
     "name": "stdout",
     "output_type": "stream",
     "text": [
      "Begining to encode dataset...\n",
      "End of encoding\n"
     ]
    }
   ],
   "source": [
    "%run EncodingDataset.ipynb\n",
    "\n",
    "Init_mem('normal', 30, MEN_names)"
   ]
  },
  {
   "cell_type": "markdown",
   "metadata": {},
   "source": [
    "### b) Measuring similarity"
   ]
  },
  {
   "cell_type": "code",
   "execution_count": 59,
   "metadata": {},
   "outputs": [
    {
     "name": "stdout",
     "output_type": "stream",
     "text": [
      "Starting...\n",
      "0 1 2 3 4 5 6 7 8 9 10 11 12 13 14 15 16 17 18 19 20 21 22 23 24 25 26 27 28 29 30 31 32 33 34 35 36 37 38 39 40 41 42 43 44 45 46 47 48 49 50 51 52 53 54 55 56 57 58 59 60 61 62 63 64 65 66 67 68 69 70 71 72 73 74 75 76 77 78 79 80 81 82 83 84 85 86 87 88 89 90 91 92 93 \n",
      "Done!\n"
     ]
    }
   ],
   "source": [
    "# Create list of distances for each method\n",
    "HD_sim_MEN = []; McRae_sim_MEN = []; WUP_sim_MEN = []; LCH_sim_MEN = []; RES_sim_MEN = []; JCN_sim_MEN = []\n",
    "\n",
    "# Loop over all pairs of concepts\n",
    "i = 0\n",
    "print \"Starting...\"\n",
    "for pair in MENList:\n",
    "    print i,\n",
    "    HD_sim_MEN.append(HDvector.dist(Dict[pair[0]].getPointer(), Dict[pair[1]].getPointer()))\n",
    "    McRae_sim_MEN.append( McRae_simi(pair[0:2]) )\n",
    "    WUP_sim_MEN.append(similarity_fun(wn.wup_similarity, pair[0:2]))\n",
    "    LCH_sim_MEN.append(similarity_fun(wn.lch_similarity, pair[0:2]))\n",
    "    RES_sim_MEN.append(similarity_fun(wn.res_similarity, pair[0:2], brown_ic))\n",
    "    JCN_sim_MEN.append(similarity_fun(wn.jcn_similarity, pair[0:2], brown_ic))\n",
    "    i += 1\n",
    "    \n",
    "#Max-min normalization to HD_sim...\n",
    "max_sim = float(max(HD_sim_MEN)); min_sim = float(min(HD_sim_MEN))\n",
    "HD_sim_MEN = map(lambda x: 1. - (float(x) - min_sim) / (max_sim - min_sim), HD_sim_MEN)\n",
    "\n",
    "print \"\\nDone!\""
   ]
  },
  {
   "cell_type": "markdown",
   "metadata": {},
   "source": [
    "### c) Computing correlation"
   ]
  },
  {
   "cell_type": "code",
   "execution_count": 60,
   "metadata": {},
   "outputs": [
    {
     "name": "stdout",
     "output_type": "stream",
     "text": [
      "Pearson's correlations:  [['McRae', 0.6727384420807737], ['HDC', 0.6652551165351566], ['lch', 0.5844039704293345], ['res', 0.5775416063712382], ['wup', 0.5570825420221547], ['jcn', 0.3172684840266299]]\n",
      "\n",
      "Spearman's correlations:  [['McRae', 0.7132252668679664], ['HDC', 0.6897952609672675], ['res', 0.5633450433165348], ['lch', 0.5626242436883293], ['wup', 0.5523130823096505], ['jcn', 0.3895479853119775]]\n"
     ]
    }
   ],
   "source": [
    "Pear_correlations = [['HDC', pearsonr(MEN_sim, HD_sim_MEN)[0]], ['McRae', pearsonr(MEN_sim, McRae_sim_MEN)[0]],\n",
    "                ['wup', pearsonr(MEN_sim, WUP_sim_MEN)[0]], ['lch', pearsonr(MEN_sim, LCH_sim_MEN)[0]],\n",
    "                ['res', pearsonr(MEN_sim, RES_sim_MEN)[0]], ['jcn', pearsonr(MEN_sim, JCN_sim_MEN)[0]]]\n",
    "\n",
    "Spear_correlations = [['HDC', spearmanr(MEN_sim, HD_sim_MEN)[0]], ['McRae', spearmanr(MEN_sim, McRae_sim_MEN)[0]],\n",
    "                ['wup', spearmanr(MEN_sim, WUP_sim_MEN)[0]], ['lch', spearmanr(MEN_sim, LCH_sim_MEN)[0]],\n",
    "                ['res', spearmanr(MEN_sim, RES_sim_MEN)[0]], ['jcn', spearmanr(MEN_sim, JCN_sim_MEN)[0]]]\n",
    "\n",
    "print \"Pearson's correlations: \", sorted(Pear_correlations, key = lambda x : x[1], reverse = True)\n",
    "print \"\\nSpearman's correlations: \", sorted(Spear_correlations, key = lambda x : x[1], reverse = True)"
   ]
  },
  {
   "cell_type": "markdown",
   "metadata": {},
   "source": [
    "### d) Plotting"
   ]
  },
  {
   "cell_type": "code",
   "execution_count": 61,
   "metadata": {},
   "outputs": [
    {
     "data": {
      "image/png": "[encoded data removed]",
      "text/plain": [
       "<matplotlib.figure.Figure at 0x5fd1cc50>"
      ]
     },
     "metadata": {},
     "output_type": "display_data"
    }
   ],
   "source": [
    "# Plotting\n",
    "plt.rcParams[\"figure.figsize\"] = [20,12]\n",
    "f_size = 18\n",
    "plt.subplots_adjust(hspace=0.4)\n",
    "\n",
    "plt.subplot(231)\n",
    "plt.plot(HD_sim_MEN, color='k', linestyle='None', marker='x', markersize=7, linewidth=1 )  \n",
    "plt.title('VSA', fontsize=f_size)\n",
    "plt.xlabel('Pair number', fontsize=f_size)\n",
    "plt.ylabel('Semantic similarity', fontsize=f_size)\n",
    "plt.grid(True)\n",
    "\n",
    "plt.subplot(232)\n",
    "plt.plot(McRae_sim_MEN, color='k', linestyle='None', marker='^', markersize=6, linewidth=1 )  \n",
    "plt.title('McRae', fontsize=f_size)\n",
    "plt.xlabel('Pair number', fontsize=f_size)\n",
    "plt.ylabel('Semantic similarity', fontsize=f_size)\n",
    "plt.grid(True)\n",
    "\n",
    "plt.subplot(233)\n",
    "plt.plot(LCH_sim_MEN, color='k', linestyle='None', marker='*', markersize=7, linewidth=1 )  \n",
    "plt.title('Leacock & Chodorow', fontsize=f_size)\n",
    "plt.xlabel('Pair number', fontsize=f_size)\n",
    "plt.ylabel('Semantic similarity', fontsize=f_size)\n",
    "plt.grid(True)\n",
    "\n",
    "plt.subplot(234)\n",
    "plt.plot(RES_sim_MEN, color='k', linestyle='None', marker='.', markersize=9, linewidth=1 )  \n",
    "plt.title('Resnik', fontsize=f_size)\n",
    "plt.xlabel('Pair number', fontsize=f_size)\n",
    "plt.ylabel('Semantic similarity', fontsize=f_size)\n",
    "plt.grid(True)\n",
    "\n",
    "plt.subplot(235)\n",
    "plt.plot(WUP_sim_MEN, color='k', linestyle='None', marker='.', markersize=8, linewidth=1 )  \n",
    "plt.title('Wu & Palmer', fontsize=f_size)\n",
    "plt.xlabel('Pair number', fontsize=f_size)\n",
    "plt.ylabel('Semantic similarity', fontsize=f_size)\n",
    "plt.grid(True)\n",
    "\n",
    "plt.subplot(236)\n",
    "plt.plot(JCN_sim_MEN, color='k', linestyle='None', marker='+', markersize=8, linewidth=1 )  \n",
    "plt.title('Jiang & Conrath', fontsize=f_size)\n",
    "plt.xlabel('Pair number', fontsize=f_size)\n",
    "plt.ylabel('Semantic similarity', fontsize=f_size)\n",
    "plt.grid(True)\n",
    "\n",
    "plt.savefig('SubPlots-MEN.png') #, dpi=1000)"
   ]
  },
  {
   "cell_type": "markdown",
   "metadata": {},
   "source": [
    "## Parameters for tests"
   ]
  },
  {
   "cell_type": "code",
   "execution_count": 62,
   "metadata": {},
   "outputs": [],
   "source": [
    "num_f = 30\n",
    "reps = 10"
   ]
  },
  {
   "cell_type": "markdown",
   "metadata": {},
   "source": [
    "### Mode: normal"
   ]
  },
  {
   "cell_type": "code",
   "execution_count": 63,
   "metadata": {},
   "outputs": [
    {
     "name": "stdout",
     "output_type": "stream",
     "text": [
      "0 Begining to encode dataset...\n",
      "End of encoding\n",
      "0.6649627027159318\n",
      "1 Begining to encode dataset...\n",
      "End of encoding\n",
      "0.67737954386571\n",
      "2 Begining to encode dataset...\n",
      "End of encoding\n",
      "0.704364792837314\n",
      "3 Begining to encode dataset...\n",
      "End of encoding\n",
      "0.69506357864587\n",
      "4 Begining to encode dataset...\n",
      "End of encoding\n",
      "0.667669773063789\n",
      "5 Begining to encode dataset...\n",
      "End of encoding\n",
      "0.72749790230892\n",
      "6 Begining to encode dataset...\n",
      "End of encoding\n",
      "0.700041539964626\n",
      "7 Begining to encode dataset...\n",
      "End of encoding\n",
      "0.658716887290131\n",
      "8 Begining to encode dataset...\n",
      "End of encoding\n",
      "0.6644203246808512\n",
      "9 Begining to encode dataset...\n",
      "End of encoding\n",
      "0.6845305591552941\n",
      "\n",
      "Spearman's correlation value:  [0.6649627027159318, 0.67737954386571, 0.704364792837314, 0.69506357864587, 0.667669773063789, 0.72749790230892, 0.700041539964626, 0.658716887290131, 0.6644203246808512, 0.6845305591552941]\n",
      "Mean value 0.6844647604528438\n"
     ]
    }
   ],
   "source": [
    "%run EncodingDataset.ipynb\n",
    "\n",
    "mode = 'normal'\n",
    "norm_corr = []\n",
    "\n",
    "for i in range(reps):\n",
    "    # Printing current mode\n",
    "    print i,\n",
    "    # Initialize memory\n",
    "    Init_mem( mode, num_f, MEN_names) \n",
    "    # Create list of distances\n",
    "    HD_MEN = []\n",
    "    # Loop over all pairs of concepts\n",
    "    for pair in MENList:\n",
    "        HD_MEN.append(HDvector.dist(Dict[pair[0]].getPointer(), Dict[pair[1]].getPointer()))\n",
    "    \n",
    "    # Min-max Normalization...\n",
    "    max_sim = float(max(HD_MEN)); min_sim = float(min(HD_MEN))\n",
    "    HD_MEN = map(lambda x: 1. - (float(x) - min_sim) / (max_sim - min_sim), HD_MEN)\n",
    "    \n",
    "    corr = spearmanr(MEN_sim, HD_MEN)[0]\n",
    "    print corr\n",
    "    norm_corr.append(corr)\n",
    "    \n",
    "print \"\\nSpearman's correlation value: \", norm_corr\n",
    "print \"Mean value\", sum(norm_corr) / len(norm_corr)"
   ]
  },
  {
   "cell_type": "markdown",
   "metadata": {},
   "source": [
    "## Exploring some characteristics of the MEN dataset"
   ]
  },
  {
   "cell_type": "markdown",
   "metadata": {},
   "source": [
    "### Distribution of Prod_Freq values in MEN\n",
    "\n",
    "Since we are going to weight features based on the Prod_Freq value we have to have an idea of how the prod_freq values are distributed"
   ]
  },
  {
   "cell_type": "code",
   "execution_count": 64,
   "metadata": {},
   "outputs": [],
   "source": [
    "df = pd.read_excel( pathh + 'CONCS_FEATS_concstats_brm.xlsx')\n",
    "\n",
    "# Extracting only relevant columns (from concepts in MEN)\n",
    "NewDF = df[df['Concept'].isin(MEN_names)]\n",
    "Newnew= NewDF[['Concept','Feature','Prod_Freq']]\n",
    "#Newnew"
   ]
  },
  {
   "cell_type": "code",
   "execution_count": 65,
   "metadata": {},
   "outputs": [
    {
     "data": {
      "text/plain": [
       "<matplotlib.axes._subplots.AxesSubplot at 0x63724e10>"
      ]
     },
     "execution_count": 65,
     "metadata": {},
     "output_type": "execute_result"
    },
    {
     "data": {
      "image/png": "[encoded data removed]",
      "text/plain": [
       "<matplotlib.figure.Figure at 0x63731780>"
      ]
     },
     "metadata": {},
     "output_type": "display_data"
    }
   ],
   "source": [
    "# Plotting distribution (x-axis is the Production Frequency value)\n",
    "Freq = Newnew['Prod_Freq'].value_counts().sort_index()\n",
    "#print Freq.sort_values()\n",
    "Freq.plot('bar')"
   ]
  },
  {
   "cell_type": "markdown",
   "metadata": {},
   "source": [
    "From the previous analysis I decided to weight each feature according to the following rules:\n",
    "\n",
    "|Prod_Freq| Weight |\n",
    "| ----- | ----- |\n",
    "|13-30|2|\n",
    "|5-12|1|\n",
    "\n",
    "*The correlation do not increases if we divide into more weights"
   ]
  },
  {
   "cell_type": "markdown",
   "metadata": {},
   "source": [
    "## Testing weighted HDC representations\n",
    "\n",
    "Here we find the correlation between the similarity values obtained from the HDC weighted representations and the dataset."
   ]
  },
  {
   "cell_type": "code",
   "execution_count": 66,
   "metadata": {
    "scrolled": false
   },
   "outputs": [
    {
     "name": "stdout",
     "output_type": "stream",
     "text": [
      "0 Begining to encode dataset...\n",
      "End of encoding\n",
      "0.7246512171425438\n",
      "1 Begining to encode dataset...\n",
      "End of encoding\n",
      "0.7096257259780344\n",
      "2 Begining to encode dataset...\n",
      "End of encoding\n",
      "0.7152261703351558\n",
      "3 Begining to encode dataset...\n",
      "End of encoding\n",
      "0.6916802447240014\n",
      "4 Begining to encode dataset...\n",
      "End of encoding\n",
      "0.7082976505083854\n",
      "5 Begining to encode dataset...\n",
      "End of encoding\n",
      "0.72541353804324\n",
      "6 Begining to encode dataset...\n",
      "End of encoding\n",
      "0.6874521793916091\n",
      "7 Begining to encode dataset...\n",
      "End of encoding\n",
      "0.7059328737329523\n",
      "8 Begining to encode dataset...\n",
      "End of encoding\n",
      "0.7341231338958409\n",
      "9 Begining to encode dataset...\n",
      "End of encoding\n",
      "0.727068603586226\n",
      "\n",
      "Spearman's correlation value:  [0.7246512171425438, 0.7096257259780344, 0.7152261703351558, 0.6916802447240014, 0.7082976505083854, 0.72541353804324, 0.6874521793916091, 0.7059328737329523, 0.7341231338958409, 0.727068603586226]\n",
      "Mean value 0.712947133733799\n"
     ]
    }
   ],
   "source": [
    "%run EncodingDataset.ipynb\n",
    "\n",
    "mode = 'Prod_Freq'\n",
    "norm_corr = []\n",
    "\n",
    "# List of similarity values from dataset...\n",
    "for i in range (reps):\n",
    "    print i,\n",
    "    # Initialize memory\n",
    "    Init_mem( mode, num_f, MEN_names) \n",
    "    # Create list of distances\n",
    "    HD_MEN = []\n",
    "    # Loop over all pairs of concepts\n",
    "    for pair in MENList:\n",
    "        HD_MEN.append(HDvector.dist(Dict[pair[0]].getPointer(), Dict[pair[1]].getPointer()))\n",
    "    \n",
    "    # Min-max Normalization...\n",
    "    max_sim = float(max(HD_MEN)); min_sim = float(min(HD_MEN))\n",
    "    HD_MEN = map(lambda x: 1. - (float(x) - min_sim) / (max_sim - min_sim), HD_MEN)\n",
    "    \n",
    "    corr = spearmanr(MEN_sim, HD_MEN)[0]\n",
    "    print corr\n",
    "    norm_corr.append(corr)\n",
    "    \n",
    "print \"\\nSpearman's correlation value: \", norm_corr\n",
    "print \"Mean value\", sum(norm_corr) / len(norm_corr)"
   ]
  },
  {
   "cell_type": "markdown",
   "metadata": {},
   "source": [
    "## Distribution of Inter_corr_tax values in MEN\n",
    "\n",
    "Since we are going to weight features based on the Inter_corr_str_tax value we have to have an idea of how the values are distributed"
   ]
  },
  {
   "cell_type": "code",
   "execution_count": 67,
   "metadata": {},
   "outputs": [],
   "source": [
    "df = pd.read_excel( pathh + 'CONCS_FEATS_concstats_brm.xlsx')\n",
    "\n",
    "# Extracting only relevant columns (from concepts in MEN)\n",
    "NewDF = df[df['Concept'].isin(MEN_names)]\n",
    "Newnew= NewDF[['Concept','Feature','Intercorr_Str_Tax']]\n",
    "#Newnew"
   ]
  },
  {
   "cell_type": "code",
   "execution_count": 68,
   "metadata": {},
   "outputs": [],
   "source": [
    "# Plotting distribution (x-axis is the Production Frequency value)\n",
    "Newnew = Newnew.round()\n",
    "Intercorr = Newnew['Intercorr_Str_Tax'].value_counts().sort_index()\n",
    "#print Intercorr"
   ]
  },
  {
   "cell_type": "code",
   "execution_count": 69,
   "metadata": {},
   "outputs": [
    {
     "name": "stdout",
     "output_type": "stream",
     "text": [
      "\n",
      "\n",
      "0\n",
      "Mode: Intercorr_str_tax   Number of features: 30\n",
      "Begining to encode dataset...\n",
      "End of encoding\n",
      "0.7065241737610208\n",
      "\n",
      "\n",
      "1\n",
      "Mode: Intercorr_str_tax   Number of features: 30\n",
      "Begining to encode dataset...\n",
      "End of encoding\n",
      "0.7018820227274177\n",
      "\n",
      "\n",
      "2\n",
      "Mode: Intercorr_str_tax   Number of features: 30\n",
      "Begining to encode dataset...\n",
      "End of encoding\n",
      "0.6693523489465173\n",
      "\n",
      "\n",
      "3\n",
      "Mode: Intercorr_str_tax   Number of features: 30\n",
      "Begining to encode dataset...\n",
      "End of encoding\n",
      "0.6984595528147496\n",
      "\n",
      "\n",
      "4\n",
      "Mode: Intercorr_str_tax   Number of features: 30\n",
      "Begining to encode dataset...\n",
      "End of encoding\n",
      "0.7108298052159132\n",
      "\n",
      "\n",
      "5\n",
      "Mode: Intercorr_str_tax   Number of features: 30\n",
      "Begining to encode dataset...\n",
      "End of encoding\n",
      "0.6990232963752376\n",
      "\n",
      "\n",
      "6\n",
      "Mode: Intercorr_str_tax   Number of features: 30\n",
      "Begining to encode dataset...\n",
      "End of encoding\n",
      "0.7201432295853253\n",
      "\n",
      "\n",
      "7\n",
      "Mode: Intercorr_str_tax   Number of features: 30\n",
      "Begining to encode dataset...\n",
      "End of encoding\n",
      "0.6929288269423062\n",
      "\n",
      "\n",
      "8\n",
      "Mode: Intercorr_str_tax   Number of features: 30\n",
      "Begining to encode dataset...\n",
      "End of encoding\n",
      "0.714139347347257\n",
      "\n",
      "\n",
      "9\n",
      "Mode: Intercorr_str_tax   Number of features: 30\n",
      "Begining to encode dataset...\n",
      "End of encoding\n",
      "0.6849172660653983\n",
      "\n",
      "Spearman's correlation value:  [0.7065241737610208, 0.7018820227274177, 0.6693523489465173, 0.6984595528147496, 0.7108298052159132, 0.6990232963752376, 0.7201432295853253, 0.6929288269423062, 0.714139347347257, 0.6849172660653983]\n",
      "Mean value 0.6998199869781143\n"
     ]
    }
   ],
   "source": [
    "%run EncodingDataset.ipynb\n",
    "\n",
    "mode = 'Intercorr_str_tax'\n",
    "norm_corr = []\n",
    "\n",
    "# List of similarity values from dataset...\n",
    "for i in range(reps):\n",
    "    print \"\\n\\n\",i\n",
    "    # Printing current mode\n",
    "    print \"Mode:\", mode, \"  Number of features:\", num_f\n",
    "    # Initialize memory\n",
    "    Init_mem( mode, num_f, MEN_names) \n",
    "    # Create list of distances\n",
    "    HD_MEN = []\n",
    "    # Loop over all pairs of concepts\n",
    "    for pair in MENList:\n",
    "        HD_MEN.append(HDvector.dist(Dict[pair[0]].getPointer(), Dict[pair[1]].getPointer()))\n",
    "    \n",
    "    # Min-max Normalization...\n",
    "    max_sim = float(max(HD_MEN)); min_sim = float(min(HD_MEN))\n",
    "    HD_MEN = map(lambda x: 1. - (float(x) - min_sim) / (max_sim - min_sim), HD_MEN)\n",
    "    \n",
    "    \n",
    "    corr = spearmanr(MEN_sim, HD_MEN)[0]\n",
    "    print corr\n",
    "    norm_corr.append(corr)\n",
    "    \n",
    "print \"\\nSpearman's correlation value: \", norm_corr\n",
    "print \"Mean value\", sum(norm_corr) / len(norm_corr)"
   ]
  },
  {
   "cell_type": "markdown",
   "metadata": {},
   "source": [
    "## No_Tax...."
   ]
  },
  {
   "cell_type": "code",
   "execution_count": 70,
   "metadata": {},
   "outputs": [
    {
     "name": "stdout",
     "output_type": "stream",
     "text": [
      "0\n",
      "\n",
      "\n",
      "Mode: Intercorr_str_No_tax   Number of features: 30\n",
      "Begining to encode dataset...\n",
      "End of encoding\n",
      "0.7158124514315203\n",
      "1\n",
      "\n",
      "\n",
      "Mode: Intercorr_str_No_tax   Number of features: 30\n",
      "Begining to encode dataset...\n",
      "End of encoding\n",
      "0.6700634767722548\n",
      "2\n",
      "\n",
      "\n",
      "Mode: Intercorr_str_No_tax   Number of features: 30\n",
      "Begining to encode dataset...\n",
      "End of encoding\n",
      "0.703177972157417\n",
      "3\n",
      "\n",
      "\n",
      "Mode: Intercorr_str_No_tax   Number of features: 30\n",
      "Begining to encode dataset...\n",
      "End of encoding\n",
      "0.6881984041692515\n",
      "4\n",
      "\n",
      "\n",
      "Mode: Intercorr_str_No_tax   Number of features: 30\n",
      "Begining to encode dataset...\n",
      "End of encoding\n",
      "0.6903120806115944\n",
      "5\n",
      "\n",
      "\n",
      "Mode: Intercorr_str_No_tax   Number of features: 30\n",
      "Begining to encode dataset...\n",
      "End of encoding\n",
      "0.6840460330269944\n",
      "6\n",
      "\n",
      "\n",
      "Mode: Intercorr_str_No_tax   Number of features: 30\n",
      "Begining to encode dataset...\n",
      "End of encoding\n",
      "0.6836048972982439\n",
      "7\n",
      "\n",
      "\n",
      "Mode: Intercorr_str_No_tax   Number of features: 30\n",
      "Begining to encode dataset...\n",
      "End of encoding\n",
      "0.7022559161744268\n",
      "8\n",
      "\n",
      "\n",
      "Mode: Intercorr_str_No_tax   Number of features: 30\n",
      "Begining to encode dataset...\n",
      "End of encoding\n",
      "0.6674889817569721\n",
      "9\n",
      "\n",
      "\n",
      "Mode: Intercorr_str_No_tax   Number of features: 30\n",
      "Begining to encode dataset...\n",
      "End of encoding\n",
      "0.6887188606524616\n",
      "\n",
      "Spearman's correlation value:  [0.7158124514315203, 0.6700634767722548, 0.703177972157417, 0.6881984041692515, 0.6903120806115944, 0.6840460330269944, 0.6836048972982439, 0.7022559161744268, 0.6674889817569721, 0.6887188606524616]\n",
      "Mean value 0.6893679074051137\n"
     ]
    }
   ],
   "source": [
    "%run EncodingDataset.ipynb\n",
    "\n",
    "mode = 'Intercorr_str_No_tax'\n",
    "norm_corr = []\n",
    "\n",
    "# List of similarity values from dataset...\n",
    "for i in range(reps):\n",
    "    print i\n",
    "    # Printing current mode\n",
    "    print \"\\n\\nMode:\", mode, \"  Number of features:\", num_f\n",
    "    # Initialize memory\n",
    "    Init_mem( mode, num_f, MEN_names) \n",
    "    # Create list of distances\n",
    "    HD_MEN = []\n",
    "    # Loop over all pairs of concepts\n",
    "    for pair in MENList:\n",
    "        HD_MEN.append(HDvector.dist(Dict[pair[0]].getPointer(), Dict[pair[1]].getPointer()))\n",
    "    \n",
    "    # Min-max Normalization...\n",
    "    max_sim = float(max(HD_MEN)); min_sim = float(min(HD_MEN))\n",
    "    HD_MEN = map(lambda x: 1. - (float(x) - min_sim) / (max_sim - min_sim), HD_MEN)    \n",
    "    \n",
    "    \n",
    "    corr = spearmanr(MEN_sim, HD_MEN)[0]\n",
    "    print corr\n",
    "    norm_corr.append(corr)\n",
    "    \n",
    "print \"\\nSpearman's correlation value: \", norm_corr\n",
    "print \"Mean value\", sum(norm_corr) / len(norm_corr)"
   ]
  },
  {
   "cell_type": "markdown",
   "metadata": {},
   "source": [
    "## Combining methods..."
   ]
  },
  {
   "cell_type": "code",
   "execution_count": 71,
   "metadata": {},
   "outputs": [
    {
     "name": "stdout",
     "output_type": "stream",
     "text": [
      "\n",
      "\n",
      "0\n",
      "Begining to encode dataset...\n",
      "End of encoding\n",
      "0.7003065852580687\n",
      "\n",
      "\n",
      "1\n",
      "Begining to encode dataset...\n",
      "End of encoding\n",
      "0.7068191893137744\n",
      "\n",
      "\n",
      "2\n",
      "Begining to encode dataset...\n",
      "End of encoding\n",
      "0.6967944800019799\n",
      "\n",
      "\n",
      "3\n",
      "Begining to encode dataset...\n",
      "End of encoding\n",
      "0.6740120758484011\n",
      "\n",
      "\n",
      "4\n",
      "Begining to encode dataset...\n",
      "End of encoding\n",
      "0.7035113175958926\n",
      "\n",
      "\n",
      "5\n",
      "Begining to encode dataset...\n",
      "End of encoding\n",
      "0.7143568076618603\n",
      "\n",
      "\n",
      "6\n",
      "Begining to encode dataset...\n",
      "End of encoding\n",
      "0.6953937263375197\n",
      "\n",
      "\n",
      "7\n",
      "Begining to encode dataset...\n",
      "End of encoding\n",
      "0.6605790586041188\n",
      "\n",
      "\n",
      "8\n",
      "Begining to encode dataset...\n",
      "End of encoding\n",
      "0.6536026486510369\n",
      "\n",
      "\n",
      "9\n",
      "Begining to encode dataset...\n",
      "End of encoding\n",
      "0.68439201266136\n",
      "\n",
      "Spearman's correlation value:  [0.7003065852580687, 0.7068191893137744, 0.6967944800019799, 0.6740120758484011, 0.7035113175958926, 0.7143568076618603, 0.6953937263375197, 0.6605790586041188, 0.6536026486510369, 0.68439201266136]\n",
      "Mean value 0.6889767901934013\n"
     ]
    }
   ],
   "source": [
    "%run EncodingDataset.ipynb\n",
    "\n",
    "mode = 'Intercorr_PF'\n",
    "norm_corr = []\n",
    "\n",
    "for i in range(reps):\n",
    "    # Printing current mode\n",
    "    print \"\\n\\n\",i\n",
    "    # Initialize memory\n",
    "    Init_mem( mode, num_f, MEN_names) \n",
    "    # Create list of distances\n",
    "    HD_MEN = []\n",
    "    # Loop over all pairs of concepts\n",
    "    for pair in MENList:\n",
    "        HD_MEN.append(HDvector.dist(Dict[pair[0]].getPointer(), Dict[pair[1]].getPointer()))\n",
    "    \n",
    "    # Min-max Normalization...\n",
    "    max_sim = float(max(HD_MEN)); min_sim = float(min(HD_MEN))\n",
    "    HD_MEN = map(lambda x: 1. - (float(x) - min_sim) / (max_sim - min_sim), HD_MEN)\n",
    "    \n",
    "    \n",
    "    corr = spearmanr(MEN_sim, HD_MEN)[0]\n",
    "    print corr\n",
    "    norm_corr.append(corr)\n",
    "    \n",
    "print \"\\nSpearman's correlation value: \", norm_corr\n",
    "print \"Mean value\", sum(norm_corr) / len(norm_corr)"
   ]
  },
  {
   "cell_type": "markdown",
   "metadata": {},
   "source": [
    "### Combining with Intercorr_No_Tax... "
   ]
  },
  {
   "cell_type": "code",
   "execution_count": 72,
   "metadata": {},
   "outputs": [
    {
     "name": "stdout",
     "output_type": "stream",
     "text": [
      "\n",
      "\n",
      "0\n",
      "Begining to encode dataset...\n",
      "End of encoding\n",
      "0.6992377247451514\n",
      "\n",
      "\n",
      "1\n",
      "Begining to encode dataset...\n",
      "End of encoding\n",
      "0.7043976037041455\n",
      "\n",
      "\n",
      "2\n",
      "Begining to encode dataset...\n",
      "End of encoding\n",
      "0.6944294007520666\n",
      "\n",
      "\n",
      "3\n",
      "Begining to encode dataset...\n",
      "End of encoding\n",
      "0.6891828161786632\n",
      "\n",
      "\n",
      "4\n",
      "Begining to encode dataset...\n",
      "End of encoding\n",
      "0.7109336172810012\n",
      "\n",
      "\n",
      "5\n",
      "Begining to encode dataset...\n",
      "End of encoding\n",
      "0.6800625072125752\n",
      "\n",
      "\n",
      "6\n",
      "Begining to encode dataset...\n",
      "End of encoding\n",
      "0.6786982897854807\n",
      "\n",
      "\n",
      "7\n",
      "Begining to encode dataset...\n",
      "End of encoding\n",
      "0.7130329001525902\n",
      "\n",
      "\n",
      "8\n",
      "Begining to encode dataset...\n",
      "End of encoding\n",
      "0.7039622264200913\n",
      "\n",
      "\n",
      "9\n",
      "Begining to encode dataset...\n",
      "End of encoding\n",
      "0.6983988376263801\n",
      "\n",
      "Spearman's correlation value:  [0.6992377247451514, 0.7043976037041455, 0.6944294007520666, 0.6891828161786632, 0.7109336172810012, 0.6800625072125752, 0.6786982897854807, 0.7130329001525902, 0.7039622264200913, 0.6983988376263801]\n",
      "Mean value 0.6972335923858145\n"
     ]
    }
   ],
   "source": [
    "%run EncodingDataset.ipynb\n",
    "\n",
    "mode = 'Intercorr_NoT_PF'\n",
    "norm_corr = []\n",
    "\n",
    "for i in range(reps):\n",
    "    # Printing current mode\n",
    "    print \"\\n\\n\",i\n",
    "    # Initialize memory\n",
    "    Init_mem( mode, num_f, MEN_names) \n",
    "    # Create list of distances\n",
    "    HD_MEN = []\n",
    "    # Loop over all pairs of concepts\n",
    "    for pair in MENList:\n",
    "        HD_MEN.append(HDvector.dist(Dict[pair[0]].getPointer(), Dict[pair[1]].getPointer()))\n",
    "    \n",
    "    # Min-max Normalization...\n",
    "    max_sim = float(max(HD_MEN)); min_sim = float(min(HD_MEN))\n",
    "    HD_MEN = map(lambda x: 1. - (float(x) - min_sim) / (max_sim - min_sim), HD_MEN)\n",
    "    \n",
    "    \n",
    "    corr = spearmanr(MEN_sim, HD_MEN)[0]\n",
    "    print corr\n",
    "    norm_corr.append(corr)\n",
    "    \n",
    "print \"\\nSpearman's correlation value: \", norm_corr\n",
    "print \"Mean value\", sum(norm_corr) / len(norm_corr)"
   ]
  }
 ],
 "metadata": {
  "kernelspec": {
   "display_name": "Python 2",
   "language": "python",
   "name": "python2"
  }
 },
 "nbformat": 4,
 "nbformat_minor": 2
}

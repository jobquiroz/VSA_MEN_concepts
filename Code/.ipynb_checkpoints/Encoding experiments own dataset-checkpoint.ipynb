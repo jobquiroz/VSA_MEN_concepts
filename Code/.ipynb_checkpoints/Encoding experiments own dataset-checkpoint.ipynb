{
 "cells": [
  {
   "cell_type": "markdown",
   "metadata": {},
   "source": [
    "# Experiments\n",
    "\n",
    "In this notebook we perform different ways to encode the concepts' features based on *Rank_PF*, *Disting*, and *Intercorr_str_tax*. \n",
    "This notebooks uses the MEN dataset... \n",
    "\n",
    "## Header\n",
    "\n",
    "Libraries and additional programs"
   ]
  },
  {
   "cell_type": "code",
   "execution_count": 8,
   "metadata": {},
   "outputs": [],
   "source": [
    "import matplotlib\n",
    "import matplotlib.pyplot as plt\n",
    "import pandas as pd\n",
    "import numpy as np\n",
    "import random\n",
    "from scipy.stats.stats import pearsonr\n",
    "from scipy.stats.stats import spearmanr\n",
    "\n",
    "%matplotlib inline\n",
    "\n",
    "pathh = '../Data/' \n",
    "exp_file = '../Data/ExperimentalResults.xlsx'   "
   ]
  },
  {
   "cell_type": "markdown",
   "metadata": {},
   "source": [
    "## Our own benchmark\n",
    "\n",
    "As part of our research we created a semantic similarity benchmark. It consists of 64 pairs of concepts, each of which was manually rated by humans. 0 for non similar at all and 10 for 'the same concept'."
   ]
  },
  {
   "cell_type": "code",
   "execution_count": 2,
   "metadata": {},
   "outputs": [],
   "source": [
    "def ListConcepts ():\n",
    "    \"Read an excel file and returns a list of pairs of concepts with its similarity value (according to humans)\"\n",
    "    df = pd.read_excel(exp_file)\n",
    "    concepts_sim = df[['concept 1','concept 2', 'Q1']]\n",
    "    concepts_sim = concepts_sim.values.tolist() #converting to list...\n",
    "    concepts_sim = list(map(lambda x: [str(x[0]), str(x[1]), x[2]], concepts_sim))\n",
    "    return concepts_sim\n",
    "\n",
    "def ListNames (PairConcepts):\n",
    "    \"Given the list of pairs of concepts. It returns a list of the concept names without repetition\"\n",
    "    L = set([])\n",
    "    for x in PairConcepts:\n",
    "        L.add(x[0])\n",
    "        L.add(x[1])\n",
    "    return sorted(list(L))\n",
    "\n",
    "Concepts_benchmark = ListConcepts()\n",
    "# Sorting by similarity x[2]\n",
    "Concepts_benchmark = sorted(Concepts_benchmark, key = lambda x : x[2])\n",
    "\n",
    "concepts_pairs = [x[:2] for x in Concepts_benchmark]\n",
    "concepts_sim = [x[2] for x in Concepts_benchmark]\n",
    "concepts_names = ListNames(concepts_pairs)"
   ]
  },
  {
   "cell_type": "markdown",
   "metadata": {},
   "source": [
    "### a) Visualizing dataset"
   ]
  },
  {
   "cell_type": "code",
   "execution_count": 3,
   "metadata": {},
   "outputs": [
    {
     "data": {
      "image/png": "[encoded data removed]",
      "text/plain": [
       "<matplotlib.figure.Figure at 0xbedc4a8>"
      ]
     },
     "metadata": {},
     "output_type": "display_data"
    }
   ],
   "source": [
    "# Plotting\n",
    "x = np.array(range(64))\n",
    "plt.rcParams[\"figure.figsize\"] = [12,8]\n",
    "plt.plot(concepts_sim, color='k', linestyle='-', marker='.', markersize=6, linewidth=.3 )  \n",
    "plt.xlim((0,64))\n",
    "plt.xlabel('Pair number', fontsize=18)\n",
    "plt.ylabel('Semantic similarity', fontsize=18)\n",
    "plt.grid(True)\n",
    "plt.savefig('HumSim.png', dpi=300)"
   ]
  },
  {
   "cell_type": "markdown",
   "metadata": {},
   "source": [
    "### b) Encoding dataset"
   ]
  },
  {
   "cell_type": "code",
   "execution_count": 4,
   "metadata": {
    "scrolled": true
   },
   "outputs": [
    {
     "name": "stdout",
     "output_type": "stream",
     "text": [
      "Begining to encode dataset...\n",
      "End of encoding\n"
     ]
    }
   ],
   "source": [
    "%run EncodingDataset.ipynb\n",
    "Init_mem('normal', 30, concepts_names)"
   ]
  },
  {
   "cell_type": "markdown",
   "metadata": {},
   "source": [
    "### b) Measuring similarity"
   ]
  },
  {
   "cell_type": "code",
   "execution_count": 5,
   "metadata": {},
   "outputs": [
    {
     "name": "stdout",
     "output_type": "stream",
     "text": [
      "Starting...\n",
      "0 1 2 3 4 5 6 7 8 9 10 11 12 13 14 15 16 17 18 19 20 21 22 23 24 25 26 27 28 29 30 31 32 33 34 35 36 37 38 39 40 41 42 43 44 45 46 47 48 49 50 51 52 53 54 55 56 57 58 59 60 61 62 63 \n",
      "Done!\n"
     ]
    }
   ],
   "source": [
    "# Create dictionary of distances for each method\n",
    "HD_sim = []; McRae_sim = []; WUP_sim = []; LCH_sim = []; Res_sim = []; JCN_sim = []\n",
    "\n",
    "# Loop over all pairs of concepts\n",
    "i = 0\n",
    "print \"Starting...\"\n",
    "for pair in concepts_pairs:\n",
    "    print i,\n",
    "    HD_sim.append(1. - HDvector.dist(Dict[pair[0]].getPointer(), Dict[pair[1]].getPointer()) / float(N))\n",
    "    McRae_sim.append( McRae_simi(pair) )\n",
    "    WUP_sim.append(similarity_fun(wn.wup_similarity, pair))\n",
    "    LCH_sim.append(similarity_fun(wn.lch_similarity, pair))\n",
    "    Res_sim.append(similarity_fun(wn.res_similarity, pair, brown_ic))\n",
    "    JCN_sim.append(similarity_fun(wn.jcn_similarity, pair, brown_ic))\n",
    "    i += 1\n",
    "print \"\\nDone!\""
   ]
  },
  {
   "cell_type": "markdown",
   "metadata": {},
   "source": [
    "### c) Computing correlation"
   ]
  },
  {
   "cell_type": "code",
   "execution_count": 9,
   "metadata": {},
   "outputs": [
    {
     "name": "stdout",
     "output_type": "stream",
     "text": [
      "[['HDC', 0.713312824965933], ['McRae', 0.6579291336168837], ['res', 0.6407738417122745], ['jcn', 0.6132415801404194], ['lch', 0.5237371792119226], ['wup', 0.5024104680950027]]\n",
      "[['HDC', 0.6728178127715584], ['McRae', 0.6533871509076683], ['res', 0.5897789489287083], ['wup', 0.4887162140959692], ['lch', 0.45686237334824603], ['jcn', 0.4372123405725489]]\n"
     ]
    }
   ],
   "source": [
    "Pear_correlations = [['HDC', pearsonr(concepts_sim, HD_sim)[0]], ['McRae', pearsonr(concepts_sim, McRae_sim)[0]],\n",
    "                ['wup', pearsonr(concepts_sim, WUP_sim)[0]], ['lch', pearsonr(concepts_sim, LCH_sim)[0]],\n",
    "                ['res', pearsonr(concepts_sim, Res_sim)[0]], ['jcn', pearsonr(concepts_sim, JCN_sim)[0]]]\n",
    "\n",
    "Spear_correlations = [['HDC', spearmanr(concepts_sim, HD_sim)[0]], ['McRae', spearmanr(concepts_sim, McRae_sim)[0]],\n",
    "                ['wup', spearmanr(concepts_sim, WUP_sim)[0]], ['lch', spearmanr(concepts_sim, LCH_sim)[0]],\n",
    "                ['res', spearmanr(concepts_sim, Res_sim)[0]], ['jcn', spearmanr(concepts_sim, JCN_sim)[0]]]\n",
    "\n",
    "\n",
    "Pear_correlations = sorted(Pear_correlations, key = lambda x : x[1], reverse = True)\n",
    "Spear_correlations = sorted(Spear_correlations, key = lambda x : x[1], reverse = True)\n",
    "\n",
    "print Pear_correlations\n",
    "print Spear_correlations"
   ]
  },
  {
   "cell_type": "markdown",
   "metadata": {},
   "source": [
    "### d) Plotting"
   ]
  },
  {
   "cell_type": "code",
   "execution_count": 10,
   "metadata": {},
   "outputs": [
    {
     "data": {
      "image/png": "[encoded data removed]",
      "text/plain": [
       "<matplotlib.figure.Figure at 0x7a241d30>"
      ]
     },
     "metadata": {},
     "output_type": "display_data"
    }
   ],
   "source": [
    "# Plotting\n",
    "plt.rcParams[\"figure.figsize\"] = [20,12]\n",
    "f_size = 18\n",
    "\n",
    "plt.subplots_adjust(hspace=0.4)\n",
    "plt.subplot(231)\n",
    "plt.plot(HD_sim, color='k', linestyle='None', marker='x', markersize=7, linewidth=1 )  \n",
    "\n",
    "plt.title('VSA', fontsize=f_size)\n",
    "plt.xlabel('Pair number', fontsize=f_size)\n",
    "plt.ylabel('Semantic similarity', fontsize=f_size)\n",
    "plt.grid(True)\n",
    "\n",
    "plt.subplot(232)\n",
    "plt.plot(Res_sim, color='k', linestyle='None', marker='.', markersize=9, linewidth=1 )  \n",
    "plt.title('Resnik', fontsize=f_size)\n",
    "plt.xlabel('Pair number', fontsize=f_size)\n",
    "plt.ylabel('Semantic similarity', fontsize=f_size)\n",
    "plt.grid(True)\n",
    "\n",
    "plt.subplot(233)\n",
    "plt.plot(McRae_sim, color='k', linestyle='None', marker='^', markersize=6, linewidth=1 )  \n",
    "plt.title('McRae', fontsize=f_size)\n",
    "plt.xlabel('Pair number', fontsize=f_size)\n",
    "plt.ylabel('Semantic similarity', fontsize=f_size)\n",
    "plt.grid(True)\n",
    "\n",
    "plt.subplot(234)\n",
    "plt.plot(JCN_sim, color='k', linestyle='None', marker='+', markersize=8, linewidth=1 )  \n",
    "plt.title('Jiang & Conrath', fontsize=f_size)\n",
    "plt.xlabel('Pair number', fontsize=f_size)\n",
    "plt.ylabel('Semantic similarity', fontsize=f_size)\n",
    "plt.grid(True)\n",
    "\n",
    "plt.subplot(235)\n",
    "plt.plot(LCH_sim, color='k', linestyle='None', marker='*', markersize=7, linewidth=1 )  \n",
    "plt.title('Leacock & Chodorow', fontsize=f_size)\n",
    "plt.xlabel('Pair number', fontsize=f_size)\n",
    "plt.ylabel('Semantic similarity', fontsize=f_size)\n",
    "plt.grid(True)\n",
    "\n",
    "plt.subplot(236)\n",
    "plt.plot(WUP_sim, color='k', linestyle='None', marker='.', markersize=8, linewidth=1 )  \n",
    "plt.title('Wu & Palmer', fontsize=f_size)\n",
    "plt.xlabel('Pair number', fontsize=f_size)\n",
    "plt.ylabel('Semantic similarity', fontsize=f_size)\n",
    "plt.grid(True)\n",
    "\n",
    "\n",
    "plt.savefig('SubPlots.png') #, dpi=1000)"
   ]
  },
  {
   "cell_type": "markdown",
   "metadata": {},
   "source": [
    "### Normal..."
   ]
  },
  {
   "cell_type": "code",
   "execution_count": 19,
   "metadata": {},
   "outputs": [
    {
     "name": "stdout",
     "output_type": "stream",
     "text": [
      "\n",
      "\n",
      "0\n",
      "Begining to encode dataset...\n",
      "End of encoding\n",
      "   Spearman's correlation value:  0.6978695637699281\n",
      "\n",
      "\n",
      "1\n",
      "Begining to encode dataset...\n",
      "End of encoding\n",
      "   Spearman's correlation value:  0.7006811291408029\n",
      "\n",
      "\n",
      "2\n",
      "Begining to encode dataset...\n",
      "End of encoding\n",
      "   Spearman's correlation value:  0.695254994400038\n",
      "\n",
      "\n",
      "3\n",
      "Begining to encode dataset...\n",
      "End of encoding\n",
      "   Spearman's correlation value:  0.7039551260518975\n",
      "\n",
      "\n",
      "4\n",
      "Begining to encode dataset...\n",
      "End of encoding\n",
      "   Spearman's correlation value:  0.7254078190987191\n"
     ]
    }
   ],
   "source": [
    "%run EncodingDataset.ipynb\n",
    "\n",
    "num_f = 30\n",
    "mode = 'normal'\n",
    "\n",
    "for i in range(5):\n",
    "    # Printing current mode\n",
    "    print \"\\n\\n\",i\n",
    "    # Initialize memory\n",
    "    Init_mem( mode, num_f, concepts_names) \n",
    "    # Create list of distances\n",
    "    HD_sim = []\n",
    "    # Loop over all pairs of concepts\n",
    "    for pair in concepts_pairs:\n",
    "        HD_sim.append(1. - HDvector.dist(Dict[pair[0]].getPointer(), Dict[pair[1]].getPointer()) / float(N))\n",
    "        \n",
    "#    pear_correlation= pearsonr(MEN_sim, HD_MEN)[0]\n",
    "    spear_correlation= spearmanr(concepts_sim, HD_sim)[0]\n",
    "    #print \"   Pearson's correlation value: \", pear_correlation\n",
    "    print \"   Spearman's correlation value: \", spear_correlation"
   ]
  },
  {
   "cell_type": "markdown",
   "metadata": {},
   "source": [
    "## Exploring some characteristics of our dataset\n",
    "\n",
    "List of names and a list of how many features are there for each concept"
   ]
  },
  {
   "cell_type": "code",
   "execution_count": 20,
   "metadata": {},
   "outputs": [
    {
     "name": "stdout",
     "output_type": "stream",
     "text": [
      "[11, 11, 9, 16, 17, 13, 11, 20, 16, 12, 21, 15, 14, 14, 12, 16, 17, 16, 13, 6, 21, 13, 16, 16, 11, 13, 11, 14, 17, 11, 14, 8, 11, 11, 14, 13, 20, 10, 6, 17, 12, 10, 10, 19, 15, 14, 13, 15, 18, 12, 19, 13, 11, 8, 19, 13, 14]\n",
      "21 6 13\n"
     ]
    }
   ],
   "source": [
    "#print MEN_names\n",
    "#print Dict_defs[MEN_names[0]]\n",
    "L = []\n",
    "for n in concepts_names:\n",
    "    L.append(len(Dict_defs[n]))\n",
    "\n",
    "print L\n",
    "print max(L), min(L), sum(L)/len(L)"
   ]
  },
  {
   "cell_type": "markdown",
   "metadata": {},
   "source": [
    "## Distribution of Prod_Freq values in our dataset\n",
    "\n",
    "Since we are going to weight features based on the Prod_Freq value we have to have an idea of how the prod_freq values are distributed"
   ]
  },
  {
   "cell_type": "code",
   "execution_count": 21,
   "metadata": {},
   "outputs": [],
   "source": [
    "df = pd.read_excel( pathh + 'CONCS_FEATS_concstats_brm.xlsx')\n",
    "\n",
    "# Extracting only relevant columns (from concepts in MEN)\n",
    "NewDF = df[df['Concept'].isin(concepts_names)]\n",
    "Newnew= NewDF[['Concept','Feature','Prod_Freq']]\n",
    "#Newnew"
   ]
  },
  {
   "cell_type": "code",
   "execution_count": 22,
   "metadata": {},
   "outputs": [
    {
     "data": {
      "text/plain": [
       "<matplotlib.axes._subplots.AxesSubplot at 0x4ea09198>"
      ]
     },
     "execution_count": 22,
     "metadata": {},
     "output_type": "execute_result"
    },
    {
     "data": {
      "image/png": "[encoded data removed]",
      "text/plain": [
       "<matplotlib.figure.Figure at 0x4e9fedd8>"
      ]
     },
     "metadata": {},
     "output_type": "display_data"
    }
   ],
   "source": [
    "# Plotting distribution (x-axis is the Production Frequency value)\n",
    "Freq = Newnew['Prod_Freq'].value_counts().sort_index()\n",
    "#print Freq.sort_values()\n",
    "Freq.plot('bar')"
   ]
  },
  {
   "cell_type": "markdown",
   "metadata": {},
   "source": [
    "From the previous analysis I decided to weight each feature according to the following rules:\n",
    "\n",
    "|Prod_Freq| Weight |\n",
    "| ----- | ----- |\n",
    "|28-30|5|\n",
    "|21-27|4|\n",
    "|15-20|3|\n",
    "|10-14|2|\n",
    "|5-9|1|"
   ]
  },
  {
   "cell_type": "markdown",
   "metadata": {},
   "source": [
    "## Testing weighted HDC representations\n",
    "\n",
    "Here we find the correlation between the similarity values obtained from the HDC weighted representations and the dataset."
   ]
  },
  {
   "cell_type": "code",
   "execution_count": 35,
   "metadata": {
    "scrolled": false
   },
   "outputs": [
    {
     "name": "stdout",
     "output_type": "stream",
     "text": [
      "\n",
      "\n",
      "\n",
      "0\n",
      "Mode: Prod_Freq   Number of features: 30\n",
      "Begining to encode dataset...\n",
      "End of encoding\n",
      "   Spearman's correlation value:  0.6688798584449274\n",
      "\n",
      "\n",
      "\n",
      "1\n",
      "Mode: Prod_Freq   Number of features: 30\n",
      "Begining to encode dataset...\n",
      "End of encoding\n",
      "   Spearman's correlation value:  0.6957094124588284\n",
      "\n",
      "\n",
      "\n",
      "2\n",
      "Mode: Prod_Freq   Number of features: 30\n",
      "Begining to encode dataset...\n",
      "End of encoding\n",
      "   Spearman's correlation value:  0.7036723300567999\n",
      "\n",
      "\n",
      "\n",
      "3\n",
      "Mode: Prod_Freq   Number of features: 30\n",
      "Begining to encode dataset...\n",
      "End of encoding\n",
      "   Spearman's correlation value:  0.6951026858061978\n",
      "\n",
      "\n",
      "\n",
      "4\n",
      "Mode: Prod_Freq   Number of features: 30\n",
      "Begining to encode dataset...\n",
      "End of encoding\n",
      "   Spearman's correlation value:  0.6793122402835629\n"
     ]
    }
   ],
   "source": [
    "%run EncodingDataset.ipynb\n",
    "\n",
    "num_f = 30\n",
    "mode = 'Prod_Freq'\n",
    "# List of similarity values from dataset...\n",
    "for i in range (5):\n",
    "    print \"\\n\\n\"\n",
    "    print i\n",
    "    # Printing current mode\n",
    "    print \"Mode:\", mode, \"  Number of features:\", num_f\n",
    "    # Initialize memory\n",
    "    Init_mem( mode, num_f, concepts_names) \n",
    "    # Create list of distances\n",
    "    HD_sim = []\n",
    "    # Loop over all pairs of concepts\n",
    "    for pair in concepts_pairs:\n",
    "        HD_sim.append(1. - HDvector.dist(Dict[pair[0]].getPointer(), Dict[pair[1]].getPointer()) / float(N))\n",
    "        \n",
    "#    pear_correlation= pearsonr(MEN_sim, HD_MEN)[0]\n",
    "    spear_correlation= spearmanr(concepts_sim, HD_sim)[0]\n",
    "#    print \"   Pearson's correlation value: \", pear_correlation\n",
    "    print \"   Spearman's correlation value: \", spear_correlation"
   ]
  },
  {
   "cell_type": "markdown",
   "metadata": {},
   "source": [
    "## Distribution of Inter_corr_tax values in my own dataset\n",
    "\n",
    "Since we are going to weight features based on the Inter_corr_str_tax value we have to have an idea of how the values are distributed"
   ]
  },
  {
   "cell_type": "code",
   "execution_count": 24,
   "metadata": {},
   "outputs": [],
   "source": [
    "df = pd.read_excel( pathh + 'CONCS_FEATS_concstats_brm.xlsx')\n",
    "\n",
    "# Extracting only relevant columns (from concepts in MEN)\n",
    "NewDF = df[df['Concept'].isin(concepts_names)]\n",
    "Newnew= NewDF[['Concept','Feature','Intercorr_Str_Tax']]\n",
    "#Newnew"
   ]
  },
  {
   "cell_type": "code",
   "execution_count": 25,
   "metadata": {},
   "outputs": [],
   "source": [
    "# Plotting distribution (x-axis is the Production Frequency value)\n",
    "Newnew = Newnew.round()\n",
    "Intercorr = Newnew['Intercorr_Str_Tax'].value_counts().sort_index()\n",
    "#print Intercorr"
   ]
  },
  {
   "cell_type": "code",
   "execution_count": 31,
   "metadata": {},
   "outputs": [
    {
     "name": "stdout",
     "output_type": "stream",
     "text": [
      "\n",
      "\n",
      "0\n",
      "Mode: Intercorr_str_tax   Number of features: 30\n",
      "Begining to encode dataset...\n",
      "End of encoding\n",
      "   Spearman's correlation value:  0.749101357890319\n",
      "\n",
      "\n",
      "1\n",
      "Mode: Intercorr_str_tax   Number of features: 30\n",
      "Begining to encode dataset...\n",
      "End of encoding\n",
      "   Spearman's correlation value:  0.7377796095987786\n",
      "\n",
      "\n",
      "2\n",
      "Mode: Intercorr_str_tax   Number of features: 30\n",
      "Begining to encode dataset...\n",
      "End of encoding\n",
      "   Spearman's correlation value:  0.7521864562123345\n",
      "\n",
      "\n",
      "3\n",
      "Mode: Intercorr_str_tax   Number of features: 30\n",
      "Begining to encode dataset...\n",
      "End of encoding\n",
      "   Spearman's correlation value:  0.7337042381207318\n",
      "\n",
      "\n",
      "4\n",
      "Mode: Intercorr_str_tax   Number of features: 30\n",
      "Begining to encode dataset...\n",
      "End of encoding\n",
      "   Spearman's correlation value:  0.7461651182326716\n"
     ]
    }
   ],
   "source": [
    "%run EncodingDataset.ipynb\n",
    "\n",
    "num_f = 30\n",
    "mode = 'Intercorr_str_tax'\n",
    "# List of similarity values from dataset...\n",
    "for i in range(5):\n",
    "    print \"\\n\\n\",i\n",
    "    # Printing current mode\n",
    "    print \"Mode:\", mode, \"  Number of features:\", num_f\n",
    "    # Initialize memory\n",
    "    Init_mem( mode, num_f, concepts_names) \n",
    "    # Create list of distances\n",
    "    HD_sim = []\n",
    "    # Loop over all pairs of concepts\n",
    "    for pair in concepts_pairs:\n",
    "        HD_sim.append(1. - HDvector.dist(Dict[pair[0]].getPointer(), Dict[pair[1]].getPointer()) / float(N))\n",
    "        \n",
    "    #pear_correlation= pearsonr(MEN_sim, HD_MEN)[0]\n",
    "    spear_correlation= spearmanr(concepts_sim, HD_sim)[0]\n",
    "    #print \"   Pearson's correlation value: \", pear_correlation\n",
    "    print \"   Spearman's correlation value: \", spear_correlation"
   ]
  },
  {
   "cell_type": "markdown",
   "metadata": {},
   "source": [
    "## No_Tax...."
   ]
  },
  {
   "cell_type": "code",
   "execution_count": 27,
   "metadata": {},
   "outputs": [
    {
     "name": "stdout",
     "output_type": "stream",
     "text": [
      "0\n",
      "\n",
      "\n",
      "Mode: Intercorr_str_No_tax   Number of features: 30\n",
      "Begining to encode dataset...\n",
      "End of encoding\n",
      "   Spearman's correlation value:  0.7079550788645183\n",
      "1\n",
      "\n",
      "\n",
      "Mode: Intercorr_str_No_tax   Number of features: 30\n",
      "Begining to encode dataset...\n",
      "End of encoding\n",
      "   Spearman's correlation value:  0.7124720970374019\n",
      "2\n",
      "\n",
      "\n",
      "Mode: Intercorr_str_No_tax   Number of features: 30\n",
      "Begining to encode dataset...\n",
      "End of encoding\n",
      "   Spearman's correlation value:  0.6944307714014407\n",
      "3\n",
      "\n",
      "\n",
      "Mode: Intercorr_str_No_tax   Number of features: 30\n",
      "Begining to encode dataset...\n",
      "End of encoding\n",
      "   Spearman's correlation value:  0.6772746011953881\n",
      "4\n",
      "\n",
      "\n",
      "Mode: Intercorr_str_No_tax   Number of features: 30\n",
      "Begining to encode dataset...\n",
      "End of encoding\n",
      "   Spearman's correlation value:  0.679091065594215\n"
     ]
    }
   ],
   "source": [
    "%run EncodingDataset.ipynb\n",
    "\n",
    "num_f = 30\n",
    "mode = 'Intercorr_str_No_tax'\n",
    "# List of similarity values from dataset...\n",
    "for i in range(5):\n",
    "    print i\n",
    "    # Printing current mode\n",
    "    print \"\\n\\nMode:\", mode, \"  Number of features:\", num_f\n",
    "    # Initialize memory\n",
    "    Init_mem( mode, num_f, concepts_names) \n",
    "    # Create list of distances\n",
    "    HD_sim = []\n",
    "    # Loop over all pairs of concepts\n",
    "    for pair in concepts_pairs:\n",
    "        HD_sim.append(1. - HDvector.dist(Dict[pair[0]].getPointer(), Dict[pair[1]].getPointer()) / float(N))\n",
    "        \n",
    "    #pear_correlation= pearsonr(MEN_sim, HD_MEN)[0]\n",
    "    spear_correlation= spearmanr(concepts_sim, HD_sim)[0]\n",
    "    #print \"   Pearson's correlation value: \", pear_correlation\n",
    "    print \"   Spearman's correlation value: \", spear_correlation"
   ]
  },
  {
   "cell_type": "markdown",
   "metadata": {},
   "source": [
    "## Combining methods..."
   ]
  },
  {
   "cell_type": "code",
   "execution_count": 28,
   "metadata": {},
   "outputs": [
    {
     "name": "stdout",
     "output_type": "stream",
     "text": [
      "\n",
      "\n",
      "0\n",
      "Begining to encode dataset...\n",
      "End of encoding\n",
      "   Spearman's correlation value:  0.7540953584665607\n",
      "\n",
      "\n",
      "1\n",
      "Begining to encode dataset...\n",
      "End of encoding\n",
      "   Spearman's correlation value:  0.7480968466434367\n",
      "\n",
      "\n",
      "2\n",
      "Begining to encode dataset...\n",
      "End of encoding\n",
      "   Spearman's correlation value:  0.7376735773725271\n",
      "\n",
      "\n",
      "3\n",
      "Begining to encode dataset...\n",
      "End of encoding\n",
      "   Spearman's correlation value:  0.7191116711927682\n",
      "\n",
      "\n",
      "4\n",
      "Begining to encode dataset...\n",
      "End of encoding\n",
      "   Spearman's correlation value:  0.7554891592519768\n"
     ]
    }
   ],
   "source": [
    "%run EncodingDataset.ipynb\n",
    "\n",
    "num_f = 30\n",
    "mode = 'Intercorr_PF'\n",
    "\n",
    "for i in range(5):\n",
    "    # Printing current mode\n",
    "    print \"\\n\\n\",i\n",
    "    # Initialize memory\n",
    "    Init_mem( mode, num_f, concepts_names) \n",
    "    # Create list of distances\n",
    "    HD_sim = []\n",
    "    # Loop over all pairs of concepts\n",
    "    for pair in concepts_pairs:\n",
    "        HD_sim.append(1. - HDvector.dist(Dict[pair[0]].getPointer(), Dict[pair[1]].getPointer()) / float(N))\n",
    "        \n",
    "#    pear_correlation= pearsonr(MEN_sim, HD_MEN)[0]\n",
    "    spear_correlation= spearmanr(concepts_sim, HD_sim)[0]\n",
    "#    print \"   Pearson's correlation value: \", pear_correlation\n",
    "    print \"   Spearman's correlation value: \", spear_correlation"
   ]
  },
  {
   "cell_type": "markdown",
   "metadata": {},
   "source": [
    "### Combining with Intercorr_No_Tax... "
   ]
  },
  {
   "cell_type": "code",
   "execution_count": 29,
   "metadata": {},
   "outputs": [
    {
     "name": "stdout",
     "output_type": "stream",
     "text": [
      "\n",
      "\n",
      "0\n",
      "Begining to encode dataset...\n",
      "End of encoding\n",
      "   Spearman's correlation value:  0.7001923172320516\n",
      "\n",
      "\n",
      "1\n",
      "Begining to encode dataset...\n",
      "End of encoding\n",
      "   Spearman's correlation value:  0.7281468939361139\n",
      "\n",
      "\n",
      "2\n",
      "Begining to encode dataset...\n",
      "End of encoding\n",
      "   Spearman's correlation value:  0.7157575414901434\n",
      "\n",
      "\n",
      "3\n",
      "Begining to encode dataset...\n",
      "End of encoding\n",
      "   Spearman's correlation value:  0.7227666109504836\n",
      "\n",
      "\n",
      "4\n",
      "Begining to encode dataset...\n",
      "End of encoding\n",
      "   Spearman's correlation value:  0.7225999956103231\n"
     ]
    }
   ],
   "source": [
    "\n",
    "%run EncodingDataset.ipynb\n",
    "\n",
    "num_f = 30\n",
    "mode = 'Intercorr_NoT_PF'\n",
    "\n",
    "for i in range(5):\n",
    "    # Printing current mode\n",
    "    print \"\\n\\n\",i\n",
    "    # Initialize memory\n",
    "    Init_mem( mode, num_f, concepts_names) \n",
    "    # Create list of distances\n",
    "    HD_sim = []\n",
    "    # Loop over all pairs of concepts\n",
    "    for pair in concepts_pairs:\n",
    "        HD_sim.append(1. - HDvector.dist(Dict[pair[0]].getPointer(), Dict[pair[1]].getPointer()) / float(N))\n",
    "        \n",
    "#    pear_correlation= pearsonr(MEN_sim, HD_MEN)[0]\n",
    "    spear_correlation= spearmanr(concepts_sim, HD_sim)[0]\n",
    "#    print \"   Pearson's correlation value: \", pear_correlation\n",
    "    print \"   Spearman's correlation value: \", spear_correlation"
   ]
  }
 ],
 "metadata": {
  "kernelspec": {
   "display_name": "Python 2",
   "language": "python",
   "name": "python2"
  },
  "language_info": {
   "codemirror_mode": {
    "name": "ipython",
    "version": 2
   },
   "file_extension": ".py",
   "mimetype": "text/x-python",
   "name": "python",
   "nbconvert_exporter": "python",
   "pygments_lexer": "ipython2",
   "version": "2.7.14"
  }
 },
 "nbformat": 4,
 "nbformat_minor": 2
}

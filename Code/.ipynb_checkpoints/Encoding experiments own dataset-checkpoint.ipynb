{
 "cells": [
  {
   "cell_type": "markdown",
   "metadata": {},
   "source": [
    "# Experiments\n",
    "\n",
    "In this notebook we perform different ways to encode the concepts' features based on *Rank_PF*, *Disting*, and *Intercorr_str_tax*. \n",
    "This notebooks uses the MEN dataset... \n",
    "\n",
    "## Header\n",
    "\n",
    "Libraries and additional programs"
   ]
  },
  {
   "cell_type": "code",
   "execution_count": 89,
   "metadata": {},
   "outputs": [],
   "source": [
    "import matplotlib\n",
    "import matplotlib.pyplot as plt\n",
    "import pandas as pd\n",
    "import numpy as np\n",
    "import random\n",
    "from scipy.stats.stats import pearsonr\n",
    "from scipy.stats.stats import spearmanr\n",
    "\n",
    "%matplotlib inline\n",
    "\n",
    "pathh = '../Data/' \n",
    "#exp_file = '../Data/ExperimentalResults.xlsx'   \n",
    "exp_file = '../Data/ExperimentalResults-3.xlsx' # se me hace que el bueno será el 3"
   ]
  },
  {
   "cell_type": "markdown",
   "metadata": {},
   "source": [
    "## Our own benchmark\n",
    "\n",
    "As part of our research we created a semantic similarity benchmark. It consists of 64 pairs of concepts, each of which was manually rated by humans. 0 for non similar at all and 10 for 'the same concept'."
   ]
  },
  {
   "cell_type": "code",
   "execution_count": 90,
   "metadata": {},
   "outputs": [],
   "source": [
    "def ListConcepts ():\n",
    "    \"Read an excel file and returns a list of pairs of concepts with its similarity value (according to humans)\"\n",
    "    df = pd.read_excel(exp_file)\n",
    "    concepts_sim = df[['concept 1','concept 2', 'Q1']]\n",
    "    concepts_sim = concepts_sim.values.tolist() #converting to list...\n",
    "    concepts_sim = list(map(lambda x: [str(x[0]), str(x[1]), x[2]], concepts_sim))\n",
    "    return concepts_sim\n",
    "\n",
    "def ListNames (PairConcepts):\n",
    "    \"Given the list of pairs of concepts. It returns a list of the concept names without repetition\"\n",
    "    L = set([])\n",
    "    for x in PairConcepts:\n",
    "        L.add(x[0])\n",
    "        L.add(x[1])\n",
    "    return sorted(list(L))\n",
    "\n",
    "Concepts_benchmark = ListConcepts()\n",
    "# Sorting by similarity x[2]\n",
    "Concepts_benchmark = sorted(Concepts_benchmark, key = lambda x : x[2])\n",
    "\n",
    "concepts_pairs = [x[:2] for x in Concepts_benchmark]\n",
    "concepts_sim = [x[2] for x in Concepts_benchmark]\n",
    "concepts_names = ListNames(concepts_pairs)"
   ]
  },
  {
   "cell_type": "markdown",
   "metadata": {},
   "source": [
    "### a) Visualizing dataset"
   ]
  },
  {
   "cell_type": "code",
   "execution_count": 91,
   "metadata": {},
   "outputs": [
    {
     "data": {
      "image/png": "[encoded data removed]",
      "text/plain": [
       "<matplotlib.figure.Figure at 0x3a05eda0>"
      ]
     },
     "metadata": {},
     "output_type": "display_data"
    }
   ],
   "source": [
    "# Plotting\n",
    "x = np.array(range(64))\n",
    "plt.rcParams[\"figure.figsize\"] = [12,8]\n",
    "plt.plot(concepts_sim, color='k', linestyle='-', marker='.', markersize=6, linewidth=.3 )  \n",
    "plt.xlim((0,64))\n",
    "plt.xlabel('Pair number', fontsize=18)\n",
    "plt.ylabel('Semantic similarity', fontsize=18)\n",
    "plt.grid(True)\n",
    "plt.savefig('HumSim.png', dpi=300)"
   ]
  },
  {
   "cell_type": "markdown",
   "metadata": {},
   "source": [
    "### b) Encoding dataset"
   ]
  },
  {
   "cell_type": "code",
   "execution_count": 92,
   "metadata": {
    "scrolled": true
   },
   "outputs": [
    {
     "name": "stdout",
     "output_type": "stream",
     "text": [
      "Begining to encode dataset...\n",
      "End of encoding\n"
     ]
    }
   ],
   "source": [
    "%run EncodingDataset.ipynb\n",
    "\n",
    "Init_mem('normal', 30, concepts_names)"
   ]
  },
  {
   "cell_type": "markdown",
   "metadata": {},
   "source": [
    "### b) Measuring similarity"
   ]
  },
  {
   "cell_type": "code",
   "execution_count": 93,
   "metadata": {},
   "outputs": [
    {
     "name": "stdout",
     "output_type": "stream",
     "text": [
      "Starting...\n",
      "0 1 2 3 4 5 6 7 8 9 10 11 12 13 14 15 16 17 18 19 20 21 22 23 24 25 26 27 28 29 30 31 32 33 34 35 36 37 38 39 40 41 42 43 44 45 46 47 48 49 50 51 52 53 54 55 56 57 58 59 60 61 62 63 \n",
      "Done!\n"
     ]
    }
   ],
   "source": [
    "# Create dictionary of distances for each method\n",
    "HD_sim = []; McRae_sim = []; WUP_sim = []; LCH_sim = []; Res_sim = []; JCN_sim = []\n",
    "\n",
    "# Loop over all pairs of concepts\n",
    "i = 0\n",
    "print \"Starting...\"\n",
    "for pair in concepts_pairs:\n",
    "    print i,\n",
    "    HD_sim.append(HDvector.dist(Dict[pair[0]].getPointer(), Dict[pair[1]].getPointer()))\n",
    "    McRae_sim.append( McRae_simi(pair) )\n",
    "    WUP_sim.append(similarity_fun(wn.wup_similarity, pair))\n",
    "    LCH_sim.append(similarity_fun(wn.lch_similarity, pair))\n",
    "    Res_sim.append(similarity_fun(wn.res_similarity, pair, brown_ic))\n",
    "    JCN_sim.append(similarity_fun(wn.jcn_similarity, pair, brown_ic))\n",
    "    i += 1\n",
    "\n",
    "#Max-min normalization to HD_sim...\n",
    "max_sim = float(max(HD_sim)); min_sim = float(min(HD_sim))\n",
    "HD_sim = map(lambda x: 1. - (float(x) - min_sim) / (max_sim - min_sim), HD_sim)\n",
    "\n",
    "print \"\\nDone!\""
   ]
  },
  {
   "cell_type": "markdown",
   "metadata": {},
   "source": [
    "### c) Computing correlation"
   ]
  },
  {
   "cell_type": "code",
   "execution_count": 94,
   "metadata": {},
   "outputs": [
    {
     "name": "stdout",
     "output_type": "stream",
     "text": [
      "Pearson's correlations:  [['HDC', 0.7662783370915156], ['McRae', 0.6739136835852487], ['res', 0.5892012023045876], ['jcn', 0.5598655726542955], ['lch', 0.46214302784194494], ['wup', 0.44398439039475185]]\n",
      "\n",
      "Spearman's correlations:  [['HDC', 0.7253829073079411], ['McRae', 0.6864981256648675], ['res', 0.5123745800911029], ['wup', 0.3925449151373109], ['jcn', 0.39131729488526196], ['lch', 0.3582838165375611]]\n"
     ]
    }
   ],
   "source": [
    "Pear_correlations = [['HDC', pearsonr(concepts_sim, HD_sim)[0]], ['McRae', pearsonr(concepts_sim, McRae_sim)[0]],\n",
    "                ['wup', pearsonr(concepts_sim, WUP_sim)[0]], ['lch', pearsonr(concepts_sim, LCH_sim)[0]],\n",
    "                ['res', pearsonr(concepts_sim, Res_sim)[0]], ['jcn', pearsonr(concepts_sim, JCN_sim)[0]]]\n",
    "\n",
    "Spear_correlations = [['HDC', spearmanr(concepts_sim, HD_sim)[0]], ['McRae', spearmanr(concepts_sim, McRae_sim)[0]],\n",
    "                ['wup', spearmanr(concepts_sim, WUP_sim)[0]], ['lch', spearmanr(concepts_sim, LCH_sim)[0]],\n",
    "                ['res', spearmanr(concepts_sim, Res_sim)[0]], ['jcn', spearmanr(concepts_sim, JCN_sim)[0]]]\n",
    "\n",
    "\n",
    "print \"Pearson's correlations: \", sorted(Pear_correlations, key = lambda x : x[1], reverse = True)\n",
    "print \"\\nSpearman's correlations: \", sorted(Spear_correlations, key = lambda x : x[1], reverse = True)"
   ]
  },
  {
   "cell_type": "markdown",
   "metadata": {},
   "source": [
    "### d) Plotting"
   ]
  },
  {
   "cell_type": "code",
   "execution_count": 95,
   "metadata": {},
   "outputs": [
    {
     "data": {
      "image/png": "[encoded data removed]",
      "text/plain": [
       "<matplotlib.figure.Figure at 0x69bdfd68>"
      ]
     },
     "metadata": {},
     "output_type": "display_data"
    }
   ],
   "source": [
    "# Plotting\n",
    "plt.rcParams[\"figure.figsize\"] = [20,12]\n",
    "f_size = 18\n",
    "\n",
    "plt.subplots_adjust(hspace=0.4)\n",
    "plt.subplot(231)\n",
    "plt.plot(HD_sim, color='k', linestyle='None', marker='x', markersize=7, linewidth=1 )  \n",
    "\n",
    "plt.title('VSA', fontsize=f_size)\n",
    "plt.xlabel('Pair number', fontsize=f_size)\n",
    "plt.ylabel('Semantic similarity', fontsize=f_size)\n",
    "plt.grid(True)\n",
    "\n",
    "plt.subplot(232)\n",
    "plt.plot(Res_sim, color='k', linestyle='None', marker='.', markersize=9, linewidth=1 )  \n",
    "plt.title('Resnik', fontsize=f_size)\n",
    "plt.xlabel('Pair number', fontsize=f_size)\n",
    "plt.ylabel('Semantic similarity', fontsize=f_size)\n",
    "plt.grid(True)\n",
    "\n",
    "plt.subplot(233)\n",
    "plt.plot(McRae_sim, color='k', linestyle='None', marker='^', markersize=6, linewidth=1 )  \n",
    "plt.title('McRae', fontsize=f_size)\n",
    "plt.xlabel('Pair number', fontsize=f_size)\n",
    "plt.ylabel('Semantic similarity', fontsize=f_size)\n",
    "plt.grid(True)\n",
    "\n",
    "plt.subplot(234)\n",
    "plt.plot(JCN_sim, color='k', linestyle='None', marker='+', markersize=8, linewidth=1 )  \n",
    "plt.title('Jiang & Conrath', fontsize=f_size)\n",
    "plt.xlabel('Pair number', fontsize=f_size)\n",
    "plt.ylabel('Semantic similarity', fontsize=f_size)\n",
    "plt.grid(True)\n",
    "\n",
    "plt.subplot(235)\n",
    "plt.plot(LCH_sim, color='k', linestyle='None', marker='*', markersize=7, linewidth=1 )  \n",
    "plt.title('Leacock & Chodorow', fontsize=f_size)\n",
    "plt.xlabel('Pair number', fontsize=f_size)\n",
    "plt.ylabel('Semantic similarity', fontsize=f_size)\n",
    "plt.grid(True)\n",
    "\n",
    "plt.subplot(236)\n",
    "plt.plot(WUP_sim, color='k', linestyle='None', marker='.', markersize=8, linewidth=1 )  \n",
    "plt.title('Wu & Palmer', fontsize=f_size)\n",
    "plt.xlabel('Pair number', fontsize=f_size)\n",
    "plt.ylabel('Semantic similarity', fontsize=f_size)\n",
    "plt.grid(True)\n",
    "\n",
    "\n",
    "plt.savefig('SubPlots.png') #, dpi=1000)"
   ]
  },
  {
   "cell_type": "markdown",
   "metadata": {},
   "source": [
    "## Parameters for tests"
   ]
  },
  {
   "cell_type": "code",
   "execution_count": 96,
   "metadata": {},
   "outputs": [],
   "source": [
    "num_f = 30\n",
    "reps = 10"
   ]
  },
  {
   "cell_type": "markdown",
   "metadata": {},
   "source": [
    "### Normal..."
   ]
  },
  {
   "cell_type": "code",
   "execution_count": 97,
   "metadata": {},
   "outputs": [
    {
     "name": "stdout",
     "output_type": "stream",
     "text": [
      "\n",
      "\n",
      "0\n",
      "Begining to encode dataset...\n",
      "End of encoding\n",
      "0.7180860805860805\n",
      "\n",
      "\n",
      "1\n",
      "Begining to encode dataset...\n",
      "End of encoding\n",
      "0.7144688644688644\n",
      "\n",
      "\n",
      "2\n",
      "Begining to encode dataset...\n",
      "End of encoding\n",
      "0.7327922710218082\n",
      "\n",
      "\n",
      "3\n",
      "Begining to encode dataset...\n",
      "End of encoding\n",
      "0.7489325656690955\n",
      "\n",
      "\n",
      "4\n",
      "Begining to encode dataset...\n",
      "End of encoding\n",
      "0.702755297153381\n",
      "\n",
      "\n",
      "5\n",
      "Begining to encode dataset...\n",
      "End of encoding\n",
      "0.7166536936859589\n",
      "\n",
      "\n",
      "6\n",
      "Begining to encode dataset...\n",
      "End of encoding\n",
      "0.7283737222743948\n",
      "\n",
      "\n",
      "7\n",
      "Begining to encode dataset...\n",
      "End of encoding\n",
      "0.7468864468864468\n",
      "\n",
      "\n",
      "8\n",
      "Begining to encode dataset...\n",
      "End of encoding\n",
      "0.7136757518296308\n",
      "\n",
      "\n",
      "9\n",
      "Begining to encode dataset...\n",
      "End of encoding\n",
      "0.7178571428571427\n",
      "\n",
      "Spearman's correlation value:  [0.7180860805860805, 0.7144688644688644, 0.7327922710218082, 0.7489325656690955, 0.702755297153381, 0.7166536936859589, 0.7283737222743948, 0.7468864468864468, 0.7136757518296308, 0.7178571428571427]\n",
      "Mean value 0.7240481836432804\n"
     ]
    }
   ],
   "source": [
    "%run EncodingDataset.ipynb\n",
    "\n",
    "mode = 'normal'\n",
    "norm_corr = []\n",
    "\n",
    "for i in range(reps):\n",
    "    # Printing current mode\n",
    "    print \"\\n\\n\",i\n",
    "    # Initialize memory\n",
    "    Init_mem( mode, num_f, concepts_names) \n",
    "    # Create list of distances\n",
    "    HD_sim = []\n",
    "    # Loop over all pairs of concepts\n",
    "    for pair in concepts_pairs:\n",
    "        HD_sim.append(HDvector.dist(Dict[pair[0]].getPointer(), Dict[pair[1]].getPointer()))\n",
    "\n",
    "    max_sim = float(max(HD_sim)); min_sim = float(min(HD_sim))\n",
    "    HD_sim = map(lambda x: 1. - (float(x) - min_sim) / (max_sim - min_sim), HD_sim)\n",
    "\n",
    "    corr = spearmanr(concepts_sim, HD_sim)[0]\n",
    "    print corr\n",
    "    norm_corr.append(corr)\n",
    "    \n",
    "print \"\\nSpearman's correlation value: \", norm_corr\n",
    "print \"Mean value\", sum(norm_corr) / len(norm_corr)"
   ]
  },
  {
   "cell_type": "markdown",
   "metadata": {},
   "source": [
    "## Exploring some characteristics of our dataset\n",
    "\n",
    "List of names and a list of how many features are there for each concept"
   ]
  },
  {
   "cell_type": "code",
   "execution_count": 98,
   "metadata": {},
   "outputs": [
    {
     "name": "stdout",
     "output_type": "stream",
     "text": [
      "[11, 11, 9, 16, 17, 13, 11, 20, 16, 12, 21, 15, 14, 14, 12, 16, 17, 16, 13, 6, 21, 13, 16, 16, 11, 13, 11, 14, 17, 11, 14, 8, 11, 11, 14, 13, 20, 10, 6, 17, 12, 10, 10, 19, 15, 14, 13, 15, 18, 12, 19, 13, 11, 8, 19, 13, 14]\n",
      "21 6 13\n"
     ]
    }
   ],
   "source": [
    "#print MEN_names\n",
    "#print Dict_defs[MEN_names[0]]\n",
    "L = []\n",
    "for n in concepts_names:\n",
    "    L.append(len(Dict_defs[n]))\n",
    "\n",
    "print L\n",
    "print max(L), min(L), sum(L)/len(L)"
   ]
  },
  {
   "cell_type": "markdown",
   "metadata": {},
   "source": [
    "## Distribution of Prod_Freq values in our dataset\n",
    "\n",
    "Since we are going to weight features based on the Prod_Freq value we have to have an idea of how the prod_freq values are distributed"
   ]
  },
  {
   "cell_type": "code",
   "execution_count": 99,
   "metadata": {},
   "outputs": [],
   "source": [
    "df = pd.read_excel( pathh + 'CONCS_FEATS_concstats_brm.xlsx')\n",
    "\n",
    "# Extracting only relevant columns (from concepts in MEN)\n",
    "NewDF = df[df['Concept'].isin(concepts_names)]\n",
    "Newnew= NewDF[['Concept','Feature','Prod_Freq']]\n",
    "#Newnew"
   ]
  },
  {
   "cell_type": "code",
   "execution_count": 100,
   "metadata": {},
   "outputs": [
    {
     "data": {
      "text/plain": [
       "<matplotlib.axes._subplots.AxesSubplot at 0x516bcac8>"
      ]
     },
     "execution_count": 100,
     "metadata": {},
     "output_type": "execute_result"
    },
    {
     "data": {
      "image/png": "[encoded data removed]",
      "text/plain": [
       "<matplotlib.figure.Figure at 0x6c4074a8>"
      ]
     },
     "metadata": {},
     "output_type": "display_data"
    }
   ],
   "source": [
    "# Plotting distribution (x-axis is the Production Frequency value)\n",
    "Freq = Newnew['Prod_Freq'].value_counts().sort_index()\n",
    "#print Freq.sort_values()\n",
    "Freq.plot('bar')"
   ]
  },
  {
   "cell_type": "markdown",
   "metadata": {},
   "source": [
    "From the previous analysis I decided to weight each feature according to the following rules:\n",
    "\n",
    "|Prod_Freq| Weight |\n",
    "| ----- | ----- |\n",
    "|28-30|5|\n",
    "|21-27|4|\n",
    "|15-20|3|\n",
    "|10-14|2|\n",
    "|5-9|1|"
   ]
  },
  {
   "cell_type": "markdown",
   "metadata": {},
   "source": [
    "## Testing weighted HDC representations\n",
    "\n",
    "Here we find the correlation between the similarity values obtained from the HDC weighted representations and the dataset."
   ]
  },
  {
   "cell_type": "code",
   "execution_count": 101,
   "metadata": {
    "scrolled": false
   },
   "outputs": [
    {
     "name": "stdout",
     "output_type": "stream",
     "text": [
      "\n",
      "\n",
      "0\n",
      "Begining to encode dataset...\n",
      "End of encoding\n",
      "0.7366300366300365\n",
      "\n",
      "\n",
      "1\n",
      "Begining to encode dataset...\n",
      "End of encoding\n",
      "0.7188644688644688\n",
      "\n",
      "\n",
      "2\n",
      "Begining to encode dataset...\n",
      "End of encoding\n",
      "0.7175072691273474\n",
      "\n",
      "\n",
      "3\n",
      "Begining to encode dataset...\n",
      "End of encoding\n",
      "0.7216657700309121\n",
      "\n",
      "\n",
      "4\n",
      "Begining to encode dataset...\n",
      "End of encoding\n",
      "0.7213223595065018\n",
      "\n",
      "\n",
      "5\n",
      "Begining to encode dataset...\n",
      "End of encoding\n",
      "0.7297557180419336\n",
      "\n",
      "\n",
      "6\n",
      "Begining to encode dataset...\n",
      "End of encoding\n",
      "0.7208727307917291\n",
      "\n",
      "\n",
      "7\n",
      "Begining to encode dataset...\n",
      "End of encoding\n",
      "0.7247876555849894\n",
      "\n",
      "\n",
      "8\n",
      "Begining to encode dataset...\n",
      "End of encoding\n",
      "0.7119439549474513\n",
      "\n",
      "\n",
      "9\n",
      "Begining to encode dataset...\n",
      "End of encoding\n",
      "0.737087912087912\n",
      "\n",
      "Spearman's correlation value:  [0.7366300366300365, 0.7188644688644688, 0.7175072691273474, 0.7216657700309121, 0.7213223595065018, 0.7297557180419336, 0.7208727307917291, 0.7247876555849894, 0.7119439549474513, 0.737087912087912]\n",
      "Mean value 0.7240437875613281\n"
     ]
    }
   ],
   "source": [
    "%run EncodingDataset.ipynb\n",
    "\n",
    "mode = 'Prod_Freq'\n",
    "norm_corr = []\n",
    "\n",
    "for i in range(reps):\n",
    "    # Printing current mode\n",
    "    print \"\\n\\n\",i\n",
    "    # Initialize memory\n",
    "    Init_mem( mode, num_f, concepts_names) \n",
    "    # Create list of distances\n",
    "    HD_sim = []\n",
    "    # Loop over all pairs of concepts\n",
    "    for pair in concepts_pairs:\n",
    "        HD_sim.append(HDvector.dist(Dict[pair[0]].getPointer(), Dict[pair[1]].getPointer()))\n",
    "\n",
    "    max_sim = float(max(HD_sim)); min_sim = float(min(HD_sim))\n",
    "    HD_sim = map(lambda x: 1. - (float(x) - min_sim) / (max_sim - min_sim), HD_sim)\n",
    "\n",
    "    corr = spearmanr(concepts_sim, HD_sim)[0]\n",
    "    print corr\n",
    "    norm_corr.append(corr)\n",
    "    \n",
    "print \"\\nSpearman's correlation value: \", norm_corr\n",
    "print \"Mean value\", sum(norm_corr) / len(norm_corr)"
   ]
  },
  {
   "cell_type": "markdown",
   "metadata": {},
   "source": [
    "## Distribution of Inter_corr_tax values in my own dataset\n",
    "\n",
    "Since we are going to weight features based on the Inter_corr_str_tax value we have to have an idea of how the values are distributed"
   ]
  },
  {
   "cell_type": "code",
   "execution_count": 102,
   "metadata": {},
   "outputs": [],
   "source": [
    "df = pd.read_excel( pathh + 'CONCS_FEATS_concstats_brm.xlsx')\n",
    "\n",
    "# Extracting only relevant columns (from concepts in MEN)\n",
    "NewDF = df[df['Concept'].isin(concepts_names)]\n",
    "Newnew= NewDF[['Concept','Feature','Intercorr_Str_Tax']]\n",
    "#Newnew"
   ]
  },
  {
   "cell_type": "code",
   "execution_count": 103,
   "metadata": {},
   "outputs": [],
   "source": [
    "# Plotting distribution (x-axis is the Production Frequency value)\n",
    "Newnew = Newnew.round()\n",
    "Intercorr = Newnew['Intercorr_Str_Tax'].value_counts().sort_index()\n",
    "#print Intercorr"
   ]
  },
  {
   "cell_type": "code",
   "execution_count": 104,
   "metadata": {},
   "outputs": [
    {
     "name": "stdout",
     "output_type": "stream",
     "text": [
      "\n",
      "\n",
      "0\n",
      "Begining to encode dataset...\n",
      "End of encoding\n",
      "0.7783882783882783\n",
      "\n",
      "\n",
      "1\n",
      "Begining to encode dataset...\n",
      "End of encoding\n",
      "0.7731175166292724\n",
      "\n",
      "\n",
      "2\n",
      "Begining to encode dataset...\n",
      "End of encoding\n",
      "0.757374910299283\n",
      "\n",
      "\n",
      "3\n",
      "Begining to encode dataset...\n",
      "End of encoding\n",
      "0.778122460243977\n",
      "\n",
      "\n",
      "4\n",
      "Begining to encode dataset...\n",
      "End of encoding\n",
      "0.7821518103970586\n",
      "\n",
      "\n",
      "5\n",
      "Begining to encode dataset...\n",
      "End of encoding\n",
      "0.7608516483516483\n",
      "\n",
      "\n",
      "6\n",
      "Begining to encode dataset...\n",
      "End of encoding\n",
      "0.7801371353205179\n",
      "\n",
      "\n",
      "7\n",
      "Begining to encode dataset...\n",
      "End of encoding\n",
      "0.7857412690508567\n",
      "\n",
      "\n",
      "8\n",
      "Begining to encode dataset...\n",
      "End of encoding\n",
      "0.7445970695970695\n",
      "\n",
      "\n",
      "9\n",
      "Begining to encode dataset...\n",
      "End of encoding\n",
      "0.7500457875457874\n",
      "\n",
      "Spearman's correlation value:  [0.7783882783882783, 0.7731175166292724, 0.757374910299283, 0.778122460243977, 0.7821518103970586, 0.7608516483516483, 0.7801371353205179, 0.7857412690508567, 0.7445970695970695, 0.7500457875457874]\n",
      "Mean value 0.769052788582375\n"
     ]
    }
   ],
   "source": [
    "%run EncodingDataset.ipynb\n",
    "\n",
    "mode = 'Intercorr_str_tax'\n",
    "norm_corr = []\n",
    "\n",
    "for i in range(reps):\n",
    "    # Printing current mode\n",
    "    print \"\\n\\n\",i\n",
    "    # Initialize memory\n",
    "    Init_mem( mode, num_f, concepts_names) \n",
    "    # Create list of distances\n",
    "    HD_sim = []\n",
    "    # Loop over all pairs of concepts\n",
    "    for pair in concepts_pairs:\n",
    "        HD_sim.append(HDvector.dist(Dict[pair[0]].getPointer(), Dict[pair[1]].getPointer()))\n",
    "\n",
    "    max_sim = float(max(HD_sim)); min_sim = float(min(HD_sim))\n",
    "    HD_sim = map(lambda x: 1. - (float(x) - min_sim) / (max_sim - min_sim), HD_sim)\n",
    "\n",
    "    corr = spearmanr(concepts_sim, HD_sim)[0]\n",
    "    print corr\n",
    "    norm_corr.append(corr)\n",
    "    \n",
    "print \"\\nSpearman's correlation value: \", norm_corr\n",
    "print \"Mean value\", sum(norm_corr) / len(norm_corr)"
   ]
  },
  {
   "cell_type": "markdown",
   "metadata": {},
   "source": [
    "## No_Tax...."
   ]
  },
  {
   "cell_type": "code",
   "execution_count": 105,
   "metadata": {},
   "outputs": [
    {
     "name": "stdout",
     "output_type": "stream",
     "text": [
      "\n",
      "\n",
      "0\n",
      "Begining to encode dataset...\n",
      "End of encoding\n",
      "0.7233516483516483\n",
      "\n",
      "\n",
      "1\n",
      "Begining to encode dataset...\n",
      "End of encoding\n",
      "0.739697802197802\n",
      "\n",
      "\n",
      "2\n",
      "Begining to encode dataset...\n",
      "End of encoding\n",
      "0.7255660616842341\n",
      "\n",
      "\n",
      "3\n",
      "Begining to encode dataset...\n",
      "End of encoding\n",
      "0.743223443223443\n",
      "\n",
      "\n",
      "4\n",
      "Begining to encode dataset...\n",
      "End of encoding\n",
      "0.7140142425891022\n",
      "\n",
      "\n",
      "5\n",
      "Begining to encode dataset...\n",
      "End of encoding\n",
      "0.7325862247071618\n",
      "\n",
      "\n",
      "6\n",
      "Begining to encode dataset...\n",
      "End of encoding\n",
      "0.7010382445313292\n",
      "\n",
      "\n",
      "7\n",
      "Begining to encode dataset...\n",
      "End of encoding\n",
      "0.7210622710622709\n",
      "\n",
      "\n",
      "8\n",
      "Begining to encode dataset...\n",
      "End of encoding\n",
      "0.7315559931339307\n",
      "\n",
      "\n",
      "9\n",
      "Begining to encode dataset...\n",
      "End of encoding\n",
      "0.7116758241758241\n",
      "\n",
      "Spearman's correlation value:  [0.7233516483516483, 0.739697802197802, 0.7255660616842341, 0.743223443223443, 0.7140142425891022, 0.7325862247071618, 0.7010382445313292, 0.7210622710622709, 0.7315559931339307, 0.7116758241758241]\n",
      "Mean value 0.7243771755656747\n"
     ]
    }
   ],
   "source": [
    "%run EncodingDataset.ipynb\n",
    "\n",
    "mode = 'Intercorr_str_No_tax'\n",
    "norm_corr = []\n",
    "\n",
    "for i in range(reps):\n",
    "    # Printing current mode\n",
    "    print \"\\n\\n\",i\n",
    "    # Initialize memory\n",
    "    Init_mem( mode, num_f, concepts_names) \n",
    "    # Create list of distances\n",
    "    HD_sim = []\n",
    "    # Loop over all pairs of concepts\n",
    "    for pair in concepts_pairs:\n",
    "        HD_sim.append(HDvector.dist(Dict[pair[0]].getPointer(), Dict[pair[1]].getPointer()))\n",
    "\n",
    "    max_sim = float(max(HD_sim)); min_sim = float(min(HD_sim))\n",
    "    HD_sim = map(lambda x: 1. - (float(x) - min_sim) / (max_sim - min_sim), HD_sim)\n",
    "\n",
    "    corr = spearmanr(concepts_sim, HD_sim)[0]\n",
    "    print corr\n",
    "    norm_corr.append(corr)\n",
    "    \n",
    "print \"\\nSpearman's correlation value: \", norm_corr\n",
    "print \"Mean value\", sum(norm_corr) / len(norm_corr)"
   ]
  },
  {
   "cell_type": "markdown",
   "metadata": {},
   "source": [
    "## Combining methods..."
   ]
  },
  {
   "cell_type": "code",
   "execution_count": 106,
   "metadata": {},
   "outputs": [
    {
     "name": "stdout",
     "output_type": "stream",
     "text": [
      "\n",
      "\n",
      "0\n",
      "Begining to encode dataset...\n",
      "End of encoding\n",
      "0.7591890933314852\n",
      "\n",
      "\n",
      "1\n",
      "Begining to encode dataset...\n",
      "End of encoding\n",
      "0.7626864480154776\n",
      "\n",
      "\n",
      "2\n",
      "Begining to encode dataset...\n",
      "End of encoding\n",
      "0.7626319285865051\n",
      "\n",
      "\n",
      "3\n",
      "Begining to encode dataset...\n",
      "End of encoding\n",
      "0.7697344322344322\n",
      "\n",
      "\n",
      "4\n",
      "Begining to encode dataset...\n",
      "End of encoding\n",
      "0.7628292448902352\n",
      "\n",
      "\n",
      "5\n",
      "Begining to encode dataset...\n",
      "End of encoding\n",
      "0.7788181965913882\n",
      "\n",
      "\n",
      "6\n",
      "Begining to encode dataset...\n",
      "End of encoding\n",
      "0.7583791208791207\n",
      "\n",
      "\n",
      "7\n",
      "Begining to encode dataset...\n",
      "End of encoding\n",
      "0.7849358974358973\n",
      "\n",
      "\n",
      "8\n",
      "Begining to encode dataset...\n",
      "End of encoding\n",
      "0.7657967032967032\n",
      "\n",
      "\n",
      "9\n",
      "Begining to encode dataset...\n",
      "End of encoding\n",
      "0.774898118858059\n",
      "\n",
      "Spearman's correlation value:  [0.7591890933314852, 0.7626864480154776, 0.7626319285865051, 0.7697344322344322, 0.7628292448902352, 0.7788181965913882, 0.7583791208791207, 0.7849358974358973, 0.7657967032967032, 0.774898118858059]\n",
      "Mean value 0.7679899184119303\n"
     ]
    }
   ],
   "source": [
    "%run EncodingDataset.ipynb\n",
    "\n",
    "mode = 'Intercorr_PF'\n",
    "norm_corr = []\n",
    "\n",
    "for i in range(reps):\n",
    "    # Printing current mode\n",
    "    print \"\\n\\n\",i\n",
    "    # Initialize memory\n",
    "    Init_mem( mode, num_f, concepts_names) \n",
    "    # Create list of distances\n",
    "    HD_sim = []\n",
    "    # Loop over all pairs of concepts\n",
    "    for pair in concepts_pairs:\n",
    "        HD_sim.append(HDvector.dist(Dict[pair[0]].getPointer(), Dict[pair[1]].getPointer()))\n",
    "\n",
    "    max_sim = float(max(HD_sim)); min_sim = float(min(HD_sim))\n",
    "    HD_sim = map(lambda x: 1. - (float(x) - min_sim) / (max_sim - min_sim), HD_sim)\n",
    "\n",
    "    corr = spearmanr(concepts_sim, HD_sim)[0]\n",
    "    print corr\n",
    "    norm_corr.append(corr)\n",
    "    \n",
    "print \"\\nSpearman's correlation value: \", norm_corr\n",
    "print \"Mean value\", sum(norm_corr) / len(norm_corr)"
   ]
  },
  {
   "cell_type": "markdown",
   "metadata": {},
   "source": [
    "### Combining with Intercorr_No_Tax... "
   ]
  },
  {
   "cell_type": "code",
   "execution_count": 107,
   "metadata": {},
   "outputs": [
    {
     "name": "stdout",
     "output_type": "stream",
     "text": [
      "\n",
      "\n",
      "0\n",
      "Begining to encode dataset...\n",
      "End of encoding\n",
      "0.7423246871150323\n",
      "\n",
      "\n",
      "1\n",
      "Begining to encode dataset...\n",
      "End of encoding\n",
      "0.7577380952380951\n",
      "\n",
      "\n",
      "2\n",
      "Begining to encode dataset...\n",
      "End of encoding\n",
      "0.7546504577638211\n",
      "\n",
      "\n",
      "3\n",
      "Begining to encode dataset...\n",
      "End of encoding\n",
      "0.7569714738463631\n",
      "\n",
      "\n",
      "4\n",
      "Begining to encode dataset...\n",
      "End of encoding\n",
      "0.7705991439552452\n",
      "\n",
      "\n",
      "5\n",
      "Begining to encode dataset...\n",
      "End of encoding\n",
      "0.7708791208791208\n",
      "\n",
      "\n",
      "6\n",
      "Begining to encode dataset...\n",
      "End of encoding\n",
      "0.7962956608058814\n",
      "\n",
      "\n",
      "7\n",
      "Begining to encode dataset...\n",
      "End of encoding\n",
      "0.7384615384615384\n",
      "\n",
      "\n",
      "8\n",
      "Begining to encode dataset...\n",
      "End of encoding\n",
      "0.7577380952380951\n",
      "\n",
      "\n",
      "9\n",
      "Begining to encode dataset...\n",
      "End of encoding\n",
      "0.7553657894930498\n",
      "\n",
      "Spearman's correlation value:  [0.7423246871150323, 0.7577380952380951, 0.7546504577638211, 0.7569714738463631, 0.7705991439552452, 0.7708791208791208, 0.7962956608058814, 0.7384615384615384, 0.7577380952380951, 0.7553657894930498]\n",
      "Mean value 0.7601024062796243\n"
     ]
    }
   ],
   "source": [
    "\n",
    "%run EncodingDataset.ipynb\n",
    "\n",
    "mode = 'Intercorr_NoT_PF'\n",
    "norm_corr = []\n",
    "\n",
    "for i in range(reps):\n",
    "    # Printing current mode\n",
    "    print \"\\n\\n\",i\n",
    "    # Initialize memory\n",
    "    Init_mem( mode, num_f, concepts_names) \n",
    "    # Create list of distances\n",
    "    HD_sim = []\n",
    "    # Loop over all pairs of concepts\n",
    "    for pair in concepts_pairs:\n",
    "        HD_sim.append(HDvector.dist(Dict[pair[0]].getPointer(), Dict[pair[1]].getPointer()))\n",
    "\n",
    "    max_sim = float(max(HD_sim)); min_sim = float(min(HD_sim))\n",
    "    HD_sim = map(lambda x: 1. - (float(x) - min_sim) / (max_sim - min_sim), HD_sim)\n",
    "\n",
    "    corr = spearmanr(concepts_sim, HD_sim)[0]\n",
    "    print corr\n",
    "    norm_corr.append(corr)\n",
    "    \n",
    "print \"\\nSpearman's correlation value: \", norm_corr\n",
    "print \"Mean value\", sum(norm_corr) / len(norm_corr)"
   ]
  }
 ],
 "metadata": {
  "kernelspec": {
   "display_name": "Python 2",
   "language": "python",
   "name": "python2"
  },
  "language_info": {
   "codemirror_mode": {
    "name": "ipython",
    "version": 2
   },
   "file_extension": ".py",
   "mimetype": "text/x-python",
   "name": "python",
   "nbconvert_exporter": "python",
   "pygments_lexer": "ipython2",
   "version": "2.7.14"
  }
 },
 "nbformat": 4,
 "nbformat_minor": 2
}

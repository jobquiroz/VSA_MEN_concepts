{
 "cells": [
  {
   "cell_type": "markdown",
   "metadata": {},
   "source": [
    "# Experiments\n",
    "\n",
    "In this notebook we perform different ways to encode the concepts' features based on *Rank_PF*, *Disting*, and *Intercorr_str_tax*. \n",
    "This notebooks uses the MEN dataset... \n",
    "\n",
    "## Header\n",
    "\n",
    "Libraries and additional programs"
   ]
  },
  {
   "cell_type": "code",
   "execution_count": 46,
   "metadata": {},
   "outputs": [],
   "source": [
    "import matplotlib\n",
    "import matplotlib.pyplot as plt\n",
    "import pandas as pd\n",
    "import numpy\n",
    "import random\n",
    "from scipy.stats.stats import pearsonr\n",
    "from scipy.stats.stats import spearmanr\n",
    "\n",
    "%matplotlib inline\n",
    "\n",
    "pathh = '../Data/' \n",
    "exp_file = '../Data/ExperimentalResults.xlsx'   \n",
    "\n",
    "%run EncodingDataset.ipynb"
   ]
  },
  {
   "cell_type": "markdown",
   "metadata": {},
   "source": [
    "## SimLex-999 dataset\n",
    "\n",
    "_SimLex-999 is a gold standard resource for the evaluation of models that learn the meaning of words and concepts. \n",
    "SimLex-999 provides a way of measuring how well models capture similarity, rather than relatedness or association. The scores in SimLex-999 therefore differ from other well-known evaluation datasets such as WordSim-353. Example:_\n",
    "\n",
    "**coast - shore**   9.000 (SimLex-999 rating)    9.1 (WordSim-353 rating)\n",
    "\n",
    "**clothes - closet**  1.96 (SimLex-999 rating)   9.1 (WordSim-353 rating)\n",
    "\n",
    "_More information: https://fh295.github.io/simlex.html_\n",
    "\n",
    "Just as with the previous dataset, first we find out how many pairs are there for which both concepts appear in the McRae dataset. "
   ]
  },
  {
   "cell_type": "code",
   "execution_count": 47,
   "metadata": {},
   "outputs": [
    {
     "name": "stdout",
     "output_type": "stream",
     "text": [
      "[['car', 'hose', 0.87], ['car', 'bridge', 0.95], ['car', 'elevator', 1.03], ['mouse', 'cat', 1.12], ['box', 'cigar', 1.25], ['box', 'elevator', 1.32], ['house', 'carpet', 1.38], ['chicken', 'rice', 1.43], ['ball', 'basket', 1.67], ['dog', 'cat', 1.75], ['house', 'key', 1.9], ['bread', 'cheese', 1.95], ['door', 'cellar', 1.97], ['spoon', 'cup', 2.02], ['boat', 'anchor', 2.25], ['boat', 'car', 2.37], ['cat', 'rabbit', 2.37], ['dog', 'horse', 2.38], ['ball', 'cannon', 2.58], ['cow', 'goat', 2.93], ['horse', 'ox', 3.02], ['bed', 'bedroom', 3.4], ['bed', 'couch', 3.42], ['bed', 'chair', 3.5], ['gun', 'knife', 3.65], ['guitar', 'drum', 3.78], ['apple', 'lemon', 4.05], ['house', 'barn', 4.33], ['wall', 'brick', 4.68], ['calf', 'bull', 4.93], ['cup', 'jar', 5.13], ['plate', 'bowl', 5.23], ['door', 'gate', 5.25], ['gun', 'cannon', 5.68], ['house', 'apartment', 5.8], ['cabin', 'hut', 6.53], ['chair', 'bench', 6.67], ['sofa', 'chair', 6.67], ['cat', 'lion', 6.75], ['sweater', 'jacket', 7.15], ['cottage', 'cabin', 7.72], ['rat', 'mouse', 7.78], ['jar', 'bottle', 7.83], ['sheep', 'lamb', 8.42]]\n"
     ]
    }
   ],
   "source": [
    "def ListConcepts():\n",
    "    \"Read an excel file and returns a list of pairs of concepts with its similarity value (according to humans)\"\n",
    "    SimLex_path = \"../Data/SimLex-999.txt\"\n",
    "    SimLex_file = open(SimLex_path, \"r\")\n",
    "    SimLex = SimLex_file.readlines()\n",
    "    SimLex = [str.split(x) for x in SimLex][1:]   # Removed first line (column's names)\n",
    "\n",
    "    # List of all concepts in McRae dataset\n",
    "    Concepts = get_concepts_list() \n",
    "    \n",
    "    #We are interested in the first elements of each line (row)\n",
    "    SimLexList = []\n",
    "    for row in SimLex:\n",
    "        if row[0] in Concepts and row[1] in Concepts and row[2] == 'N':\n",
    "            SimLexList.append([row[0], row[1], float(row[3])])\n",
    "    \n",
    "    return sorted(SimLexList, key = lambda x: x[2])\n",
    "            \n",
    "def ListNames (PairConcepts):\n",
    "    \"Given the list of pairs of concepts. It returns a list of the concept names without repetition\"\n",
    "    L = set([])\n",
    "    for x in PairConcepts:\n",
    "        L.add(x[0])\n",
    "        L.add(x[1])\n",
    "    return sorted(list(L))\n",
    "\n",
    "\n",
    "SimLexList = ListConcepts()\n",
    "\n",
    "SimLex_sim = [x[2] for x in SimLexList]\n",
    "SimLex_names = ListNames(SimLexList)\n",
    "print SimLexList"
   ]
  },
  {
   "cell_type": "markdown",
   "metadata": {},
   "source": [
    "### a) Visualizing dataset"
   ]
  },
  {
   "cell_type": "code",
   "execution_count": 48,
   "metadata": {},
   "outputs": [
    {
     "data": {
      "image/png": "[encoded data removed]",
      "text/plain": [
       "<matplotlib.figure.Figure at 0x53544780>"
      ]
     },
     "metadata": {},
     "output_type": "display_data"
    }
   ],
   "source": [
    "plt.rcParams[\"figure.figsize\"] = [12,8]\n",
    "plt.plot([x[2] for x in SimLexList], color='k', linestyle='-', marker='.', markersize=6, linewidth=.3 )  \n",
    "plt.xlim((0,44))\n",
    "plt.ylim((0,9))\n",
    "plt.xlabel('Pair number', fontsize=18)\n",
    "plt.ylabel('Semantic similarity', fontsize=18)\n",
    "plt.grid(True)\n",
    "plt.savefig('HumSim-SimLex.png', dpi=300)"
   ]
  },
  {
   "cell_type": "markdown",
   "metadata": {},
   "source": [
    "### b) Encoding dataset"
   ]
  },
  {
   "cell_type": "code",
   "execution_count": 75,
   "metadata": {
    "scrolled": true
   },
   "outputs": [
    {
     "name": "stdout",
     "output_type": "stream",
     "text": [
      " Begining to encode dataset...\n",
      "End of encoding\n"
     ]
    }
   ],
   "source": [
    "Init_mem('normal', 100, SimLex_names)"
   ]
  },
  {
   "cell_type": "markdown",
   "metadata": {},
   "source": [
    "### b) Measuring similarity"
   ]
  },
  {
   "cell_type": "code",
   "execution_count": 85,
   "metadata": {},
   "outputs": [
    {
     "name": "stdout",
     "output_type": "stream",
     "text": [
      " Starting...\n",
      "0 1 2 3 4 5 6 7 8 9 10 11 12 13 14 15 16 17 18 19 20 21 22 23 24 25 26 27 28 29 30 31 32 33 34 35 36 37 38 39 40 41 42 43 End\n"
     ]
    }
   ],
   "source": [
    "# Create list of distances for each method\n",
    "HD_SimLex = []; McRae_SimLex = []; WUP_SimLex = []; LCH_SimLex = []; RES_SimLex = []; JCN_SimLex = []\n",
    "\n",
    "# Loop over all pairs of concepts\n",
    "i = 0\n",
    "print \"Starting...\"\n",
    "for pair in SimLexList:\n",
    "    print i,\n",
    "    HD_SimLex.append(HDvector.dist(Dict[pair[0]].getPointer(), Dict[pair[1]].getPointer()))\n",
    "    McRae_SimLex.append( McRae_simi(pair[0:2]) )\n",
    "    WUP_SimLex.append(similarity_fun(wn.wup_similarity, pair[0:2]))\n",
    "    LCH_SimLex.append(similarity_fun(wn.lch_similarity, pair[0:2]))\n",
    "    RES_SimLex.append(similarity_fun(wn.res_similarity, pair[0:2], brown_ic))\n",
    "    JCN_SimLex.append(similarity_fun(wn.jcn_similarity, pair[0:2], brown_ic))\n",
    "    i += 1\n",
    "\n",
    "#Max-min normalization to HD_sim...\n",
    "max_sim = float(max(HD_SimLex)); min_sim = float(min(HD_SimLex))\n",
    "HD_SimLex = map(lambda x: 1. - (float(x) - min_sim) / (max_sim - min_sim), HD_SimLex)\n",
    "    \n",
    "print \"End\""
   ]
  },
  {
   "cell_type": "markdown",
   "metadata": {},
   "source": [
    "### c) Computing correlation"
   ]
  },
  {
   "cell_type": "code",
   "execution_count": 86,
   "metadata": {},
   "outputs": [
    {
     "name": "stdout",
     "output_type": "stream",
     "text": [
      "[['HDC', 0.6709370549313499], ['McRae', 0.6249538446769186], ['res', 0.5148772163908228], ['lch', 0.43627661476892626], ['wup', 0.42406723211596103], ['jcn', 0.35782780233339617]]\n",
      "[['HDC', 0.6728451634160334], ['McRae', 0.6236872269863861], ['res', 0.5229768623236039], ['wup', 0.4695487204069717], ['lch', 0.4410097351419255], ['jcn', 0.3981390142486437]]\n"
     ]
    }
   ],
   "source": [
    "Pear_correlations = [['HDC', pearsonr(SimLex_sim, HD_SimLex)[0]], ['McRae', pearsonr(SimLex_sim, McRae_SimLex)[0]],\n",
    "                ['wup', pearsonr(SimLex_sim, WUP_SimLex)[0]], ['lch', pearsonr(SimLex_sim, LCH_SimLex)[0]],\n",
    "                ['res', pearsonr(SimLex_sim, RES_SimLex)[0]], ['jcn', pearsonr(SimLex_sim, JCN_SimLex)[0]]]\n",
    "\n",
    "Spear_correlations = [['HDC', spearmanr(SimLex_sim, HD_SimLex)[0]], ['McRae', spearmanr(SimLex_sim, McRae_SimLex)[0]],\n",
    "                ['wup', spearmanr(SimLex_sim, WUP_SimLex)[0]], ['lch', spearmanr(SimLex_sim, LCH_SimLex)[0]],\n",
    "                ['res', spearmanr(SimLex_sim, RES_SimLex)[0]], ['jcn', spearmanr(SimLex_sim, JCN_SimLex)[0]]]\n",
    "\n",
    "\n",
    "Pear_correlations = sorted(Pear_correlations, key = lambda x : x[1], reverse = True)\n",
    "Spear_correlations = sorted(Spear_correlations, key = lambda x : x[1], reverse = True)\n",
    "\n",
    "print Pear_correlations\n",
    "print Spear_correlations"
   ]
  },
  {
   "cell_type": "markdown",
   "metadata": {},
   "source": [
    "### d) Plotting"
   ]
  },
  {
   "cell_type": "code",
   "execution_count": 89,
   "metadata": {},
   "outputs": [
    {
     "name": "stdout",
     "output_type": "stream",
     "text": [
      "  i  c1     c2    SimLex-999 VSA Dif\n",
      "[9, 'dog', 'cat', 1.75, 0.66, 0.54]\n",
      "[38, 'cat', 'lion', 6.75, 0.3, 0.49]\n",
      "[19, 'cow', 'goat', 2.93, 0.75, 0.48]\n",
      "[3, 'mouse', 'cat', 1.12, 0.41, 0.38]\n",
      "[29, 'calf', 'bull', 4.93, 0.17, 0.38]\n",
      "[32, 'door', 'gate', 5.25, 0.97, 0.38]\n",
      "[28, 'wall', 'brick', 4.68, 0.18, 0.33]\n",
      "[35, 'cabin', 'hut', 6.53, 0.43, 0.33]\n",
      "[39, 'sweater', 'jacket', 7.15, 0.52, 0.33]\n",
      "[40, 'cottage', 'cabin', 7.72, 0.59, 0.33]\n",
      "[26, 'apple', 'lemon', 4.05, 0.74, 0.31]\n",
      "[21, 'bed', 'bedroom', 3.4, 0.04, 0.3]\n",
      "[36, 'chair', 'bench', 6.67, 0.48, 0.3]\n",
      "[30, 'cup', 'jar', 5.13, 0.3, 0.27]\n",
      "[11, 'bread', 'cheese', 1.95, 0.39, 0.24]\n",
      "[2, 'car', 'elevator', 1.03, 0.25, 0.23]\n",
      "[4, 'box', 'cigar', 1.25, 0.28, 0.23]\n",
      "[13, 'spoon', 'cup', 2.02, 0.34, 0.19]\n",
      "[16, 'cat', 'rabbit', 2.37, 0.38, 0.18]\n",
      "[18, 'ball', 'cannon', 2.58, 0.06, 0.17]\n",
      "[14, 'boat', 'anchor', 2.25, 0.03, 0.15]\n",
      "[17, 'dog', 'horse', 2.38, 0.35, 0.15]\n",
      "[20, 'horse', 'ox', 3.02, 0.44, 0.15]\n",
      "[27, 'house', 'barn', 4.33, 0.31, 0.15]\n",
      "[34, 'house', 'apartment', 5.8, 0.53, 0.13]\n",
      "[23, 'bed', 'chair', 3.5, 0.23, 0.12]\n",
      "[12, 'door', 'cellar', 1.97, 0.03, 0.11]\n",
      "[42, 'jar', 'bottle', 7.83, 0.84, 0.09]\n",
      "[22, 'bed', 'couch', 3.42, 0.42, 0.08]\n",
      "[7, 'chicken', 'rice', 1.43, 0.14, 0.06]\n",
      "[8, 'ball', 'basket', 1.67, 0.05, 0.06]\n",
      "[41, 'rat', 'mouse', 7.78, 0.87, 0.06]\n",
      "[25, 'guitar', 'drum', 3.78, 0.44, 0.05]\n",
      "[5, 'box', 'elevator', 1.32, 0.09, 0.03]\n",
      "[10, 'house', 'key', 1.9, 0.16, 0.03]\n",
      "[33, 'gun', 'cannon', 5.68, 0.61, 0.03]\n",
      "[15, 'boat', 'car', 2.37, 0.18, 0.02]\n",
      "[24, 'gun', 'knife', 3.65, 0.39, 0.02]\n",
      "[31, 'plate', 'bowl', 5.23, 0.57, 0.02]\n",
      "[37, 'sofa', 'chair', 6.67, 0.76, 0.02]\n",
      "[43, 'sheep', 'lamb', 8.42, 1.0, 0.02]\n",
      "[0, 'car', 'hose', 0.87, 0.01, 0.01]\n",
      "[1, 'car', 'bridge', 0.95, 0.0, 0.01]\n",
      "[6, 'house', 'carpet', 1.38, 0.07, 0.0]\n"
     ]
    },
    {
     "data": {
      "image/png": "[encoded data removed]",
      "text/plain": [
       "<matplotlib.figure.Figure at 0x363c8978>"
      ]
     },
     "metadata": {},
     "output_type": "display_data"
    }
   ],
   "source": [
    "plt.rcParams[\"figure.figsize\"] = [20,12]\n",
    "f_size = 18\n",
    "plt.subplots_adjust(hspace=0.4)\n",
    "\n",
    "plt.subplot(231)\n",
    "plt.plot(HD_SimLex, color='k', linestyle='None', marker='x', markersize=7, linewidth=1 )  \n",
    "plt.title('VSA', fontsize=f_size)\n",
    "plt.xlabel('Pair number', fontsize=f_size)\n",
    "plt.ylabel('Semantic similarity', fontsize=f_size)\n",
    "plt.grid(True)\n",
    "\n",
    "plt.subplot(232)\n",
    "plt.plot(McRae_SimLex, color='k', linestyle='None', marker='^', markersize=6, linewidth=1 )  \n",
    "plt.title('McRae', fontsize=f_size)\n",
    "plt.xlabel('Pair number', fontsize=f_size)\n",
    "plt.ylabel('Semantic similarity', fontsize=f_size)\n",
    "plt.grid(True)\n",
    "\n",
    "\n",
    "plt.subplot(233)\n",
    "plt.plot(RES_SimLex, color='k', linestyle='None', marker='.', markersize=9, linewidth=1 )  \n",
    "plt.title('Resnik', fontsize=f_size)\n",
    "plt.xlabel('Pair number', fontsize=f_size)\n",
    "plt.ylabel('Semantic similarity', fontsize=f_size)\n",
    "plt.grid(True)\n",
    "\n",
    "plt.subplot(234)\n",
    "plt.plot(LCH_SimLex, color='k', linestyle='None', marker='*', markersize=7, linewidth=1 )  \n",
    "plt.title('Leacock & Chodorow', fontsize=f_size)\n",
    "plt.xlabel('Pair number', fontsize=f_size)\n",
    "plt.ylabel('Semantic similarity', fontsize=f_size)\n",
    "plt.grid(True)\n",
    "\n",
    "plt.subplot(235)\n",
    "plt.plot(WUP_SimLex, color='k', linestyle='None', marker='.', markersize=8, linewidth=1 )  \n",
    "plt.title('Wu & Palmer', fontsize=f_size)\n",
    "plt.xlabel('Pair number', fontsize=f_size)\n",
    "plt.ylabel('Semantic similarity', fontsize=f_size)\n",
    "plt.grid(True)\n",
    "\n",
    "plt.subplot(236)\n",
    "plt.plot(JCN_SimLex, color='k', linestyle='None', marker='+', markersize=8, linewidth=1 )  \n",
    "plt.title('Jiang & Conrath', fontsize=f_size)\n",
    "plt.xlabel('Pair number', fontsize=f_size)\n",
    "plt.ylabel('Semantic similarity', fontsize=f_size)\n",
    "plt.grid(True)\n",
    "\n",
    "plt.savefig('SubPlots-SimLex.png') #, dpi=1000)"
   ]
  },
  {
   "cell_type": "code",
   "execution_count": 102,
   "metadata": {},
   "outputs": [
    {
     "name": "stdout",
     "output_type": "stream",
     "text": [
      "  i  c1     c2    SimLex-999 VSA Dif\n",
      "[3, 'mouse', 'cat', 1.12, 0.58, 0.55]\n",
      "[2, 'car', 'elevator', 1.03, 0.55, 0.53]\n",
      "[9, 'dog', 'cat', 1.75, 0.63, 0.52]\n",
      "[0, 'car', 'hose', 0.87, 0.5, 0.5]\n",
      "[1, 'car', 'bridge', 0.95, 0.5, 0.5]\n",
      "[4, 'box', 'cigar', 1.25, 0.55, 0.5]\n",
      "[7, 'chicken', 'rice', 1.43, 0.52, 0.45]\n",
      "[5, 'box', 'elevator', 1.32, 0.5, 0.44]\n",
      "[6, 'house', 'carpet', 1.38, 0.5, 0.43]\n",
      "[11, 'bread', 'cheese', 1.95, 0.58, 0.43]\n",
      "[13, 'spoon', 'cup', 2.02, 0.57, 0.41]\n",
      "[8, 'ball', 'basket', 1.67, 0.5, 0.4]\n",
      "[10, 'house', 'key', 1.9, 0.54, 0.4]\n",
      "[16, 'cat', 'rabbit', 2.37, 0.58, 0.38]\n",
      "[19, 'cow', 'goat', 2.93, 0.65, 0.38]\n",
      "[17, 'dog', 'horse', 2.38, 0.57, 0.37]\n",
      "[12, 'door', 'cellar', 1.97, 0.5, 0.36]\n",
      "[14, 'boat', 'anchor', 2.25, 0.51, 0.33]\n",
      "[15, 'boat', 'car', 2.37, 0.52, 0.32]\n",
      "[20, 'horse', 'ox', 3.02, 0.6, 0.31]\n",
      "[40, 'cottage', 'cabin', 7.72, 0.62, 0.31]\n",
      "[43, 'sheep', 'lamb', 8.42, 0.7, 0.31]\n",
      "[18, 'ball', 'cannon', 2.58, 0.5, 0.27]\n",
      "[42, 'jar', 'bottle', 7.83, 0.66, 0.27]\n",
      "[22, 'bed', 'couch', 3.42, 0.58, 0.24]\n",
      "[39, 'sweater', 'jacket', 7.15, 0.6, 0.24]\n",
      "[41, 'rat', 'mouse', 7.78, 0.69, 0.24]\n",
      "[38, 'cat', 'lion', 6.75, 0.56, 0.23]\n",
      "[26, 'apple', 'lemon', 4.05, 0.65, 0.22]\n",
      "[24, 'gun', 'knife', 3.65, 0.58, 0.21]\n",
      "[23, 'bed', 'chair', 3.5, 0.54, 0.19]\n",
      "[25, 'guitar', 'drum', 3.78, 0.58, 0.19]\n",
      "[35, 'cabin', 'hut', 6.53, 0.58, 0.18]\n",
      "[36, 'chair', 'bench', 6.67, 0.6, 0.18]\n",
      "[21, 'bed', 'bedroom', 3.4, 0.49, 0.15]\n",
      "[37, 'sofa', 'chair', 6.67, 0.66, 0.12]\n",
      "[32, 'door', 'gate', 5.25, 0.7, 0.11]\n",
      "[27, 'house', 'barn', 4.33, 0.56, 0.1]\n",
      "[34, 'house', 'apartment', 5.8, 0.61, 0.05]\n",
      "[28, 'wall', 'brick', 4.68, 0.54, 0.03]\n",
      "[31, 'plate', 'bowl', 5.23, 0.62, 0.03]\n",
      "[33, 'gun', 'cannon', 5.68, 0.62, 0.03]\n",
      "[29, 'calf', 'bull', 4.93, 0.52, 0.02]\n",
      "[30, 'cup', 'jar', 5.13, 0.56, 0.01]\n"
     ]
    }
   ],
   "source": [
    "# Argumento importante en discusión...\n",
    "print '  i',' c1','    c2   ','SimLex-999','VSA', 'Dif'\n",
    "L = []\n",
    "for i in range(len(SimLexList)):\n",
    "    L.append([i] + SimLexList[i] + [round(HD_SimLex[i],2)] + [abs(round((SimLexList[i][2]-.9)/7.4 - HD_SimLex[i],2))])\n",
    "\n",
    "# Para ver parejas que menos concuerda...\n",
    "#L = sorted(L, key = lambda x: x[5], reverse = True)\n",
    "L = sorted(L, key = lambda x: x[5], reverse = True)\n",
    "for x in L:\n",
    "    print x"
   ]
  },
  {
   "cell_type": "markdown",
   "metadata": {},
   "source": [
    "### Normal..."
   ]
  },
  {
   "cell_type": "code",
   "execution_count": 101,
   "metadata": {},
   "outputs": [
    {
     "name": "stdout",
     "output_type": "stream",
     "text": [
      "\n",
      "\n",
      "0\n",
      "Begining to encode dataset...\n",
      "End of encoding\n",
      "   Spearman's correlation value:  0.6323912905972627\n",
      "\n",
      "\n",
      "1\n",
      "Begining to encode dataset...\n",
      "End of encoding\n",
      "   Spearman's correlation value:  0.6706135254542814\n",
      "\n",
      "\n",
      "2\n",
      "Begining to encode dataset...\n",
      "End of encoding\n",
      "   Spearman's correlation value:  0.63727666811956\n"
     ]
    }
   ],
   "source": [
    "%run EncodingDataset.ipynb\n",
    "\n",
    "num_f = 30\n",
    "mode = 'normal'\n",
    "\n",
    "for i in range(3):\n",
    "    # Printing current mode\n",
    "    print \"\\n\\n\",i\n",
    "    # Initialize memory\n",
    "    Init_mem( mode, num_f, SimLex_names) \n",
    "    # Create list of distances\n",
    "    HD_SimLex = []\n",
    "    # Loop over all pairs of concepts\n",
    "    for pair in SimLexList:\n",
    "        HD_SimLex.append(1. - HDvector.dist(Dict[pair[0]].getPointer(), Dict[pair[1]].getPointer()) / float(N))\n",
    "        \n",
    "#    pear_correlation= pearsonr(MEN_sim, HD_MEN)[0]\n",
    "    spear_correlation= spearmanr(SimLex_sim, HD_SimLex)[0]\n",
    "    #print \"   Pearson's correlation value: \", pear_correlation\n",
    "    print \"   Spearman's correlation value: \", spear_correlation"
   ]
  },
  {
   "cell_type": "markdown",
   "metadata": {},
   "source": [
    "## Exploring some characteristics of the SimLex dataset\n",
    "\n",
    "List of names and a list of how many features are there for each concept"
   ]
  },
  {
   "cell_type": "code",
   "execution_count": 91,
   "metadata": {},
   "outputs": [
    {
     "name": "stdout",
     "output_type": "stream",
     "text": [
      "[14, 18, 19, 9, 17, 9, 17, 10, 11, 10, 15, 14, 14, 16, 9, 14, 12, 10, 14, 17, 16, 17, 20, 10, 16, 19, 20, 11, 13, 20, 22, 21, 18, 13, 13, 14, 14, 20, 11, 16, 19, 16, 16, 6, 15, 12, 12, 17, 16, 17, 20, 19, 11, 20, 14, 22, 10, 21, 18, 19, 11, 14]\n",
      "22 6 15\n"
     ]
    }
   ],
   "source": [
    "#print MEN_names\n",
    "#print Dict_defs[MEN_names[0]]\n",
    "L = []\n",
    "for n in SimLex_names:\n",
    "    L.append(len(Dict_defs[n]))\n",
    "\n",
    "print L\n",
    "print max(L), min(L), sum(L)/len(L)"
   ]
  },
  {
   "cell_type": "markdown",
   "metadata": {},
   "source": [
    "## Distribution of Prod_Freq values in MEN\n",
    "\n",
    "Since we are going to weight features based on the Prod_Freq value we have to have an idea of how the prod_freq values are distributed"
   ]
  },
  {
   "cell_type": "code",
   "execution_count": 92,
   "metadata": {},
   "outputs": [],
   "source": [
    "df = pd.read_excel( pathh + 'CONCS_FEATS_concstats_brm.xlsx')\n",
    "\n",
    "# Extracting only relevant columns (from concepts in MEN)\n",
    "NewDF = df[df['Concept'].isin(SimLex_names)]\n",
    "Newnew= NewDF[['Concept','Feature','Prod_Freq']]\n",
    "#Newnew"
   ]
  },
  {
   "cell_type": "code",
   "execution_count": 93,
   "metadata": {},
   "outputs": [
    {
     "data": {
      "text/plain": [
       "<matplotlib.axes._subplots.AxesSubplot at 0x3e10d7b8>"
      ]
     },
     "execution_count": 93,
     "metadata": {},
     "output_type": "execute_result"
    },
    {
     "data": {
      "image/png": "[encoded data removed]",
      "text/plain": [
       "<matplotlib.figure.Figure at 0x3e1076d8>"
      ]
     },
     "metadata": {},
     "output_type": "display_data"
    }
   ],
   "source": [
    "# Plotting distribution (x-axis is the Production Frequency value)\n",
    "Freq = Newnew['Prod_Freq'].value_counts().sort_index()\n",
    "#print Freq.sort_values()\n",
    "Freq.plot('bar')"
   ]
  },
  {
   "cell_type": "markdown",
   "metadata": {},
   "source": [
    "From the previous analysis I decided to weight each feature according to the following rules:\n",
    "\n",
    "|Prod_Freq| Weight |\n",
    "| ----- | ----- |\n",
    "|28-30|5|\n",
    "|21-27|4|\n",
    "|15-20|3|\n",
    "|10-14|2|\n",
    "|5-9|1|"
   ]
  },
  {
   "cell_type": "markdown",
   "metadata": {},
   "source": [
    "## Testing weighted HDC representations\n",
    "\n",
    "Here we find the correlation between the similarity values obtained from the HDC weighted representations and the dataset."
   ]
  },
  {
   "cell_type": "code",
   "execution_count": 94,
   "metadata": {
    "scrolled": false
   },
   "outputs": [
    {
     "name": "stdout",
     "output_type": "stream",
     "text": [
      "\n",
      "\n",
      "\n",
      "0\n",
      "Mode: Prod_Freq   Number of features: 30\n",
      "Begining to encode dataset...\n",
      "End of encoding\n",
      "   Spearman's correlation value:  0.6542853115308711\n",
      "\n",
      "\n",
      "\n",
      "1\n",
      "Mode: Prod_Freq   Number of features: 30\n",
      "Begining to encode dataset...\n",
      "End of encoding\n",
      "   Spearman's correlation value:  0.6544506323956516\n",
      "\n",
      "\n",
      "\n",
      "2\n",
      "Mode: Prod_Freq   Number of features: 30\n",
      "Begining to encode dataset...\n",
      "End of encoding\n",
      "   Spearman's correlation value:  0.6392500973063933\n"
     ]
    }
   ],
   "source": [
    "%run EncodingDataset.ipynb\n",
    "\n",
    "num_f = 30\n",
    "mode = 'Prod_Freq'\n",
    "# List of similarity values from dataset...\n",
    "for i in range (3):\n",
    "    print \"\\n\\n\"\n",
    "    print i\n",
    "    # Printing current mode\n",
    "    print \"Mode:\", mode, \"  Number of features:\", num_f\n",
    "    # Initialize memory\n",
    "    Init_mem( mode, num_f, SimLex_names) \n",
    "    # Create list of distances\n",
    "    HD_SimLex = []\n",
    "    # Loop over all pairs of concepts\n",
    "    for pair in SimLexList:\n",
    "        HD_SimLex.append(1. - HDvector.dist(Dict[pair[0]].getPointer(), Dict[pair[1]].getPointer()) / float(N))\n",
    "        \n",
    "#    pear_correlation= pearsonr(MEN_sim, HD_MEN)[0]\n",
    "    spear_correlation= spearmanr(SimLex_sim, HD_SimLex)[0]\n",
    "#    print \"   Pearson's correlation value: \", pear_correlation\n",
    "    print \"   Spearman's correlation value: \", spear_correlation"
   ]
  },
  {
   "cell_type": "markdown",
   "metadata": {},
   "source": [
    "## Distribution of Inter_corr_tax values in MEN\n",
    "\n",
    "Since we are going to weight features based on the Inter_corr_str_tax value we have to have an idea of how the values are distributed"
   ]
  },
  {
   "cell_type": "code",
   "execution_count": 95,
   "metadata": {},
   "outputs": [],
   "source": [
    "df = pd.read_excel( pathh + 'CONCS_FEATS_concstats_brm.xlsx')\n",
    "\n",
    "# Extracting only relevant columns (from concepts in MEN)\n",
    "NewDF = df[df['Concept'].isin(SimLex_names)]\n",
    "Newnew= NewDF[['Concept','Feature','Intercorr_Str_Tax']]\n",
    "#Newnew"
   ]
  },
  {
   "cell_type": "code",
   "execution_count": 96,
   "metadata": {},
   "outputs": [
    {
     "name": "stdout",
     "output_type": "stream",
     "text": [
      "0.0      505\n",
      "7.0       11\n",
      "8.0       10\n",
      "9.0       10\n",
      "10.0       6\n",
      "11.0      12\n",
      "12.0       6\n",
      "13.0       5\n",
      "14.0      10\n",
      "15.0       2\n",
      "16.0      10\n",
      "17.0       4\n",
      "18.0       8\n",
      "19.0       2\n",
      "20.0       2\n",
      "21.0       4\n",
      "22.0       4\n",
      "23.0       8\n",
      "24.0       3\n",
      "25.0       1\n",
      "26.0       5\n",
      "27.0       3\n",
      "28.0       2\n",
      "29.0       2\n",
      "30.0       5\n",
      "31.0       4\n",
      "32.0       3\n",
      "33.0       2\n",
      "34.0       1\n",
      "35.0       4\n",
      "        ... \n",
      "164.0      2\n",
      "167.0      1\n",
      "171.0      1\n",
      "172.0      1\n",
      "176.0      3\n",
      "180.0      2\n",
      "184.0      2\n",
      "186.0      1\n",
      "187.0      1\n",
      "188.0      1\n",
      "191.0      1\n",
      "197.0      1\n",
      "202.0      1\n",
      "207.0      2\n",
      "210.0      2\n",
      "213.0      1\n",
      "216.0      1\n",
      "231.0      3\n",
      "235.0      1\n",
      "240.0      1\n",
      "249.0      1\n",
      "259.0      1\n",
      "266.0      1\n",
      "283.0      1\n",
      "285.0      1\n",
      "290.0      1\n",
      "296.0      1\n",
      "297.0      1\n",
      "319.0      1\n",
      "320.0      1\n",
      "Name: Intercorr_Str_Tax, Length: 164, dtype: int64\n"
     ]
    }
   ],
   "source": [
    "# Plotting distribution (x-axis is the Production Frequency value)\n",
    "Newnew = Newnew.round()\n",
    "Intercorr = Newnew['Intercorr_Str_Tax'].value_counts().sort_index()\n",
    "print Intercorr"
   ]
  },
  {
   "cell_type": "code",
   "execution_count": 97,
   "metadata": {},
   "outputs": [
    {
     "name": "stdout",
     "output_type": "stream",
     "text": [
      "\n",
      "\n",
      "\n",
      "0\n",
      "Mode: Intercorr_str_tax   Number of features: 30\n",
      "Begining to encode dataset...\n",
      "End of encoding\n",
      "   Spearman's correlation value:  0.5962365227296158\n",
      "\n",
      "\n",
      "\n",
      "1\n",
      "Mode: Intercorr_str_tax   Number of features: 30\n",
      "Begining to encode dataset...\n",
      "End of encoding\n",
      "   Spearman's correlation value:  0.5982309620657846\n",
      "\n",
      "\n",
      "\n",
      "2\n",
      "Mode: Intercorr_str_tax   Number of features: 30\n",
      "Begining to encode dataset...\n",
      "End of encoding\n",
      "   Spearman's correlation value:  0.5979279738579267\n"
     ]
    }
   ],
   "source": [
    "%run EncodingDataset.ipynb\n",
    "\n",
    "num_f = 30\n",
    "mode = 'Intercorr_str_tax'\n",
    "# List of similarity values from dataset...\n",
    "for i in range (3):\n",
    "    print \"\\n\\n\"\n",
    "    print i\n",
    "    # Printing current mode\n",
    "    print \"Mode:\", mode, \"  Number of features:\", num_f\n",
    "    # Initialize memory\n",
    "    Init_mem( mode, num_f, SimLex_names) \n",
    "    # Create list of distances\n",
    "    HD_SimLex = []\n",
    "    # Loop over all pairs of concepts\n",
    "    for pair in SimLexList:\n",
    "        HD_SimLex.append(1. - HDvector.dist(Dict[pair[0]].getPointer(), Dict[pair[1]].getPointer()) / float(N))\n",
    "        \n",
    "#    pear_correlation= pearsonr(MEN_sim, HD_MEN)[0]\n",
    "    spear_correlation= spearmanr(SimLex_sim, HD_SimLex)[0]\n",
    "#    print \"   Pearson's correlation value: \", pear_correlation\n",
    "    print \"   Spearman's correlation value: \", spear_correlation"
   ]
  },
  {
   "cell_type": "markdown",
   "metadata": {},
   "source": [
    "## No_Tax...."
   ]
  },
  {
   "cell_type": "code",
   "execution_count": 98,
   "metadata": {},
   "outputs": [
    {
     "name": "stdout",
     "output_type": "stream",
     "text": [
      "\n",
      "\n",
      "\n",
      "0\n",
      "Mode: Intercorr_str_No_tax   Number of features: 30\n",
      "Begining to encode dataset...\n",
      "End of encoding\n",
      "   Spearman's correlation value:  0.6308630232623512\n",
      "\n",
      "\n",
      "\n",
      "1\n",
      "Mode: Intercorr_str_No_tax   Number of features: 30\n",
      "Begining to encode dataset...\n",
      "End of encoding\n",
      "   Spearman's correlation value:  0.6427740779971672\n",
      "\n",
      "\n",
      "\n",
      "2\n",
      "Mode: Intercorr_str_No_tax   Number of features: 30\n",
      "Begining to encode dataset...\n",
      "End of encoding\n",
      "   Spearman's correlation value:  0.6268235972999058\n"
     ]
    }
   ],
   "source": [
    "%run EncodingDataset.ipynb\n",
    "\n",
    "num_f = 30\n",
    "mode = 'Intercorr_str_No_tax'\n",
    "# List of similarity values from dataset...\n",
    "for i in range (3):\n",
    "    print \"\\n\\n\"\n",
    "    print i\n",
    "    # Printing current mode\n",
    "    print \"Mode:\", mode, \"  Number of features:\", num_f\n",
    "    # Initialize memory\n",
    "    Init_mem( mode, num_f, SimLex_names) \n",
    "    # Create list of distances\n",
    "    HD_SimLex = []\n",
    "    # Loop over all pairs of concepts\n",
    "    for pair in SimLexList:\n",
    "        HD_SimLex.append(1. - HDvector.dist(Dict[pair[0]].getPointer(), Dict[pair[1]].getPointer()) / float(N))\n",
    "        \n",
    "#    pear_correlation= pearsonr(MEN_sim, HD_MEN)[0]\n",
    "    spear_correlation= spearmanr(SimLex_sim, HD_SimLex)[0]\n",
    "#    print \"   Pearson's correlation value: \", pear_correlation\n",
    "    print \"   Spearman's correlation value: \", spear_correlation"
   ]
  },
  {
   "cell_type": "markdown",
   "metadata": {},
   "source": [
    "## Combining methods..."
   ]
  },
  {
   "cell_type": "code",
   "execution_count": 99,
   "metadata": {},
   "outputs": [
    {
     "name": "stdout",
     "output_type": "stream",
     "text": [
      "\n",
      "\n",
      "\n",
      "0\n",
      "Mode: Intercorr_PF   Number of features: 30\n",
      "Begining to encode dataset...\n",
      "End of encoding\n",
      "   Spearman's correlation value:  0.6186482501797361\n",
      "\n",
      "\n",
      "\n",
      "1\n",
      "Mode: Intercorr_PF   Number of features: 30\n",
      "Begining to encode dataset...\n",
      "End of encoding\n",
      "   Spearman's correlation value:  0.663495084458918\n",
      "\n",
      "\n",
      "\n",
      "2\n",
      "Mode: Intercorr_PF   Number of features: 30\n",
      "Begining to encode dataset...\n",
      "End of encoding\n",
      "   Spearman's correlation value:  0.6507153444872983\n"
     ]
    }
   ],
   "source": [
    "%run EncodingDataset.ipynb\n",
    "\n",
    "num_f = 30\n",
    "mode = 'Intercorr_PF'\n",
    "\n",
    "for i in range (3):\n",
    "    print \"\\n\\n\"\n",
    "    print i\n",
    "    # Printing current mode\n",
    "    print \"Mode:\", mode, \"  Number of features:\", num_f\n",
    "    # Initialize memory\n",
    "    Init_mem( mode, num_f, SimLex_names) \n",
    "    # Create list of distances\n",
    "    HD_SimLex = []\n",
    "    # Loop over all pairs of concepts\n",
    "    for pair in SimLexList:\n",
    "        HD_SimLex.append(1. - HDvector.dist(Dict[pair[0]].getPointer(), Dict[pair[1]].getPointer()) / float(N))\n",
    "        \n",
    "#    pear_correlation= pearsonr(MEN_sim, HD_MEN)[0]\n",
    "    spear_correlation= spearmanr(SimLex_sim, HD_SimLex)[0]\n",
    "#    print \"   Pearson's correlation value: \", pear_correlation\n",
    "    print \"   Spearman's correlation value: \", spear_correlation"
   ]
  },
  {
   "cell_type": "markdown",
   "metadata": {},
   "source": [
    "### Combining with Intercorr_No_Tax... "
   ]
  },
  {
   "cell_type": "code",
   "execution_count": 100,
   "metadata": {},
   "outputs": [
    {
     "name": "stdout",
     "output_type": "stream",
     "text": [
      "\n",
      "\n",
      "\n",
      "0\n",
      "Mode: Intercorr_NoT_PF   Number of features: 30\n",
      "Begining to encode dataset...\n",
      "End of encoding\n",
      "   Spearman's correlation value:  0.6622735938640898\n",
      "\n",
      "\n",
      "\n",
      "1\n",
      "Mode: Intercorr_NoT_PF   Number of features: 30\n",
      "Begining to encode dataset...\n",
      "End of encoding\n",
      "   Spearman's correlation value:  0.6393205769202088\n",
      "\n",
      "\n",
      "\n",
      "2\n",
      "Mode: Intercorr_NoT_PF   Number of features: 30\n",
      "Begining to encode dataset...\n",
      "End of encoding\n",
      "   Spearman's correlation value:  0.6342236959862662\n"
     ]
    }
   ],
   "source": [
    "%run EncodingDataset.ipynb\n",
    "\n",
    "num_f = 30\n",
    "mode = 'Intercorr_NoT_PF'\n",
    "\n",
    "for i in range (3):\n",
    "    print \"\\n\\n\"\n",
    "    print i\n",
    "    # Printing current mode\n",
    "    print \"Mode:\", mode, \"  Number of features:\", num_f\n",
    "    # Initialize memory\n",
    "    Init_mem( mode, num_f, SimLex_names) \n",
    "    # Create list of distances\n",
    "    HD_SimLex = []\n",
    "    # Loop over all pairs of concepts\n",
    "    for pair in SimLexList:\n",
    "        HD_SimLex.append(1. - HDvector.dist(Dict[pair[0]].getPointer(), Dict[pair[1]].getPointer()) / float(N))\n",
    "        \n",
    "#    pear_correlation= pearsonr(MEN_sim, HD_MEN)[0]\n",
    "    spear_correlation= spearmanr(SimLex_sim, HD_SimLex)[0]\n",
    "#    print \"   Pearson's correlation value: \", pear_correlation\n",
    "    print \"   Spearman's correlation value: \", spear_correlation"
   ]
  }
 ],
 "metadata": {
  "kernelspec": {
   "display_name": "Python 2",
   "language": "python",
   "name": "python2"
  },
  "language_info": {
   "codemirror_mode": {
    "name": "ipython",
    "version": 2
   },
   "file_extension": ".py",
   "mimetype": "text/x-python",
   "name": "python",
   "nbconvert_exporter": "python",
   "pygments_lexer": "ipython2",
   "version": "2.7.14"
  }
 },
 "nbformat": 4,
 "nbformat_minor": 2
}

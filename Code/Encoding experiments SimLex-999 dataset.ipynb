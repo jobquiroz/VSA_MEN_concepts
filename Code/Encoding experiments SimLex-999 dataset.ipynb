{
 "cells": [
  {
   "cell_type": "markdown",
   "metadata": {},
   "source": [
    "# Experiments\n",
    "\n",
    "In this notebook we perform different ways to encode the concepts' features based on *Rank_PF*, *Disting*, and *Intercorr_str_tax*. \n",
    "This notebooks uses the MEN dataset... \n",
    "\n",
    "## Header\n",
    "\n",
    "Libraries and additional programs"
   ]
  },
  {
   "cell_type": "code",
   "execution_count": 2,
   "metadata": {},
   "outputs": [],
   "source": [
    "import matplotlib\n",
    "import matplotlib.pyplot as plt\n",
    "import pandas as pd\n",
    "import numpy\n",
    "import random\n",
    "from scipy.stats.stats import pearsonr\n",
    "from scipy.stats.stats import spearmanr\n",
    "\n",
    "%matplotlib inline\n",
    "\n",
    "pathh = '../Data/' \n",
    "exp_file = '../Data/ExperimentalResults.xlsx'   \n",
    "\n",
    "%run EncodingDataset.ipynb"
   ]
  },
  {
   "cell_type": "markdown",
   "metadata": {},
   "source": [
    "## SimLex-999 dataset\n",
    "\n",
    "_SimLex-999 is a gold standard resource for the evaluation of models that learn the meaning of words and concepts. \n",
    "SimLex-999 provides a way of measuring how well models capture similarity, rather than relatedness or association. The scores in SimLex-999 therefore differ from other well-known evaluation datasets such as WordSim-353. Example:_\n",
    "\n",
    "**coast - shore**   9.000 (SimLex-999 rating)    9.1 (WordSim-353 rating)\n",
    "\n",
    "**clothes - closet**  1.96 (SimLex-999 rating)   9.1 (WordSim-353 rating)\n",
    "\n",
    "_More information: https://fh295.github.io/simlex.html_\n",
    "\n",
    "Just as with the previous dataset, first we find out how many pairs are there for which both concepts appear in the McRae dataset. "
   ]
  },
  {
   "cell_type": "code",
   "execution_count": 3,
   "metadata": {},
   "outputs": [
    {
     "name": "stdout",
     "output_type": "stream",
     "text": [
      "[['car', 'hose', 0.87], ['car', 'bridge', 0.95], ['car', 'elevator', 1.03], ['mouse', 'cat', 1.12], ['box', 'cigar', 1.25], ['box', 'elevator', 1.32], ['house', 'carpet', 1.38], ['chicken', 'rice', 1.43], ['ball', 'basket', 1.67], ['dog', 'cat', 1.75], ['house', 'key', 1.9], ['bread', 'cheese', 1.95], ['door', 'cellar', 1.97], ['spoon', 'cup', 2.02], ['boat', 'anchor', 2.25], ['boat', 'car', 2.37], ['cat', 'rabbit', 2.37], ['dog', 'horse', 2.38], ['ball', 'cannon', 2.58], ['cow', 'goat', 2.93], ['horse', 'ox', 3.02], ['bed', 'bedroom', 3.4], ['bed', 'couch', 3.42], ['bed', 'chair', 3.5], ['gun', 'knife', 3.65], ['guitar', 'drum', 3.78], ['apple', 'lemon', 4.05], ['house', 'barn', 4.33], ['wall', 'brick', 4.68], ['calf', 'bull', 4.93], ['cup', 'jar', 5.13], ['plate', 'bowl', 5.23], ['door', 'gate', 5.25], ['gun', 'cannon', 5.68], ['house', 'apartment', 5.8], ['cabin', 'hut', 6.53], ['chair', 'bench', 6.67], ['sofa', 'chair', 6.67], ['cat', 'lion', 6.75], ['sweater', 'jacket', 7.15], ['cottage', 'cabin', 7.72], ['rat', 'mouse', 7.78], ['jar', 'bottle', 7.83], ['sheep', 'lamb', 8.42]]\n"
     ]
    }
   ],
   "source": [
    "def ListConcepts():\n",
    "    \"Read an excel file and returns a list of pairs of concepts with its similarity value (according to humans)\"\n",
    "    SimLex_path = \"../Data/SimLex-999.txt\"\n",
    "    SimLex_file = open(SimLex_path, \"r\")\n",
    "    SimLex = SimLex_file.readlines()\n",
    "    SimLex = [str.split(x) for x in SimLex][1:]   # Removed first line (column's names)\n",
    "\n",
    "    # List of all concepts in McRae dataset\n",
    "    Concepts = get_concepts_list() \n",
    "    \n",
    "    #We are interested in the first elements of each line (row)\n",
    "    SimLexList = []\n",
    "    for row in SimLex:\n",
    "        if row[0] in Concepts and row[1] in Concepts and row[2] == 'N':\n",
    "            SimLexList.append([row[0], row[1], float(row[3])])\n",
    "    \n",
    "    return sorted(SimLexList, key = lambda x: x[2])\n",
    "            \n",
    "def ListNames (PairConcepts):\n",
    "    \"Given the list of pairs of concepts. It returns a list of the concept names without repetition\"\n",
    "    L = set([])\n",
    "    for x in PairConcepts:\n",
    "        L.add(x[0])\n",
    "        L.add(x[1])\n",
    "    return sorted(list(L))\n",
    "\n",
    "\n",
    "SimLexList = ListConcepts()\n",
    "\n",
    "SimLex_sim = [x[2] for x in SimLexList]\n",
    "SimLex_names = ListNames(SimLexList)\n",
    "print SimLexList"
   ]
  },
  {
   "cell_type": "markdown",
   "metadata": {},
   "source": [
    "### a) Visualizing dataset"
   ]
  },
  {
   "cell_type": "code",
   "execution_count": 4,
   "metadata": {},
   "outputs": [
    {
     "data": {
      "image/png": "[encoded data removed]",
      "text/plain": [
       "<matplotlib.figure.Figure at 0xe283da0>"
      ]
     },
     "metadata": {},
     "output_type": "display_data"
    }
   ],
   "source": [
    "plt.rcParams[\"figure.figsize\"] = [12,8]\n",
    "plt.plot([x[2] for x in SimLexList], color='k', linestyle='-', marker='.', markersize=6, linewidth=.3 )  \n",
    "plt.xlim((0,44))\n",
    "plt.ylim((0,9))\n",
    "plt.xlabel('Pair number', fontsize=18)\n",
    "plt.ylabel('Semantic similarity', fontsize=18)\n",
    "plt.grid(True)\n",
    "plt.savefig('HumSim-SimLex.png', dpi=300)"
   ]
  },
  {
   "cell_type": "markdown",
   "metadata": {},
   "source": [
    "### b) Encoding dataset"
   ]
  },
  {
   "cell_type": "code",
   "execution_count": 5,
   "metadata": {
    "scrolled": true
   },
   "outputs": [
    {
     "name": "stdout",
     "output_type": "stream",
     "text": [
      "Begining to encode dataset...\n",
      "End of encoding\n"
     ]
    }
   ],
   "source": [
    "Init_mem('normal', 100, SimLex_names)"
   ]
  },
  {
   "cell_type": "markdown",
   "metadata": {},
   "source": [
    "### b) Measuring similarity"
   ]
  },
  {
   "cell_type": "code",
   "execution_count": 6,
   "metadata": {},
   "outputs": [
    {
     "name": "stdout",
     "output_type": "stream",
     "text": [
      "Starting...\n",
      "0 1 2 3 4 5 6 7 8 9 10 11 12 13 14 15 16 17 18 19 20 21 22 23 24 25 26 27 28 29 30 31 32 33 34 35 36 37 38 39 40 41 42 43 End\n"
     ]
    }
   ],
   "source": [
    "# Create list of distances for each method\n",
    "HD_SimLex = []; McRae_SimLex = []; WUP_SimLex = []; LCH_SimLex = []; RES_SimLex = []; JCN_SimLex = []\n",
    "\n",
    "# Loop over all pairs of concepts\n",
    "i = 0\n",
    "print \"Starting...\"\n",
    "for pair in SimLexList:\n",
    "    print i,\n",
    "    HD_SimLex.append(1. - HDvector.dist(Dict[pair[0]].getPointer(), Dict[pair[1]].getPointer()) / float(N))\n",
    "    McRae_SimLex.append( McRae_simi(pair[0:2]) )\n",
    "    WUP_SimLex.append(similarity_fun(wn.wup_similarity, pair[0:2]))\n",
    "    LCH_SimLex.append(similarity_fun(wn.lch_similarity, pair[0:2]))\n",
    "    RES_SimLex.append(similarity_fun(wn.res_similarity, pair[0:2], brown_ic))\n",
    "    JCN_SimLex.append(similarity_fun(wn.jcn_similarity, pair[0:2], brown_ic))\n",
    "    i += 1\n",
    "print \"End\""
   ]
  },
  {
   "cell_type": "markdown",
   "metadata": {},
   "source": [
    "### c) Computing correlation"
   ]
  },
  {
   "cell_type": "code",
   "execution_count": 8,
   "metadata": {},
   "outputs": [
    {
     "name": "stdout",
     "output_type": "stream",
     "text": [
      "[['HDC', 0.6638890158302234], ['McRae', 0.6249538446769186], ['res', 0.5148772163908228], ['lch', 0.43627661476892626], ['wup', 0.42406723211596103], ['jcn', 0.35782780233339617]]\n",
      "[['HDC', 0.6595249857805844], ['McRae', 0.6236872269863861], ['res', 0.5229768623236039], ['wup', 0.4695487204069717], ['lch', 0.4410097351419255], ['jcn', 0.3981390142486437]]\n"
     ]
    }
   ],
   "source": [
    "Pear_correlations = [['HDC', pearsonr(SimLex_sim, HD_SimLex)[0]], ['McRae', pearsonr(SimLex_sim, McRae_SimLex)[0]],\n",
    "                ['wup', pearsonr(SimLex_sim, WUP_SimLex)[0]], ['lch', pearsonr(SimLex_sim, LCH_SimLex)[0]],\n",
    "                ['res', pearsonr(SimLex_sim, RES_SimLex)[0]], ['jcn', pearsonr(SimLex_sim, JCN_SimLex)[0]]]\n",
    "\n",
    "Spear_correlations = [['HDC', spearmanr(SimLex_sim, HD_SimLex)[0]], ['McRae', spearmanr(SimLex_sim, McRae_SimLex)[0]],\n",
    "                ['wup', spearmanr(SimLex_sim, WUP_SimLex)[0]], ['lch', spearmanr(SimLex_sim, LCH_SimLex)[0]],\n",
    "                ['res', spearmanr(SimLex_sim, RES_SimLex)[0]], ['jcn', spearmanr(SimLex_sim, JCN_SimLex)[0]]]\n",
    "\n",
    "\n",
    "Pear_correlations = sorted(Pear_correlations, key = lambda x : x[1], reverse = True)\n",
    "Spear_correlations = sorted(Spear_correlations, key = lambda x : x[1], reverse = True)\n",
    "\n",
    "print Pear_correlations\n",
    "print Spear_correlations"
   ]
  },
  {
   "cell_type": "markdown",
   "metadata": {},
   "source": [
    "### d) Plotting"
   ]
  },
  {
   "cell_type": "code",
   "execution_count": 9,
   "metadata": {},
   "outputs": [
    {
     "data": {
      "image/png": "[encoded data removed]",
      "text/plain": [
       "<matplotlib.figure.Figure at 0x5350ee10>"
      ]
     },
     "metadata": {},
     "output_type": "display_data"
    }
   ],
   "source": [
    "plt.rcParams[\"figure.figsize\"] = [20,12]\n",
    "f_size = 18\n",
    "plt.subplots_adjust(hspace=0.4)\n",
    "\n",
    "plt.subplot(231)\n",
    "plt.plot(HD_SimLex, color='k', linestyle='None', marker='x', markersize=7, linewidth=1 )  \n",
    "plt.title('VSA', fontsize=f_size)\n",
    "plt.xlabel('Pair number', fontsize=f_size)\n",
    "plt.ylabel('Semantic similarity', fontsize=f_size)\n",
    "plt.grid(True)\n",
    "\n",
    "plt.subplot(232)\n",
    "plt.plot(McRae_SimLex, color='k', linestyle='None', marker='^', markersize=6, linewidth=1 )  \n",
    "plt.title('McRae', fontsize=f_size)\n",
    "plt.xlabel('Pair number', fontsize=f_size)\n",
    "plt.ylabel('Semantic similarity', fontsize=f_size)\n",
    "plt.grid(True)\n",
    "\n",
    "\n",
    "plt.subplot(233)\n",
    "plt.plot(RES_SimLex, color='k', linestyle='None', marker='.', markersize=9, linewidth=1 )  \n",
    "plt.title('Resnik', fontsize=f_size)\n",
    "plt.xlabel('Pair number', fontsize=f_size)\n",
    "plt.ylabel('Semantic similarity', fontsize=f_size)\n",
    "plt.grid(True)\n",
    "\n",
    "plt.subplot(234)\n",
    "plt.plot(LCH_SimLex, color='k', linestyle='None', marker='*', markersize=7, linewidth=1 )  \n",
    "plt.title('Leacock & Chodorow', fontsize=f_size)\n",
    "plt.xlabel('Pair number', fontsize=f_size)\n",
    "plt.ylabel('Semantic similarity', fontsize=f_size)\n",
    "plt.grid(True)\n",
    "\n",
    "plt.subplot(235)\n",
    "plt.plot(WUP_SimLex, color='k', linestyle='None', marker='.', markersize=8, linewidth=1 )  \n",
    "plt.title('Wu & Palmer', fontsize=f_size)\n",
    "plt.xlabel('Pair number', fontsize=f_size)\n",
    "plt.ylabel('Semantic similarity', fontsize=f_size)\n",
    "plt.grid(True)\n",
    "\n",
    "plt.subplot(236)\n",
    "plt.plot(JCN_SimLex, color='k', linestyle='None', marker='+', markersize=8, linewidth=1 )  \n",
    "plt.title('Jiang & Conrath', fontsize=f_size)\n",
    "plt.xlabel('Pair number', fontsize=f_size)\n",
    "plt.ylabel('Semantic similarity', fontsize=f_size)\n",
    "plt.grid(True)\n",
    "\n",
    "plt.savefig('SubPlots-SimLex.png') #, dpi=1000)"
   ]
  },
  {
   "cell_type": "markdown",
   "metadata": {},
   "source": [
    "### Normal..."
   ]
  },
  {
   "cell_type": "code",
   "execution_count": 10,
   "metadata": {},
   "outputs": [
    {
     "name": "stdout",
     "output_type": "stream",
     "text": [
      "\n",
      "\n",
      "0\n",
      "Begining to encode dataset...\n",
      "End of encoding\n",
      "   Spearman's correlation value:  0.6382408924160048\n",
      "\n",
      "\n",
      "1\n",
      "Begining to encode dataset...\n",
      "End of encoding\n",
      "   Spearman's correlation value:  0.6326027219883016\n",
      "\n",
      "\n",
      "2\n",
      "Begining to encode dataset...\n",
      "End of encoding\n",
      "   Spearman's correlation value:  0.659877371432316\n",
      "\n",
      "\n",
      "3\n",
      "Begining to encode dataset...\n",
      "End of encoding\n",
      "   Spearman's correlation value:  0.6417168837899351\n",
      "\n",
      "\n",
      "4\n",
      "Begining to encode dataset...\n",
      "End of encoding\n",
      "   Spearman's correlation value:  0.6436676314526691\n"
     ]
    }
   ],
   "source": [
    "%run EncodingDataset.ipynb\n",
    "\n",
    "num_f = 30\n",
    "mode = 'normal'\n",
    "\n",
    "for i in range(5):\n",
    "    # Printing current mode\n",
    "    print \"\\n\\n\",i\n",
    "    # Initialize memory\n",
    "    Init_mem( mode, num_f, SimLex_names) \n",
    "    # Create list of distances\n",
    "    HD_SimLex = []\n",
    "    # Loop over all pairs of concepts\n",
    "    for pair in SimLexList:\n",
    "        HD_SimLex.append(1. - HDvector.dist(Dict[pair[0]].getPointer(), Dict[pair[1]].getPointer()) / float(N))\n",
    "        \n",
    "#    pear_correlation= pearsonr(MEN_sim, HD_MEN)[0]\n",
    "    spear_correlation= spearmanr(SimLex_sim, HD_SimLex)[0]\n",
    "    #print \"   Pearson's correlation value: \", pear_correlation\n",
    "    print \"   Spearman's correlation value: \", spear_correlation"
   ]
  },
  {
   "cell_type": "markdown",
   "metadata": {},
   "source": [
    "## Exploring some characteristics of the SimLex dataset\n",
    "\n",
    "List of names and a list of how many features are there for each concept"
   ]
  },
  {
   "cell_type": "code",
   "execution_count": 11,
   "metadata": {},
   "outputs": [
    {
     "name": "stdout",
     "output_type": "stream",
     "text": [
      "[14, 18, 19, 9, 17, 9, 17, 10, 11, 10, 15, 14, 14, 16, 9, 14, 12, 10, 14, 17, 16, 17, 20, 10, 16, 19, 20, 11, 13, 20, 22, 21, 18, 13, 13, 14, 14, 20, 11, 16, 19, 16, 16, 6, 15, 12, 12, 17, 16, 17, 20, 19, 11, 20, 14, 22, 10, 21, 18, 19, 11, 14]\n",
      "22 6 15\n"
     ]
    }
   ],
   "source": [
    "#print MEN_names\n",
    "#print Dict_defs[MEN_names[0]]\n",
    "L = []\n",
    "for n in SimLex_names:\n",
    "    L.append(len(Dict_defs[n]))\n",
    "\n",
    "print L\n",
    "print max(L), min(L), sum(L)/len(L)"
   ]
  },
  {
   "cell_type": "markdown",
   "metadata": {},
   "source": [
    "## Distribution of Prod_Freq values in MEN\n",
    "\n",
    "Since we are going to weight features based on the Prod_Freq value we have to have an idea of how the prod_freq values are distributed"
   ]
  },
  {
   "cell_type": "code",
   "execution_count": 12,
   "metadata": {},
   "outputs": [],
   "source": [
    "df = pd.read_excel( pathh + 'CONCS_FEATS_concstats_brm.xlsx')\n",
    "\n",
    "# Extracting only relevant columns (from concepts in MEN)\n",
    "NewDF = df[df['Concept'].isin(SimLex_names)]\n",
    "Newnew= NewDF[['Concept','Feature','Prod_Freq']]\n",
    "#Newnew"
   ]
  },
  {
   "cell_type": "code",
   "execution_count": 13,
   "metadata": {},
   "outputs": [
    {
     "data": {
      "text/plain": [
       "<matplotlib.axes._subplots.AxesSubplot at 0x577cc9e8>"
      ]
     },
     "execution_count": 13,
     "metadata": {},
     "output_type": "execute_result"
    },
    {
     "data": {
      "image/png": "[encoded data removed]",
      "text/plain": [
       "<matplotlib.figure.Figure at 0x577d31d0>"
      ]
     },
     "metadata": {},
     "output_type": "display_data"
    }
   ],
   "source": [
    "# Plotting distribution (x-axis is the Production Frequency value)\n",
    "Freq = Newnew['Prod_Freq'].value_counts().sort_index()\n",
    "#print Freq.sort_values()\n",
    "Freq.plot('bar')"
   ]
  },
  {
   "cell_type": "markdown",
   "metadata": {},
   "source": [
    "From the previous analysis I decided to weight each feature according to the following rules:\n",
    "\n",
    "|Prod_Freq| Weight |\n",
    "| ----- | ----- |\n",
    "|28-30|5|\n",
    "|21-27|4|\n",
    "|15-20|3|\n",
    "|10-14|2|\n",
    "|5-9|1|"
   ]
  },
  {
   "cell_type": "markdown",
   "metadata": {},
   "source": [
    "## Testing weighted HDC representations\n",
    "\n",
    "Here we find the correlation between the similarity values obtained from the HDC weighted representations and the dataset."
   ]
  },
  {
   "cell_type": "code",
   "execution_count": 31,
   "metadata": {
    "scrolled": false
   },
   "outputs": [
    {
     "name": "stdout",
     "output_type": "stream",
     "text": [
      "\n",
      "\n",
      "\n",
      "0\n",
      "Mode: Prod_Freq   Number of features: 30\n",
      "Begining to encode dataset...\n",
      "End of encoding\n",
      "   Spearman's correlation value:  0.6340122645952275\n",
      "\n",
      "\n",
      "\n",
      "1\n",
      "Mode: Prod_Freq   Number of features: 30\n",
      "Begining to encode dataset...\n",
      "End of encoding\n",
      "   Spearman's correlation value:  0.631475087902761\n",
      "\n",
      "\n",
      "\n",
      "2\n",
      "Mode: Prod_Freq   Number of features: 30\n",
      "Begining to encode dataset...\n",
      "End of encoding\n",
      "   Spearman's correlation value:  0.6610282979753763\n",
      "\n",
      "\n",
      "\n",
      "3\n",
      "Mode: Prod_Freq   Number of features: 30\n",
      "Begining to encode dataset...\n",
      "End of encoding\n",
      "   Spearman's correlation value:  0.6527821831589652\n",
      "\n",
      "\n",
      "\n",
      "4\n",
      "Mode: Prod_Freq   Number of features: 30\n",
      "Begining to encode dataset...\n",
      "End of encoding\n",
      "   Spearman's correlation value:  0.6484829267162211\n"
     ]
    }
   ],
   "source": [
    "%run EncodingDataset.ipynb\n",
    "\n",
    "num_f = 30\n",
    "mode = 'Prod_Freq'\n",
    "# List of similarity values from dataset...\n",
    "for i in range (5):\n",
    "    print \"\\n\\n\"\n",
    "    print i\n",
    "    # Printing current mode\n",
    "    print \"Mode:\", mode, \"  Number of features:\", num_f\n",
    "    # Initialize memory\n",
    "    Init_mem( mode, num_f, SimLex_names) \n",
    "    # Create list of distances\n",
    "    HD_SimLex = []\n",
    "    # Loop over all pairs of concepts\n",
    "    for pair in SimLexList:\n",
    "        HD_SimLex.append(1. - HDvector.dist(Dict[pair[0]].getPointer(), Dict[pair[1]].getPointer()) / float(N))\n",
    "        \n",
    "#    pear_correlation= pearsonr(MEN_sim, HD_MEN)[0]\n",
    "    spear_correlation= spearmanr(SimLex_sim, HD_SimLex)[0]\n",
    "#    print \"   Pearson's correlation value: \", pear_correlation\n",
    "    print \"   Spearman's correlation value: \", spear_correlation"
   ]
  },
  {
   "cell_type": "markdown",
   "metadata": {},
   "source": [
    "## Distribution of Inter_corr_tax values in MEN\n",
    "\n",
    "Since we are going to weight features based on the Inter_corr_str_tax value we have to have an idea of how the values are distributed"
   ]
  },
  {
   "cell_type": "code",
   "execution_count": 15,
   "metadata": {},
   "outputs": [],
   "source": [
    "df = pd.read_excel( pathh + 'CONCS_FEATS_concstats_brm.xlsx')\n",
    "\n",
    "# Extracting only relevant columns (from concepts in MEN)\n",
    "NewDF = df[df['Concept'].isin(SimLex_names)]\n",
    "Newnew= NewDF[['Concept','Feature','Intercorr_Str_Tax']]\n",
    "#Newnew"
   ]
  },
  {
   "cell_type": "code",
   "execution_count": 22,
   "metadata": {},
   "outputs": [
    {
     "name": "stdout",
     "output_type": "stream",
     "text": [
      "0.0      505\n",
      "7.0       11\n",
      "8.0       10\n",
      "9.0       10\n",
      "10.0       6\n",
      "11.0      12\n",
      "12.0       6\n",
      "13.0       5\n",
      "14.0      10\n",
      "15.0       2\n",
      "16.0      10\n",
      "17.0       4\n",
      "18.0       8\n",
      "19.0       2\n",
      "20.0       2\n",
      "21.0       4\n",
      "22.0       4\n",
      "23.0       8\n",
      "24.0       3\n",
      "25.0       1\n",
      "26.0       5\n",
      "27.0       3\n",
      "28.0       2\n",
      "29.0       2\n",
      "30.0       5\n",
      "31.0       4\n",
      "32.0       3\n",
      "33.0       2\n",
      "34.0       1\n",
      "35.0       4\n",
      "        ... \n",
      "164.0      2\n",
      "167.0      1\n",
      "171.0      1\n",
      "172.0      1\n",
      "176.0      3\n",
      "180.0      2\n",
      "184.0      2\n",
      "186.0      1\n",
      "187.0      1\n",
      "188.0      1\n",
      "191.0      1\n",
      "197.0      1\n",
      "202.0      1\n",
      "207.0      2\n",
      "210.0      2\n",
      "213.0      1\n",
      "216.0      1\n",
      "231.0      3\n",
      "235.0      1\n",
      "240.0      1\n",
      "249.0      1\n",
      "259.0      1\n",
      "266.0      1\n",
      "283.0      1\n",
      "285.0      1\n",
      "290.0      1\n",
      "296.0      1\n",
      "297.0      1\n",
      "319.0      1\n",
      "320.0      1\n",
      "Name: Intercorr_Str_Tax, Length: 164, dtype: int64\n"
     ]
    }
   ],
   "source": [
    "# Plotting distribution (x-axis is the Production Frequency value)\n",
    "Newnew = Newnew.round()\n",
    "Intercorr = Newnew['Intercorr_Str_Tax'].value_counts().sort_index()\n",
    "print Intercorr"
   ]
  },
  {
   "cell_type": "code",
   "execution_count": 17,
   "metadata": {},
   "outputs": [
    {
     "name": "stdout",
     "output_type": "stream",
     "text": [
      "\n",
      "\n",
      "\n",
      "0\n",
      "Mode: Intercorr_str_tax   Number of features: 30\n",
      "Begining to encode dataset...\n",
      "End of encoding\n",
      "   Spearman's correlation value:  0.6333074932917645\n",
      "\n",
      "\n",
      "\n",
      "1\n",
      "Mode: Intercorr_str_tax   Number of features: 30\n",
      "Begining to encode dataset...\n",
      "End of encoding\n",
      "   Spearman's correlation value:  0.6010289675931636\n",
      "\n",
      "\n",
      "\n",
      "2\n",
      "Mode: Intercorr_str_tax   Number of features: 30\n",
      "Begining to encode dataset...\n",
      "End of encoding\n",
      "   Spearman's correlation value:  0.6075128635850223\n",
      "\n",
      "\n",
      "\n",
      "3\n",
      "Mode: Intercorr_str_tax   Number of features: 30\n",
      "Begining to encode dataset...\n",
      "End of encoding\n",
      "   Spearman's correlation value:  0.611318628623722\n",
      "\n",
      "\n",
      "\n",
      "4\n",
      "Mode: Intercorr_str_tax   Number of features: 30\n",
      "Begining to encode dataset...\n",
      "End of encoding\n",
      "   Spearman's correlation value:  0.6133840790361126\n"
     ]
    }
   ],
   "source": [
    "%run EncodingDataset.ipynb\n",
    "\n",
    "num_f = 30\n",
    "mode = 'Intercorr_str_tax'\n",
    "# List of similarity values from dataset...\n",
    "for i in range (5):\n",
    "    print \"\\n\\n\"\n",
    "    print i\n",
    "    # Printing current mode\n",
    "    print \"Mode:\", mode, \"  Number of features:\", num_f\n",
    "    # Initialize memory\n",
    "    Init_mem( mode, num_f, SimLex_names) \n",
    "    # Create list of distances\n",
    "    HD_SimLex = []\n",
    "    # Loop over all pairs of concepts\n",
    "    for pair in SimLexList:\n",
    "        HD_SimLex.append(1. - HDvector.dist(Dict[pair[0]].getPointer(), Dict[pair[1]].getPointer()) / float(N))\n",
    "        \n",
    "#    pear_correlation= pearsonr(MEN_sim, HD_MEN)[0]\n",
    "    spear_correlation= spearmanr(SimLex_sim, HD_SimLex)[0]\n",
    "#    print \"   Pearson's correlation value: \", pear_correlation\n",
    "    print \"   Spearman's correlation value: \", spear_correlation"
   ]
  },
  {
   "cell_type": "markdown",
   "metadata": {},
   "source": [
    "## No_Tax...."
   ]
  },
  {
   "cell_type": "code",
   "execution_count": 18,
   "metadata": {},
   "outputs": [
    {
     "name": "stdout",
     "output_type": "stream",
     "text": [
      "\n",
      "\n",
      "\n",
      "0\n",
      "Mode: Intercorr_str_No_tax   Number of features: 30\n",
      "Begining to encode dataset...\n",
      "End of encoding\n",
      "   Spearman's correlation value:  0.6240749892164005\n",
      "\n",
      "\n",
      "\n",
      "1\n",
      "Mode: Intercorr_str_No_tax   Number of features: 30\n",
      "Begining to encode dataset...\n",
      "End of encoding\n",
      "   Spearman's correlation value:  0.6218635466591484\n",
      "\n",
      "\n",
      "\n",
      "2\n",
      "Mode: Intercorr_str_No_tax   Number of features: 30\n",
      "Begining to encode dataset...\n",
      "End of encoding\n",
      "   Spearman's correlation value:  0.6283609969719018\n",
      "\n",
      "\n",
      "\n",
      "3\n",
      "Mode: Intercorr_str_No_tax   Number of features: 30\n",
      "Begining to encode dataset...\n",
      "End of encoding\n",
      "   Spearman's correlation value:  0.6434562000616304\n",
      "\n",
      "\n",
      "\n",
      "4\n",
      "Mode: Intercorr_str_No_tax   Number of features: 30\n",
      "Begining to encode dataset...\n",
      "End of encoding\n",
      "   Spearman's correlation value:  0.6362194739123277\n"
     ]
    }
   ],
   "source": [
    "%run EncodingDataset.ipynb\n",
    "\n",
    "num_f = 30\n",
    "mode = 'Intercorr_str_No_tax'\n",
    "# List of similarity values from dataset...\n",
    "for i in range (5):\n",
    "    print \"\\n\\n\"\n",
    "    print i\n",
    "    # Printing current mode\n",
    "    print \"Mode:\", mode, \"  Number of features:\", num_f\n",
    "    # Initialize memory\n",
    "    Init_mem( mode, num_f, SimLex_names) \n",
    "    # Create list of distances\n",
    "    HD_SimLex = []\n",
    "    # Loop over all pairs of concepts\n",
    "    for pair in SimLexList:\n",
    "        HD_SimLex.append(1. - HDvector.dist(Dict[pair[0]].getPointer(), Dict[pair[1]].getPointer()) / float(N))\n",
    "        \n",
    "#    pear_correlation= pearsonr(MEN_sim, HD_MEN)[0]\n",
    "    spear_correlation= spearmanr(SimLex_sim, HD_SimLex)[0]\n",
    "#    print \"   Pearson's correlation value: \", pear_correlation\n",
    "    print \"   Spearman's correlation value: \", spear_correlation"
   ]
  },
  {
   "cell_type": "markdown",
   "metadata": {},
   "source": [
    "## Combining methods..."
   ]
  },
  {
   "cell_type": "code",
   "execution_count": 19,
   "metadata": {},
   "outputs": [
    {
     "name": "stdout",
     "output_type": "stream",
     "text": [
      "\n",
      "\n",
      "\n",
      "0\n",
      "Mode: Intercorr_PF   Number of features: 30\n",
      "Begining to encode dataset...\n",
      "End of encoding\n",
      "   Spearman's correlation value:  0.6338231670426013\n",
      "\n",
      "\n",
      "\n",
      "1\n",
      "Mode: Intercorr_PF   Number of features: 30\n",
      "Begining to encode dataset...\n",
      "End of encoding\n",
      "   Spearman's correlation value:  0.6237445822669879\n",
      "\n",
      "\n",
      "\n",
      "2\n",
      "Mode: Intercorr_PF   Number of features: 30\n",
      "Begining to encode dataset...\n",
      "End of encoding\n",
      "   Spearman's correlation value:  0.6453590825809803\n",
      "\n",
      "\n",
      "\n",
      "3\n",
      "Mode: Intercorr_PF   Number of features: 30\n",
      "Begining to encode dataset...\n",
      "End of encoding\n",
      "   Spearman's correlation value:  0.6438085857133616\n",
      "\n",
      "\n",
      "\n",
      "4\n",
      "Mode: Intercorr_PF   Number of features: 30\n",
      "Begining to encode dataset...\n",
      "End of encoding\n",
      "   Spearman's correlation value:  0.635844669984231\n"
     ]
    }
   ],
   "source": [
    "%run EncodingDataset.ipynb\n",
    "\n",
    "num_f = 30\n",
    "mode = 'Intercorr_PF'\n",
    "\n",
    "for i in range (5):\n",
    "    print \"\\n\\n\"\n",
    "    print i\n",
    "    # Printing current mode\n",
    "    print \"Mode:\", mode, \"  Number of features:\", num_f\n",
    "    # Initialize memory\n",
    "    Init_mem( mode, num_f, SimLex_names) \n",
    "    # Create list of distances\n",
    "    HD_SimLex = []\n",
    "    # Loop over all pairs of concepts\n",
    "    for pair in SimLexList:\n",
    "        HD_SimLex.append(1. - HDvector.dist(Dict[pair[0]].getPointer(), Dict[pair[1]].getPointer()) / float(N))\n",
    "        \n",
    "#    pear_correlation= pearsonr(MEN_sim, HD_MEN)[0]\n",
    "    spear_correlation= spearmanr(SimLex_sim, HD_SimLex)[0]\n",
    "#    print \"   Pearson's correlation value: \", pear_correlation\n",
    "    print \"   Spearman's correlation value: \", spear_correlation"
   ]
  },
  {
   "cell_type": "markdown",
   "metadata": {},
   "source": [
    "### Combining with Intercorr_No_Tax... "
   ]
  },
  {
   "cell_type": "code",
   "execution_count": 21,
   "metadata": {},
   "outputs": [
    {
     "name": "stdout",
     "output_type": "stream",
     "text": [
      "\n",
      "\n",
      "\n",
      "0\n",
      "Mode: Intercorr_NoT_PF   Number of features: 30\n",
      "Begining to encode dataset...\n",
      "End of encoding\n",
      "   Spearman's correlation value:  0.6325897738008306\n",
      "\n",
      "\n",
      "\n",
      "1\n",
      "Mode: Intercorr_NoT_PF   Number of features: 30\n",
      "Begining to encode dataset...\n",
      "End of encoding\n",
      "   Spearman's correlation value:  0.6446292641669015\n",
      "\n",
      "\n",
      "\n",
      "2\n",
      "Mode: Intercorr_NoT_PF   Number of features: 30\n",
      "Begining to encode dataset...\n",
      "End of encoding\n",
      "   Spearman's correlation value:  0.6453818237083401\n",
      "\n",
      "\n",
      "\n",
      "3\n",
      "Mode: Intercorr_NoT_PF   Number of features: 30\n",
      "Begining to encode dataset...\n",
      "End of encoding\n",
      "   Spearman's correlation value:  0.6414123632815879\n",
      "\n",
      "\n",
      "\n",
      "4\n",
      "Mode: Intercorr_NoT_PF   Number of features: 30\n",
      "Begining to encode dataset...\n",
      "End of encoding\n",
      "   Spearman's correlation value:  0.6711773623648052\n"
     ]
    }
   ],
   "source": [
    "%run EncodingDataset.ipynb\n",
    "\n",
    "num_f = 30\n",
    "mode = 'Intercorr_NoT_PF'\n",
    "\n",
    "for i in range (5):\n",
    "    print \"\\n\\n\"\n",
    "    print i\n",
    "    # Printing current mode\n",
    "    print \"Mode:\", mode, \"  Number of features:\", num_f\n",
    "    # Initialize memory\n",
    "    Init_mem( mode, num_f, SimLex_names) \n",
    "    # Create list of distances\n",
    "    HD_SimLex = []\n",
    "    # Loop over all pairs of concepts\n",
    "    for pair in SimLexList:\n",
    "        HD_SimLex.append(1. - HDvector.dist(Dict[pair[0]].getPointer(), Dict[pair[1]].getPointer()) / float(N))\n",
    "        \n",
    "#    pear_correlation= pearsonr(MEN_sim, HD_MEN)[0]\n",
    "    spear_correlation= spearmanr(SimLex_sim, HD_SimLex)[0]\n",
    "#    print \"   Pearson's correlation value: \", pear_correlation\n",
    "    print \"   Spearman's correlation value: \", spear_correlation"
   ]
  }
 ],
 "metadata": {
  "kernelspec": {
   "display_name": "Python 2",
   "language": "python",
   "name": "python2"
  },
  "language_info": {
   "codemirror_mode": {
    "name": "ipython",
    "version": 2
   },
   "file_extension": ".py",
   "mimetype": "text/x-python",
   "name": "python",
   "nbconvert_exporter": "python",
   "pygments_lexer": "ipython2",
   "version": "2.7.14"
  }
 },
 "nbformat": 4,
 "nbformat_minor": 2
}

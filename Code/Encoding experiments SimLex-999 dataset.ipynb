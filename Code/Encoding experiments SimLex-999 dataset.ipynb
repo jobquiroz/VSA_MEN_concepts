{
 "cells": [
  {
   "cell_type": "markdown",
   "metadata": {},
   "source": [
    "# Experiments\n",
    "\n",
    "In this notebook we perform different ways to encode the concepts' features based on *Rank_PF*, *Disting*, and *Intercorr_str_tax*. \n",
    "This notebooks uses the MEN dataset... \n",
    "\n",
    "## Header\n",
    "\n",
    "Libraries and additional programs"
   ]
  },
  {
   "cell_type": "code",
   "execution_count": 104,
   "metadata": {},
   "outputs": [],
   "source": [
    "import matplotlib\n",
    "import matplotlib.pyplot as plt\n",
    "import pandas as pd\n",
    "import numpy\n",
    "import random\n",
    "from scipy.stats.stats import pearsonr\n",
    "from scipy.stats.stats import spearmanr\n",
    "\n",
    "%matplotlib inline\n",
    "\n",
    "pathh = '../Data/'"
   ]
  },
  {
   "cell_type": "markdown",
   "metadata": {},
   "source": [
    "## SimLex-999 dataset\n",
    "\n",
    "_SimLex-999 is a gold standard resource for the evaluation of models that learn the meaning of words and concepts. \n",
    "SimLex-999 provides a way of measuring how well models capture similarity, rather than relatedness or association. The scores in SimLex-999 therefore differ from other well-known evaluation datasets such as WordSim-353. Example:_\n",
    "\n",
    "**coast - shore**   9.000 (SimLex-999 rating)    9.1 (WordSim-353 rating)\n",
    "\n",
    "**clothes - closet**  1.96 (SimLex-999 rating)   9.1 (WordSim-353 rating)\n",
    "\n",
    "_More information: https://fh295.github.io/simlex.html_\n",
    "\n",
    "Just as with the previous dataset, first we find out how many pairs are there for which both concepts appear in the McRae dataset. "
   ]
  },
  {
   "cell_type": "code",
   "execution_count": 105,
   "metadata": {},
   "outputs": [],
   "source": [
    "def ListConcepts():\n",
    "    \"Read an excel file and returns a list of pairs of concepts with its similarity value (according to humans)\"\n",
    "    SimLex_path = \"../Data/SimLex-999.txt\"\n",
    "    SimLex_file = open(SimLex_path, \"r\")\n",
    "    SimLex = SimLex_file.readlines()\n",
    "    SimLex = [str.split(x) for x in SimLex][1:]   # Removed first line (column's names)\n",
    "\n",
    "    # List of all concepts in McRae dataset\n",
    "    Concepts = get_concepts_list() \n",
    "    \n",
    "    #We are interested in the first elements of each line (row)\n",
    "    SimLexList = []\n",
    "    for row in SimLex:\n",
    "        if row[0] in Concepts and row[1] in Concepts and row[2] == 'N':\n",
    "            SimLexList.append([row[0], row[1], float(row[3])])\n",
    "    \n",
    "    return sorted(SimLexList, key = lambda x: x[2])\n",
    "            \n",
    "def ListNames (PairConcepts):\n",
    "    \"Given the list of pairs of concepts. It returns a list of the concept names without repetition\"\n",
    "    L = set([])\n",
    "    for x in PairConcepts:\n",
    "        L.add(x[0])\n",
    "        L.add(x[1])\n",
    "    return sorted(list(L))\n",
    "\n",
    "\n",
    "SimLexList = ListConcepts()\n",
    "\n",
    "SimLex_sim = [x[2] for x in SimLexList]\n",
    "SimLex_names = ListNames(SimLexList)\n",
    "#for x in SimLexList: print x"
   ]
  },
  {
   "cell_type": "markdown",
   "metadata": {},
   "source": [
    "### a) Visualizing dataset"
   ]
  },
  {
   "cell_type": "code",
   "execution_count": 106,
   "metadata": {},
   "outputs": [
    {
     "data": {
      "image/png": "[encoded data removed]",
      "text/plain": [
       "<matplotlib.figure.Figure at 0x5569ff98>"
      ]
     },
     "metadata": {},
     "output_type": "display_data"
    }
   ],
   "source": [
    "plt.rcParams[\"figure.figsize\"] = [12,8]\n",
    "plt.plot([x[2] for x in SimLexList], color='k', linestyle='-', marker='.', markersize=6, linewidth=.3 )  \n",
    "plt.xlim((0,44))\n",
    "plt.ylim((0,9))\n",
    "plt.xlabel('Pair number', fontsize=18)\n",
    "plt.ylabel('Semantic similarity', fontsize=18)\n",
    "plt.grid(True)\n",
    "plt.savefig('HumSim-SimLex.png', dpi=300)"
   ]
  },
  {
   "cell_type": "markdown",
   "metadata": {},
   "source": [
    "### b) Encoding dataset"
   ]
  },
  {
   "cell_type": "code",
   "execution_count": 107,
   "metadata": {
    "scrolled": true
   },
   "outputs": [
    {
     "name": "stdout",
     "output_type": "stream",
     "text": [
      "Begining to encode dataset...\n",
      "End of encoding\n"
     ]
    }
   ],
   "source": [
    "%run EncodingDataset.ipynb\n",
    "\n",
    "Init_mem('normal', 100, SimLex_names)"
   ]
  },
  {
   "cell_type": "markdown",
   "metadata": {},
   "source": [
    "### b) Measuring similarity"
   ]
  },
  {
   "cell_type": "code",
   "execution_count": 108,
   "metadata": {},
   "outputs": [
    {
     "name": "stdout",
     "output_type": "stream",
     "text": [
      "Starting...\n",
      "0 1 2 3 4 5 6 7 8 9 10 11 12 13 14 15 16 17 18 19 20 21 22 23 24 25 26 27 28 29 30 31 32 33 34 35 36 37 38 39 40 41 42 43 End\n"
     ]
    }
   ],
   "source": [
    "# Create list of distances for each method\n",
    "HD_SimLex = []; McRae_SimLex = []; WUP_SimLex = []; LCH_SimLex = []; RES_SimLex = []; JCN_SimLex = []\n",
    "\n",
    "# Loop over all pairs of concepts\n",
    "i = 0\n",
    "print \"Starting...\"\n",
    "for pair in SimLexList:\n",
    "    print i,\n",
    "    HD_SimLex.append(HDvector.dist(Dict[pair[0]].getPointer(), Dict[pair[1]].getPointer()))\n",
    "    McRae_SimLex.append( McRae_simi(pair[0:2]) )\n",
    "    WUP_SimLex.append(similarity_fun(wn.wup_similarity, pair[0:2]))\n",
    "    LCH_SimLex.append(similarity_fun(wn.lch_similarity, pair[0:2]))\n",
    "    RES_SimLex.append(similarity_fun(wn.res_similarity, pair[0:2], brown_ic))\n",
    "    JCN_SimLex.append(similarity_fun(wn.jcn_similarity, pair[0:2], brown_ic))\n",
    "    i += 1\n",
    "\n",
    "#Max-min normalization to HD_sim...\n",
    "max_sim = float(max(HD_SimLex)); min_sim = float(min(HD_SimLex))\n",
    "HD_SimLex = map(lambda x: 1. - (float(x) - min_sim) / (max_sim - min_sim), HD_SimLex)\n",
    "    \n",
    "print \"End\""
   ]
  },
  {
   "cell_type": "markdown",
   "metadata": {},
   "source": [
    "### c) Computing correlation"
   ]
  },
  {
   "cell_type": "code",
   "execution_count": 109,
   "metadata": {},
   "outputs": [
    {
     "name": "stdout",
     "output_type": "stream",
     "text": [
      "Pearson's correlations:  [['HDC', 0.6607019375561832], ['McRae', 0.6249538446769186], ['res', 0.5148772163908228], ['lch', 0.43627661476892626], ['wup', 0.42406723211596103], ['jcn', 0.35782780233339617]]\n",
      "\n",
      "Spearman's correlations:  [['HDC', 0.6485057795319988], ['McRae', 0.6236872269863861], ['res', 0.5229768623236039], ['wup', 0.4695487204069717], ['lch', 0.4410097351419255], ['jcn', 0.3981390142486437]]\n"
     ]
    }
   ],
   "source": [
    "Pear_correlations = [['HDC', pearsonr(SimLex_sim, HD_SimLex)[0]], ['McRae', pearsonr(SimLex_sim, McRae_SimLex)[0]],\n",
    "                ['wup', pearsonr(SimLex_sim, WUP_SimLex)[0]], ['lch', pearsonr(SimLex_sim, LCH_SimLex)[0]],\n",
    "                ['res', pearsonr(SimLex_sim, RES_SimLex)[0]], ['jcn', pearsonr(SimLex_sim, JCN_SimLex)[0]]]\n",
    "\n",
    "Spear_correlations = [['HDC', spearmanr(SimLex_sim, HD_SimLex)[0]], ['McRae', spearmanr(SimLex_sim, McRae_SimLex)[0]],\n",
    "                ['wup', spearmanr(SimLex_sim, WUP_SimLex)[0]], ['lch', spearmanr(SimLex_sim, LCH_SimLex)[0]],\n",
    "                ['res', spearmanr(SimLex_sim, RES_SimLex)[0]], ['jcn', spearmanr(SimLex_sim, JCN_SimLex)[0]]]\n",
    "\n",
    "\n",
    "print \"Pearson's correlations: \", sorted(Pear_correlations, key = lambda x : x[1], reverse = True)\n",
    "print \"\\nSpearman's correlations: \", sorted(Spear_correlations, key = lambda x : x[1], reverse = True)"
   ]
  },
  {
   "cell_type": "markdown",
   "metadata": {},
   "source": [
    "### d) Plotting"
   ]
  },
  {
   "cell_type": "code",
   "execution_count": 110,
   "metadata": {},
   "outputs": [
    {
     "data": {
      "image/png": "[encoded data removed]",
      "text/plain": [
       "<matplotlib.figure.Figure at 0x34ccc0f0>"
      ]
     },
     "metadata": {},
     "output_type": "display_data"
    }
   ],
   "source": [
    "plt.rcParams[\"figure.figsize\"] = [20,12]\n",
    "f_size = 18\n",
    "plt.subplots_adjust(hspace=0.4)\n",
    "\n",
    "plt.subplot(231)\n",
    "plt.plot(HD_SimLex, color='k', linestyle='None', marker='x', markersize=7, linewidth=1 )  \n",
    "plt.title('VSA', fontsize=f_size)\n",
    "plt.xlabel('Pair number', fontsize=f_size)\n",
    "plt.ylabel('Semantic similarity', fontsize=f_size)\n",
    "plt.grid(True)\n",
    "\n",
    "plt.subplot(232)\n",
    "plt.plot(McRae_SimLex, color='k', linestyle='None', marker='^', markersize=6, linewidth=1 )  \n",
    "plt.title('McRae', fontsize=f_size)\n",
    "plt.xlabel('Pair number', fontsize=f_size)\n",
    "plt.ylabel('Semantic similarity', fontsize=f_size)\n",
    "plt.grid(True)\n",
    "\n",
    "\n",
    "plt.subplot(233)\n",
    "plt.plot(RES_SimLex, color='k', linestyle='None', marker='.', markersize=9, linewidth=1 )  \n",
    "plt.title('Resnik', fontsize=f_size)\n",
    "plt.xlabel('Pair number', fontsize=f_size)\n",
    "plt.ylabel('Semantic similarity', fontsize=f_size)\n",
    "plt.grid(True)\n",
    "\n",
    "plt.subplot(234)\n",
    "plt.plot(LCH_SimLex, color='k', linestyle='None', marker='*', markersize=7, linewidth=1 )  \n",
    "plt.title('Leacock & Chodorow', fontsize=f_size)\n",
    "plt.xlabel('Pair number', fontsize=f_size)\n",
    "plt.ylabel('Semantic similarity', fontsize=f_size)\n",
    "plt.grid(True)\n",
    "\n",
    "plt.subplot(235)\n",
    "plt.plot(WUP_SimLex, color='k', linestyle='None', marker='.', markersize=8, linewidth=1 )  \n",
    "plt.title('Wu & Palmer', fontsize=f_size)\n",
    "plt.xlabel('Pair number', fontsize=f_size)\n",
    "plt.ylabel('Semantic similarity', fontsize=f_size)\n",
    "plt.grid(True)\n",
    "\n",
    "plt.subplot(236)\n",
    "plt.plot(JCN_SimLex, color='k', linestyle='None', marker='+', markersize=8, linewidth=1 )  \n",
    "plt.title('Jiang & Conrath', fontsize=f_size)\n",
    "plt.xlabel('Pair number', fontsize=f_size)\n",
    "plt.ylabel('Semantic similarity', fontsize=f_size)\n",
    "plt.grid(True)\n",
    "\n",
    "plt.savefig('SubPlots-SimLex.png') #, dpi=1000)"
   ]
  },
  {
   "cell_type": "code",
   "execution_count": 111,
   "metadata": {},
   "outputs": [
    {
     "name": "stdout",
     "output_type": "stream",
     "text": [
      "  i  c1     c2    SimLex-999 VSA Dif\n",
      "[9, 'dog', 'cat', 1.75, 0.66, 0.54]\n",
      "[19, 'cow', 'goat', 2.93, 0.79, 0.51]\n",
      "[38, 'cat', 'lion', 6.75, 0.33, 0.46]\n",
      "[3, 'mouse', 'cat', 1.12, 0.43, 0.4]\n",
      "[32, 'door', 'gate', 5.25, 0.98, 0.39]\n",
      "[28, 'wall', 'brick', 4.68, 0.14, 0.37]\n",
      "[29, 'calf', 'bull', 4.93, 0.18, 0.37]\n",
      "[40, 'cottage', 'cabin', 7.72, 0.55, 0.37]\n",
      "[35, 'cabin', 'hut', 6.53, 0.42, 0.34]\n",
      "[21, 'bed', 'bedroom', 3.4, 0.03, 0.31]\n",
      "[26, 'apple', 'lemon', 4.05, 0.72, 0.3]\n",
      "[39, 'sweater', 'jacket', 7.15, 0.55, 0.3]\n",
      "[30, 'cup', 'jar', 5.13, 0.28, 0.29]\n",
      "[36, 'chair', 'bench', 6.67, 0.53, 0.25]\n",
      "[11, 'bread', 'cheese', 1.95, 0.38, 0.24]\n",
      "[4, 'box', 'cigar', 1.25, 0.26, 0.22]\n",
      "[13, 'spoon', 'cup', 2.02, 0.38, 0.22]\n",
      "[17, 'dog', 'horse', 2.38, 0.42, 0.22]\n",
      "[18, 'ball', 'cannon', 2.58, 0.0, 0.22]\n",
      "[20, 'horse', 'ox', 3.02, 0.51, 0.22]\n",
      "[16, 'cat', 'rabbit', 2.37, 0.4, 0.21]\n",
      "[14, 'boat', 'anchor', 2.25, 0.0, 0.18]\n",
      "[2, 'car', 'elevator', 1.03, 0.19, 0.17]\n",
      "[12, 'door', 'cellar', 1.97, 0.0, 0.14]\n",
      "[23, 'bed', 'chair', 3.5, 0.23, 0.12]\n",
      "[27, 'house', 'barn', 4.33, 0.34, 0.12]\n",
      "[22, 'bed', 'couch', 3.42, 0.44, 0.1]\n",
      "[8, 'ball', 'basket', 1.67, 0.02, 0.09]\n",
      "[34, 'house', 'apartment', 5.8, 0.58, 0.09]\n",
      "[42, 'jar', 'bottle', 7.83, 0.84, 0.09]\n",
      "[1, 'car', 'bridge', 0.95, 0.07, 0.06]\n",
      "[33, 'gun', 'cannon', 5.68, 0.59, 0.06]\n",
      "[41, 'rat', 'mouse', 7.78, 0.87, 0.06]\n",
      "[7, 'chicken', 'rice', 1.43, 0.12, 0.05]\n",
      "[15, 'boat', 'car', 2.37, 0.15, 0.05]\n",
      "[24, 'gun', 'knife', 3.65, 0.41, 0.04]\n",
      "[25, 'guitar', 'drum', 3.78, 0.43, 0.04]\n",
      "[5, 'box', 'elevator', 1.32, 0.02, 0.03]\n",
      "[6, 'house', 'carpet', 1.38, 0.03, 0.03]\n",
      "[37, 'sofa', 'chair', 6.67, 0.75, 0.03]\n",
      "[31, 'plate', 'bowl', 5.23, 0.56, 0.02]\n",
      "[43, 'sheep', 'lamb', 8.42, 1.0, 0.02]\n",
      "[0, 'car', 'hose', 0.87, 0.01, 0.01]\n",
      "[10, 'house', 'key', 1.9, 0.14, 0.01]\n"
     ]
    }
   ],
   "source": [
    "# Argumento importante en discusión...\n",
    "print '  i',' c1','    c2   ','SimLex-999','VSA', 'Dif'\n",
    "L = []\n",
    "for i in range(len(SimLexList)):\n",
    "    L.append([i] + SimLexList[i] + [round(HD_SimLex[i],2)] + [abs(round((SimLexList[i][2]-.9)/7.4 - HD_SimLex[i],2))])\n",
    "\n",
    "# Para ver parejas que menos concuerda...\n",
    "#L = sorted(L, key = lambda x: x[5], reverse = True)\n",
    "L = sorted(L, key = lambda x: x[5], reverse = True)\n",
    "for x in L:\n",
    "    print x"
   ]
  },
  {
   "cell_type": "markdown",
   "metadata": {},
   "source": [
    "## Parameters for tests"
   ]
  },
  {
   "cell_type": "code",
   "execution_count": 115,
   "metadata": {},
   "outputs": [],
   "source": [
    "num_f = 30\n",
    "reps = 10"
   ]
  },
  {
   "cell_type": "markdown",
   "metadata": {},
   "source": [
    "### Normal..."
   ]
  },
  {
   "cell_type": "code",
   "execution_count": 116,
   "metadata": {},
   "outputs": [
    {
     "name": "stdout",
     "output_type": "stream",
     "text": [
      "0 Begining to encode dataset...\n",
      "End of encoding\n",
      "0.6620854921826085\n",
      "1 Begining to encode dataset...\n",
      "End of encoding\n",
      "0.6365494412876938\n",
      "2 Begining to encode dataset...\n",
      "End of encoding\n",
      "0.6572697176095031\n",
      "3 Begining to encode dataset...\n",
      "End of encoding\n",
      "0.6460161402326793\n",
      "4 Begining to encode dataset...\n",
      "End of encoding\n",
      "0.6626964566461675\n",
      "5 Begining to encode dataset...\n",
      "End of encoding\n",
      "0.6593367872438047\n",
      "6 Begining to encode dataset...\n",
      "End of encoding\n",
      "0.6343646502469589\n",
      "7 Begining to encode dataset...\n",
      "End of encoding\n",
      "0.6460161402326793\n",
      "8 Begining to encode dataset...\n",
      "End of encoding\n",
      "0.6375555101480023\n",
      "9 Begining to encode dataset...\n",
      "End of encoding\n",
      "0.6445838341471709\n",
      "\n",
      "Spearman's correlation value:  [0.6620854921826085, 0.6365494412876938, 0.6572697176095031, 0.6460161402326793, 0.6626964566461675, 0.6593367872438047, 0.6343646502469589, 0.6460161402326793, 0.6375555101480023, 0.6445838341471709]\n",
      "Mean value 0.6486474169977268\n"
     ]
    }
   ],
   "source": [
    "%run EncodingDataset.ipynb\n",
    "\n",
    "mode = 'normal'\n",
    "norm_corr = []\n",
    "\n",
    "for i in range(reps):\n",
    "    # Printing current mode\n",
    "    print i,\n",
    "    # Initialize memory\n",
    "    Init_mem( mode, num_f, SimLex_names) \n",
    "    # Create list of distances\n",
    "    HD_SimLex = []\n",
    "    # Loop over all pairs of concepts\n",
    "    for pair in SimLexList:\n",
    "        HD_SimLex.append(HDvector.dist(Dict[pair[0]].getPointer(), Dict[pair[1]].getPointer()))\n",
    "        \n",
    "    # Min-max Normalization...\n",
    "    max_sim = float(max(HD_SimLex)); min_sim = float(min(HD_SimLex))\n",
    "    HD_SimLex = map(lambda x: 1. - (float(x) - min_sim) / (max_sim - min_sim), HD_SimLex)\n",
    "    \n",
    "    corr = spearmanr(SimLex_sim, HD_SimLex)[0]\n",
    "    print corr\n",
    "    norm_corr.append(corr)\n",
    "    \n",
    "print \"\\nSpearman's correlation value: \", norm_corr\n",
    "print \"Mean value\", sum(norm_corr) / len(norm_corr)"
   ]
  },
  {
   "cell_type": "markdown",
   "metadata": {},
   "source": [
    "## Exploring some characteristics of the SimLex dataset\n",
    "\n",
    "List of names and a list of how many features are there for each concept"
   ]
  },
  {
   "cell_type": "code",
   "execution_count": 117,
   "metadata": {},
   "outputs": [
    {
     "name": "stdout",
     "output_type": "stream",
     "text": [
      "[14, 18, 19, 9, 17, 9, 17, 10, 11, 10, 15, 14, 14, 16, 9, 14, 12, 10, 14, 17, 16, 17, 20, 10, 16, 19, 20, 11, 13, 20, 22, 21, 18, 13, 13, 14, 14, 20, 11, 16, 19, 16, 16, 6, 15, 12, 12, 17, 16, 17, 20, 19, 11, 20, 14, 22, 10, 21, 18, 19, 11, 14]\n",
      "22 6 15\n"
     ]
    }
   ],
   "source": [
    "#print MEN_names\n",
    "#print Dict_defs[MEN_names[0]]\n",
    "L = []\n",
    "for n in SimLex_names:\n",
    "    L.append(len(Dict_defs[n]))\n",
    "\n",
    "print L\n",
    "print max(L), min(L), sum(L)/len(L)"
   ]
  },
  {
   "cell_type": "markdown",
   "metadata": {},
   "source": [
    "## Distribution of Prod_Freq values in MEN\n",
    "\n",
    "Since we are going to weight features based on the Prod_Freq value we have to have an idea of how the prod_freq values are distributed"
   ]
  },
  {
   "cell_type": "code",
   "execution_count": 118,
   "metadata": {},
   "outputs": [],
   "source": [
    "df = pd.read_excel( pathh + 'CONCS_FEATS_concstats_brm.xlsx')\n",
    "\n",
    "# Extracting only relevant columns (from concepts in MEN)\n",
    "NewDF = df[df['Concept'].isin(SimLex_names)]\n",
    "Newnew= NewDF[['Concept','Feature','Prod_Freq']]\n",
    "#Newnew"
   ]
  },
  {
   "cell_type": "code",
   "execution_count": 119,
   "metadata": {},
   "outputs": [
    {
     "data": {
      "text/plain": [
       "<matplotlib.axes._subplots.AxesSubplot at 0x57351978>"
      ]
     },
     "execution_count": 119,
     "metadata": {},
     "output_type": "execute_result"
    },
    {
     "data": {
      "image/png": "[encoded data removed]",
      "text/plain": [
       "<matplotlib.figure.Figure at 0x46131978>"
      ]
     },
     "metadata": {},
     "output_type": "display_data"
    }
   ],
   "source": [
    "# Plotting distribution (x-axis is the Production Frequency value)\n",
    "Freq = Newnew['Prod_Freq'].value_counts().sort_index()\n",
    "#print Freq.sort_values()\n",
    "Freq.plot('bar')"
   ]
  },
  {
   "cell_type": "markdown",
   "metadata": {},
   "source": [
    "From the previous analysis I decided to weight each feature according to the following rules:\n",
    "\n",
    "|Prod_Freq| Weight |\n",
    "| ----- | ----- |\n",
    "|28-30|5|\n",
    "|21-27|4|\n",
    "|15-20|3|\n",
    "|10-14|2|\n",
    "|5-9|1|"
   ]
  },
  {
   "cell_type": "markdown",
   "metadata": {},
   "source": [
    "## Testing weighted HDC representations\n",
    "\n",
    "Here we find the correlation between the similarity values obtained from the HDC weighted representations and the dataset."
   ]
  },
  {
   "cell_type": "code",
   "execution_count": 120,
   "metadata": {
    "scrolled": false
   },
   "outputs": [
    {
     "name": "stdout",
     "output_type": "stream",
     "text": [
      "0 Begining to encode dataset...\n",
      "End of encoding\n",
      "0.6508562987479908\n",
      "1 Begining to encode dataset...\n",
      "End of encoding\n",
      "0.655389928870138\n",
      "2 Begining to encode dataset...\n",
      "End of encoding\n",
      "0.6656799524871979\n",
      "3 Begining to encode dataset...\n",
      "End of encoding\n",
      "0.63852280093739\n",
      "4 Begining to encode dataset...\n",
      "End of encoding\n",
      "0.6440904942347468\n",
      "5 Begining to encode dataset...\n",
      "End of encoding\n",
      "0.6529231423865962\n",
      "6 Begining to encode dataset...\n",
      "End of encoding\n",
      "0.6695327382897577\n",
      "7 Begining to encode dataset...\n",
      "End of encoding\n",
      "0.6637536136013619\n",
      "8 Begining to encode dataset...\n",
      "End of encoding\n",
      "0.6657974503814043\n",
      "9 Begining to encode dataset...\n",
      "End of encoding\n",
      "0.6575043172846025\n",
      "\n",
      "Spearman's correlation value:  [0.6508562987479908, 0.655389928870138, 0.6656799524871979, 0.63852280093739, 0.6440904942347468, 0.6529231423865962, 0.6695327382897577, 0.6637536136013619, 0.6657974503814043, 0.6575043172846025]\n",
      "Mean value 0.6564050737221186\n"
     ]
    }
   ],
   "source": [
    "%run EncodingDataset.ipynb\n",
    "\n",
    "mode = 'Prod_Freq'\n",
    "norm_corr = []\n",
    "\n",
    "for i in range(reps):\n",
    "    # Printing current mode\n",
    "    print i,\n",
    "    # Initialize memory\n",
    "    Init_mem( mode, num_f, SimLex_names) \n",
    "    # Create list of distances\n",
    "    HD_SimLex = []\n",
    "    # Loop over all pairs of concepts\n",
    "    for pair in SimLexList:\n",
    "        HD_SimLex.append(HDvector.dist(Dict[pair[0]].getPointer(), Dict[pair[1]].getPointer()))\n",
    "        \n",
    "    # Min-max Normalization...\n",
    "    max_sim = float(max(HD_SimLex)); min_sim = float(min(HD_SimLex))\n",
    "    HD_SimLex = map(lambda x: 1. - (float(x) - min_sim) / (max_sim - min_sim), HD_SimLex)\n",
    "    \n",
    "    corr = spearmanr(SimLex_sim, HD_SimLex)[0]\n",
    "    print corr\n",
    "    norm_corr.append(corr)\n",
    "    \n",
    "print \"\\nSpearman's correlation value: \", norm_corr\n",
    "print \"Mean value\", sum(norm_corr) / len(norm_corr)"
   ]
  },
  {
   "cell_type": "markdown",
   "metadata": {},
   "source": [
    "## Distribution of Inter_corr_tax values in MEN\n",
    "\n",
    "Since we are going to weight features based on the Inter_corr_str_tax value we have to have an idea of how the values are distributed"
   ]
  },
  {
   "cell_type": "code",
   "execution_count": 121,
   "metadata": {},
   "outputs": [],
   "source": [
    "df = pd.read_excel( pathh + 'CONCS_FEATS_concstats_brm.xlsx')\n",
    "\n",
    "# Extracting only relevant columns (from concepts in MEN)\n",
    "NewDF = df[df['Concept'].isin(SimLex_names)]\n",
    "Newnew= NewDF[['Concept','Feature','Intercorr_Str_Tax']]\n",
    "#Newnew"
   ]
  },
  {
   "cell_type": "code",
   "execution_count": 122,
   "metadata": {},
   "outputs": [
    {
     "name": "stdout",
     "output_type": "stream",
     "text": [
      "0.0      505\n",
      "7.0       11\n",
      "8.0       10\n",
      "9.0       10\n",
      "10.0       6\n",
      "11.0      12\n",
      "12.0       6\n",
      "13.0       5\n",
      "14.0      10\n",
      "15.0       2\n",
      "16.0      10\n",
      "17.0       4\n",
      "18.0       8\n",
      "19.0       2\n",
      "20.0       2\n",
      "21.0       4\n",
      "22.0       4\n",
      "23.0       8\n",
      "24.0       3\n",
      "25.0       1\n",
      "26.0       5\n",
      "27.0       3\n",
      "28.0       2\n",
      "29.0       2\n",
      "30.0       5\n",
      "31.0       4\n",
      "32.0       3\n",
      "33.0       2\n",
      "34.0       1\n",
      "35.0       4\n",
      "        ... \n",
      "164.0      2\n",
      "167.0      1\n",
      "171.0      1\n",
      "172.0      1\n",
      "176.0      3\n",
      "180.0      2\n",
      "184.0      2\n",
      "186.0      1\n",
      "187.0      1\n",
      "188.0      1\n",
      "191.0      1\n",
      "197.0      1\n",
      "202.0      1\n",
      "207.0      2\n",
      "210.0      2\n",
      "213.0      1\n",
      "216.0      1\n",
      "231.0      3\n",
      "235.0      1\n",
      "240.0      1\n",
      "249.0      1\n",
      "259.0      1\n",
      "266.0      1\n",
      "283.0      1\n",
      "285.0      1\n",
      "290.0      1\n",
      "296.0      1\n",
      "297.0      1\n",
      "319.0      1\n",
      "320.0      1\n",
      "Name: Intercorr_Str_Tax, Length: 164, dtype: int64\n"
     ]
    }
   ],
   "source": [
    "# Plotting distribution (x-axis is the Production Frequency value)\n",
    "Newnew = Newnew.round()\n",
    "Intercorr = Newnew['Intercorr_Str_Tax'].value_counts().sort_index()\n",
    "print Intercorr"
   ]
  },
  {
   "cell_type": "code",
   "execution_count": 123,
   "metadata": {},
   "outputs": [
    {
     "name": "stdout",
     "output_type": "stream",
     "text": [
      "0 Begining to encode dataset...\n",
      "End of encoding\n",
      "0.6224540152184358\n",
      "1 Begining to encode dataset...\n",
      "End of encoding\n",
      "0.6184368187886973\n",
      "2 Begining to encode dataset...\n",
      "End of encoding\n",
      "0.6037070985463227\n",
      "3 Begining to encode dataset...\n",
      "End of encoding\n",
      "0.6082881120188315\n",
      "4 Begining to encode dataset...\n",
      "End of encoding\n",
      "0.5944041173406123\n",
      "5 Begining to encode dataset...\n",
      "End of encoding\n",
      "0.5894002410860256\n",
      "6 Begining to encode dataset...\n",
      "End of encoding\n",
      "0.6233217045840951\n",
      "7 Begining to encode dataset...\n",
      "End of encoding\n",
      "0.6094862232347183\n",
      "8 Begining to encode dataset...\n",
      "End of encoding\n",
      "0.6032137586338986\n",
      "9 Begining to encode dataset...\n",
      "End of encoding\n",
      "0.6061951584269337\n",
      "\n",
      "Spearman's correlation value:  [0.6224540152184358, 0.6184368187886973, 0.6037070985463227, 0.6082881120188315, 0.5944041173406123, 0.5894002410860256, 0.6233217045840951, 0.6094862232347183, 0.6032137586338986, 0.6061951584269337]\n",
      "Mean value 0.607890724787857\n"
     ]
    }
   ],
   "source": [
    "%run EncodingDataset.ipynb\n",
    "\n",
    "mode = 'Intercorr_str_tax'\n",
    "norm_corr = []\n",
    "\n",
    "for i in range(reps):\n",
    "    # Printing current mode\n",
    "    print i,\n",
    "    # Initialize memory\n",
    "    Init_mem( mode, num_f, SimLex_names) \n",
    "    # Create list of distances\n",
    "    HD_SimLex = []\n",
    "    # Loop over all pairs of concepts\n",
    "    for pair in SimLexList:\n",
    "        HD_SimLex.append(HDvector.dist(Dict[pair[0]].getPointer(), Dict[pair[1]].getPointer()))\n",
    "        \n",
    "    # Min-max Normalization...\n",
    "    max_sim = float(max(HD_SimLex)); min_sim = float(min(HD_SimLex))\n",
    "    HD_SimLex = map(lambda x: 1. - (float(x) - min_sim) / (max_sim - min_sim), HD_SimLex)\n",
    "    \n",
    "    corr = spearmanr(SimLex_sim, HD_SimLex)[0]\n",
    "    print corr\n",
    "    norm_corr.append(corr)\n",
    "    \n",
    "print \"\\nSpearman's correlation value: \", norm_corr\n",
    "print \"Mean value\", sum(norm_corr) / len(norm_corr)"
   ]
  },
  {
   "cell_type": "markdown",
   "metadata": {},
   "source": [
    "## No_Tax...."
   ]
  },
  {
   "cell_type": "code",
   "execution_count": 124,
   "metadata": {
    "scrolled": true
   },
   "outputs": [
    {
     "name": "stdout",
     "output_type": "stream",
     "text": [
      "0 Begining to encode dataset...\n",
      "End of encoding\n",
      "0.631475087902761\n",
      "1 Begining to encode dataset...\n",
      "End of encoding\n",
      "0.6285371960064404\n",
      "2 Begining to encode dataset...\n",
      "End of encoding\n",
      "0.6247797605198634\n",
      "3 Begining to encode dataset...\n",
      "End of encoding\n",
      "0.6209606375212765\n",
      "4 Begining to encode dataset...\n",
      "End of encoding\n",
      "0.6261893031267892\n",
      "5 Begining to encode dataset...\n",
      "End of encoding\n",
      "0.6516315471817999\n",
      "6 Begining to encode dataset...\n",
      "End of encoding\n",
      "0.650244917061608\n",
      "7 Begining to encode dataset...\n",
      "End of encoding\n",
      "0.6253832904235266\n",
      "8 Begining to encode dataset...\n",
      "End of encoding\n",
      "0.6099090860167962\n",
      "9 Begining to encode dataset...\n",
      "End of encoding\n",
      "0.6158996420962308\n",
      "\n",
      "Spearman's correlation value:  [0.631475087902761, 0.6285371960064404, 0.6247797605198634, 0.6209606375212765, 0.6261893031267892, 0.6516315471817999, 0.650244917061608, 0.6253832904235266, 0.6099090860167962, 0.6158996420962308]\n",
      "Mean value 0.6285010467857093\n"
     ]
    }
   ],
   "source": [
    "%run EncodingDataset.ipynb\n",
    "\n",
    "mode = 'Intercorr_str_No_tax'\n",
    "norm_corr = []\n",
    "\n",
    "for i in range(reps):\n",
    "    # Printing current mode\n",
    "    print i,\n",
    "    # Initialize memory\n",
    "    Init_mem( mode, num_f, SimLex_names) \n",
    "    # Create list of distances\n",
    "    HD_SimLex = []\n",
    "    # Loop over all pairs of concepts\n",
    "    for pair in SimLexList:\n",
    "        HD_SimLex.append(HDvector.dist(Dict[pair[0]].getPointer(), Dict[pair[1]].getPointer()))\n",
    "        \n",
    "    # Min-max Normalization...\n",
    "    max_sim = float(max(HD_SimLex)); min_sim = float(min(HD_SimLex))\n",
    "    HD_SimLex = map(lambda x: 1. - (float(x) - min_sim) / (max_sim - min_sim), HD_SimLex)\n",
    "    \n",
    "    corr = spearmanr(SimLex_sim, HD_SimLex)[0]\n",
    "    print corr\n",
    "    norm_corr.append(corr)\n",
    "    \n",
    "print \"\\nSpearman's correlation value: \", norm_corr\n",
    "print \"Mean value\", sum(norm_corr) / len(norm_corr)"
   ]
  },
  {
   "cell_type": "markdown",
   "metadata": {},
   "source": [
    "## Combining methods..."
   ]
  },
  {
   "cell_type": "code",
   "execution_count": 125,
   "metadata": {},
   "outputs": [
    {
     "name": "stdout",
     "output_type": "stream",
     "text": [
      "0 Begining to encode dataset...\n",
      "End of encoding\n",
      "0.6278807542551001\n",
      "1 Begining to encode dataset...\n",
      "End of encoding\n",
      "0.6451703848668935\n",
      "2 Begining to encode dataset...\n",
      "End of encoding\n",
      "0.6423285659760897\n",
      "3 Begining to encode dataset...\n",
      "End of encoding\n",
      "0.6507382743583163\n",
      "4 Begining to encode dataset...\n",
      "End of encoding\n",
      "0.6328141533793404\n",
      "5 Begining to encode dataset...\n",
      "End of encoding\n",
      "0.6513496386604147\n",
      "6 Begining to encode dataset...\n",
      "End of encoding\n",
      "0.633752687428786\n",
      "7 Begining to encode dataset...\n",
      "End of encoding\n",
      "0.6262113687505297\n",
      "8 Begining to encode dataset...\n",
      "End of encoding\n",
      "0.6307442909500987\n",
      "9 Begining to encode dataset...\n",
      "End of encoding\n",
      "0.628796956949602\n",
      "\n",
      "Spearman's correlation value:  [0.6278807542551001, 0.6451703848668935, 0.6423285659760897, 0.6507382743583163, 0.6328141533793404, 0.6513496386604147, 0.633752687428786, 0.6262113687505297, 0.6307442909500987, 0.628796956949602]\n",
      "Mean value 0.6369787075575171\n"
     ]
    }
   ],
   "source": [
    "%run EncodingDataset.ipynb\n",
    "\n",
    "mode = 'Intercorr_PF'\n",
    "norm_corr = []\n",
    "\n",
    "for i in range(reps):\n",
    "    # Printing current mode\n",
    "    print i,\n",
    "    # Initialize memory\n",
    "    Init_mem( mode, num_f, SimLex_names) \n",
    "    # Create list of distances\n",
    "    HD_SimLex = []\n",
    "    # Loop over all pairs of concepts\n",
    "    for pair in SimLexList:\n",
    "        HD_SimLex.append(HDvector.dist(Dict[pair[0]].getPointer(), Dict[pair[1]].getPointer()))\n",
    "        \n",
    "    # Min-max Normalization...\n",
    "    max_sim = float(max(HD_SimLex)); min_sim = float(min(HD_SimLex))\n",
    "    HD_SimLex = map(lambda x: 1. - (float(x) - min_sim) / (max_sim - min_sim), HD_SimLex)\n",
    "    \n",
    "    corr = spearmanr(SimLex_sim, HD_SimLex)[0]\n",
    "    print corr\n",
    "    norm_corr.append(corr)\n",
    "    \n",
    "print \"\\nSpearman's correlation value: \", norm_corr\n",
    "print \"Mean value\", sum(norm_corr) / len(norm_corr)"
   ]
  },
  {
   "cell_type": "markdown",
   "metadata": {},
   "source": [
    "### Combining with Intercorr_No_Tax... "
   ]
  },
  {
   "cell_type": "code",
   "execution_count": 126,
   "metadata": {},
   "outputs": [
    {
     "name": "stdout",
     "output_type": "stream",
     "text": [
      "0 Begining to encode dataset...\n",
      "End of encoding\n",
      "0.6708718037663373\n",
      "1 Begining to encode dataset...\n",
      "End of encoding\n",
      "0.6505743902266056\n",
      "2 Begining to encode dataset...\n",
      "End of encoding\n",
      "0.6376995458024527\n",
      "3 Begining to encode dataset...\n",
      "End of encoding\n",
      "0.686894316245657\n",
      "4 Begining to encode dataset...\n",
      "End of encoding\n",
      "0.6566585619188166\n",
      "5 Begining to encode dataset...\n",
      "End of encoding\n",
      "0.6636831364710157\n",
      "6 Begining to encode dataset...\n",
      "End of encoding\n",
      "0.6534639525708035\n",
      "7 Begining to encode dataset...\n",
      "End of encoding\n",
      "0.6486010305769095\n",
      "8 Begining to encode dataset...\n",
      "End of encoding\n",
      "0.6457342217774173\n",
      "9 Begining to encode dataset...\n",
      "End of encoding\n",
      "0.6431742915402452\n",
      "\n",
      "Spearman's correlation value:  [0.6708718037663373, 0.6505743902266056, 0.6376995458024527, 0.686894316245657, 0.6566585619188166, 0.6636831364710157, 0.6534639525708035, 0.6486010305769095, 0.6457342217774173, 0.6431742915402452]\n",
      "Mean value 0.6557355250896261\n"
     ]
    }
   ],
   "source": [
    "%run EncodingDataset.ipynb\n",
    "\n",
    "mode = 'Intercorr_NoT_PF'\n",
    "norm_corr = []\n",
    "\n",
    "for i in range(reps):\n",
    "    # Printing current mode\n",
    "    print i,\n",
    "    # Initialize memory\n",
    "    Init_mem( mode, num_f, SimLex_names) \n",
    "    # Create list of distances\n",
    "    HD_SimLex = []\n",
    "    # Loop over all pairs of concepts\n",
    "    for pair in SimLexList:\n",
    "        HD_SimLex.append(HDvector.dist(Dict[pair[0]].getPointer(), Dict[pair[1]].getPointer()))\n",
    "        \n",
    "    # Min-max Normalization...\n",
    "    max_sim = float(max(HD_SimLex)); min_sim = float(min(HD_SimLex))\n",
    "    HD_SimLex = map(lambda x: 1. - (float(x) - min_sim) / (max_sim - min_sim), HD_SimLex)\n",
    "    \n",
    "    corr = spearmanr(SimLex_sim, HD_SimLex)[0]\n",
    "    print corr\n",
    "    norm_corr.append(corr)\n",
    "    \n",
    "print \"\\nSpearman's correlation value: \", norm_corr\n",
    "print \"Mean value\", sum(norm_corr) / len(norm_corr)"
   ]
  }
 ],
 "metadata": {
  "kernelspec": {
   "display_name": "Python 2",
   "language": "python",
   "name": "python2"
  },
  "language_info": {
   "codemirror_mode": {
    "name": "ipython",
    "version": 2
   },
   "file_extension": ".py",
   "mimetype": "text/x-python",
   "name": "python",
   "nbconvert_exporter": "python",
   "pygments_lexer": "ipython2",
   "version": "2.7.14"
  }
 },
 "nbformat": 4,
 "nbformat_minor": 2
}

{
 "cells": [
  {
   "cell_type": "markdown",
   "metadata": {},
   "source": [
    "# Experiments\n",
    "\n",
    "In this notebook we perform different ways to encode the concepts' features based on *Rank_PF*, *Disting*, and *Intercorr_str_tax*. \n",
    "This notebooks uses the MEN dataset... \n",
    "\n",
    "## Header\n",
    "\n",
    "Libraries and additional programs"
   ]
  },
  {
   "cell_type": "code",
   "execution_count": 1,
   "metadata": {},
   "outputs": [],
   "source": [
    "import matplotlib\n",
    "import matplotlib.pyplot as plt\n",
    "import pandas as pd\n",
    "import numpy\n",
    "import random\n",
    "from scipy.stats.stats import pearsonr\n",
    "from scipy.stats.stats import spearmanr\n",
    "\n",
    "%matplotlib inline\n",
    "\n",
    "pathh = '../Data/' \n",
    "exp_file = '../Data/ExperimentalResults.xlsx'   \n",
    "\n",
    "%run EncodingDataset.ipynb"
   ]
  },
  {
   "cell_type": "markdown",
   "metadata": {},
   "source": [
    "## MEN dataset\n",
    "_The MEN dataset consists of 3,000 word pairs. These were obtained by crowdsourcing using Amazon Mechanical Turk. \n",
    "The collection can be used to train and/or test computer algorithms implementing semantic similarity and relatedness measures.\n",
    "Link for more information: https://staff.fnwi.uva.nl/e.bruni/MEN_\n",
    "\n",
    "First we find how many pairs are there for which both concepts appear in the McRae dataset. "
   ]
  },
  {
   "cell_type": "code",
   "execution_count": 2,
   "metadata": {},
   "outputs": [
    {
     "name": "stdout",
     "output_type": "stream",
     "text": [
      "[['tomato', 'whale', 3.0], ['mirror', 'raspberry', 4.0], ['brick', 'rabbit', 5.0], ['frog', 'subway', 5.0], ['cow', 'table', 6.0], ['pyramid', 'swimsuit', 6.0], ['bread', 'chair', 7.0], ['pillow', 'stone', 7.0], ['airplane', 'guitar', 7.0], ['brick', 'dress', 7.0], ['bucket', 'duck', 8.0], ['cherry', 'lamb', 8.0], ['van', 'vine', 8.0], ['car', 'hawk', 10.0], ['barn', 'mug', 10.0], ['lamb', 'lantern', 12.0], ['owl', 'rocket', 12.0], ['pin', 'truck', 12.0], ['rope', 'train', 13.0], ['door', 'skyscraper', 14.0], ['book', 'building', 14.0], ['lantern', 'oak', 14.0], ['lion', 'pelican', 19.0], ['chicken', 'pepper', 20.0], ['skateboard', 'swimsuit', 20.0], ['key', 'stone', 21.0], ['cherry', 'vine', 22.0], ['pepper', 'strawberry', 24.0], ['barn', 'owl', 24.0], ['deer', 'elephant', 24.0], ['marble', 'wall', 26.0], ['brick', 'skyscraper', 26.0], ['frog', 'whale', 26.0], ['pepper', 'tomato', 27.0], ['giraffe', 'lion', 31.0], ['orange', 'raspberry', 31.0], ['bag', 'pillow', 31.0], ['shirt', 'socks', 31.0], ['apartment', 'bedroom', 32.0], ['jacket', 'skirt', 32.0], ['chicken', 'lamb', 32.0], ['escalator', 'subway', 32.0], ['flamingo', 'pelican', 33.0], ['strawberry', 'tomato', 34.0], ['chicken', 'rice', 34.0], ['cherry', 'orange', 34.0], ['jacket', 'shirt', 34.0], ['banana', 'cherry', 35.0], ['hawk', 'pelican', 35.0], ['flamingo', 'stork', 36.0], ['jacket', 'socks', 36.0], ['cheetah', 'giraffe', 36.0], ['brick', 'house', 36.0], ['bus', 'subway', 37.0], ['bedroom', 'cottage', 37.0], ['building', 'skyscraper', 37.0], ['cherry', 'strawberry', 37.0], ['brick', 'wall', 37.0], ['orange', 'strawberry', 37.0], ['hawk', 'owl', 37.0], ['dress', 'shirt', 37.0], ['crow', 'hawk', 38.0], ['bedroom', 'door', 38.0], ['apple', 'cherry', 38.0], ['stone', 'wall', 38.0], ['guitar', 'rock', 39.0], ['brick', 'building', 39.0], ['marble', 'stone', 39.0], ['duck', 'goose', 39.0], ['goose', 'swan', 39.0], ['apple', 'raspberry', 39.0], ['elephant', 'giraffe', 40.0], ['cheetah', 'lion', 40.0], ['giraffe', 'zebra', 40.0], ['lamb', 'sheep', 40.0], ['door', 'wall', 40.0], ['cherry', 'raspberry', 40.0], ['car', 'garage', 41.0], ['bus', 'taxi', 41.0], ['pelican', 'stork', 41.0], ['bracelet', 'necklace', 42.0], ['bed', 'bedroom', 42.0], ['eagle', 'hawk', 42.0], ['subway', 'train', 43.0], ['shirt', 'skirt', 43.0], ['apple', 'orange', 43.0], ['guitar', 'piano', 43.0], ['bed', 'pillow', 44.0], ['raspberry', 'strawberry', 44.0], ['chipmunk', 'squirrel', 44.0], ['dress', 'skirt', 44.0], ['chapel', 'church', 45.0], ['motorcycle', 'scooter', 45.0], ['cathedral', 'church', 47.0]]\n"
     ]
    }
   ],
   "source": [
    "def ListConcepts():\n",
    "    \"Read an excel file and returns a list of pairs of concepts with its similarity value (according to humans)\"\n",
    "    MEN_path = \"../Data/MEN_dataset_natural_form_full\"\n",
    "    MEN_file = open(MEN_path, \"r\")\n",
    "    MEN = MEN_file.readlines()\n",
    "    MEN = [str.split(x) for x in MEN]\n",
    "\n",
    "    # List of all concepts in McRae dataset\n",
    "    Concepts = get_concepts_list() \n",
    "    \n",
    "    MENList = []\n",
    "    for row in MEN:\n",
    "        if row[0] in Concepts and row[1] in Concepts:\n",
    "            MENList.append([row[0], row[1], float(row[2])])\n",
    "    \n",
    "    #sort and return\n",
    "    return sorted(MENList, key = lambda x: x[2])\n",
    "            \n",
    "def ListNames (PairConcepts):\n",
    "    \"Given the list of pairs of concepts. It returns a list of the concept names without repetition\"\n",
    "    L = set([])\n",
    "    for x in PairConcepts:\n",
    "        L.add(x[0])\n",
    "        L.add(x[1])\n",
    "    return sorted(list(L))\n",
    "\n",
    "MENList = ListConcepts()\n",
    "\n",
    "#MEN_pairs = [x[:2] for x in MENList]   # no se necesita???\n",
    "MEN_sim = [x[2] for x in MENList]\n",
    "MEN_names = ListNames(MENList)\n",
    "\n",
    "print MENList"
   ]
  },
  {
   "cell_type": "markdown",
   "metadata": {},
   "source": [
    "### a) Visualizing dataset"
   ]
  },
  {
   "cell_type": "code",
   "execution_count": 3,
   "metadata": {},
   "outputs": [
    {
     "data": {
      "image/png": "[encoded data removed]",
      "text/plain": [
       "<matplotlib.figure.Figure at 0xed27e80>"
      ]
     },
     "metadata": {},
     "output_type": "display_data"
    }
   ],
   "source": [
    "plt.rcParams[\"figure.figsize\"] = [12,8]\n",
    "plt.plot([x[2] for x in MENList], color='k', linestyle='-', marker='.', markersize=6, linewidth=.3 )  \n",
    "plt.xlim((0,94))\n",
    "plt.ylim((0,50))\n",
    "plt.xlabel('Pair number', fontsize=18)\n",
    "plt.ylabel('Semantic similarity', fontsize=18)\n",
    "plt.grid(True)\n",
    "plt.savefig('HumSim-MEN.png', dpi=300)"
   ]
  },
  {
   "cell_type": "markdown",
   "metadata": {},
   "source": [
    "### b) Encoding dataset"
   ]
  },
  {
   "cell_type": "code",
   "execution_count": 4,
   "metadata": {},
   "outputs": [
    {
     "name": "stdout",
     "output_type": "stream",
     "text": [
      "Begining to encode dataset...\n",
      "End of encoding\n"
     ]
    }
   ],
   "source": [
    "Init_mem('normal', 30, MEN_names)"
   ]
  },
  {
   "cell_type": "markdown",
   "metadata": {},
   "source": [
    "### b) Measuring similarity"
   ]
  },
  {
   "cell_type": "code",
   "execution_count": 5,
   "metadata": {},
   "outputs": [
    {
     "name": "stdout",
     "output_type": "stream",
     "text": [
      "Starting...\n",
      "0 1 2 3 4 5 6 7 8 9 10 11 12 13 14 15 16 17 18 19 20 21 22 23 24 25 26 27 28 29 30 31 32 33 34 35 36 37 38 39 40 41 42 43 44 45 46 47 48 49 50 51 52 53 54 55 56 57 58 59 60 61 62 63 64 65 66 67 68 69 70 71 72 73 74 75 76 77 78 79 80 81 82 83 84 85 86 87 88 89 90 91 92 93 End\n"
     ]
    }
   ],
   "source": [
    "# Create list of distances for each method\n",
    "HD_sim_MEN = []; McRae_sim_MEN = []; WUP_sim_MEN = []; LCH_sim_MEN = []; RES_sim_MEN = []; JCN_sim_MEN = []\n",
    "# Loop over all pairs of concepts\n",
    "i = 0\n",
    "print \"Starting...\"\n",
    "for pair in MENList:\n",
    "    print i,\n",
    "    HD_sim_MEN.append(1. - HDvector.dist(Dict[pair[0]].getPointer(), Dict[pair[1]].getPointer()) / float(N))\n",
    "    McRae_sim_MEN.append( McRae_simi(pair[0:2]) )\n",
    "    WUP_sim_MEN.append(similarity_fun(wn.wup_similarity, pair[0:2]))\n",
    "    LCH_sim_MEN.append(similarity_fun(wn.lch_similarity, pair[0:2]))\n",
    "    RES_sim_MEN.append(similarity_fun(wn.res_similarity, pair[0:2], brown_ic))\n",
    "    JCN_sim_MEN.append(similarity_fun(wn.jcn_similarity, pair[0:2], brown_ic))\n",
    "    i += 1\n",
    "print \"End\""
   ]
  },
  {
   "cell_type": "markdown",
   "metadata": {},
   "source": [
    "### c) Computing correlation"
   ]
  },
  {
   "cell_type": "code",
   "execution_count": 6,
   "metadata": {},
   "outputs": [
    {
     "name": "stdout",
     "output_type": "stream",
     "text": [
      "[['McRae', 0.6727384420807737], ['HDC', 0.66984838213587], ['lch', 0.5844039704293345], ['res', 0.5775416063712382], ['wup', 0.5570825420221547], ['jcn', 0.3172684840266299]]\n",
      "[['HDC', 0.7232952622583653], ['McRae', 0.7132252668679664], ['res', 0.5633450433165348], ['lch', 0.5626242436883293], ['wup', 0.5523130823096505], ['jcn', 0.3895479853119775]]\n"
     ]
    }
   ],
   "source": [
    "Pear_correlations = [['HDC', pearsonr(MEN_sim, HD_sim_MEN)[0]], ['McRae', pearsonr(MEN_sim, McRae_sim_MEN)[0]],\n",
    "                ['wup', pearsonr(MEN_sim, WUP_sim_MEN)[0]], ['lch', pearsonr(MEN_sim, LCH_sim_MEN)[0]],\n",
    "                ['res', pearsonr(MEN_sim, RES_sim_MEN)[0]], ['jcn', pearsonr(MEN_sim, JCN_sim_MEN)[0]]]\n",
    "\n",
    "Spear_correlations = [['HDC', spearmanr(MEN_sim, HD_sim_MEN)[0]], ['McRae', spearmanr(MEN_sim, McRae_sim_MEN)[0]],\n",
    "                ['wup', spearmanr(MEN_sim, WUP_sim_MEN)[0]], ['lch', spearmanr(MEN_sim, LCH_sim_MEN)[0]],\n",
    "                ['res', spearmanr(MEN_sim, RES_sim_MEN)[0]], ['jcn', spearmanr(MEN_sim, JCN_sim_MEN)[0]]]\n",
    "\n",
    "\n",
    "Pear_correlations = sorted(Pear_correlations, key = lambda x : x[1], reverse = True)\n",
    "Spear_correlations = sorted(Spear_correlations, key = lambda x : x[1], reverse = True)\n",
    "\n",
    "print Pear_correlations\n",
    "print Spear_correlations"
   ]
  },
  {
   "cell_type": "markdown",
   "metadata": {},
   "source": [
    "### d) Plotting"
   ]
  },
  {
   "cell_type": "code",
   "execution_count": 7,
   "metadata": {},
   "outputs": [
    {
     "data": {
      "image/png": "[encoded data removed]",
      "text/plain": [
       "<matplotlib.figure.Figure at 0x5e55b550>"
      ]
     },
     "metadata": {},
     "output_type": "display_data"
    }
   ],
   "source": [
    "# Plotting\n",
    "plt.rcParams[\"figure.figsize\"] = [20,12]\n",
    "f_size = 18\n",
    "plt.subplots_adjust(hspace=0.4)\n",
    "\n",
    "plt.subplot(231)\n",
    "plt.plot(HD_sim_MEN, color='k', linestyle='None', marker='x', markersize=7, linewidth=1 )  \n",
    "plt.title('VSA', fontsize=f_size)\n",
    "plt.xlabel('Pair number', fontsize=f_size)\n",
    "plt.ylabel('Semantic similarity', fontsize=f_size)\n",
    "plt.grid(True)\n",
    "\n",
    "plt.subplot(232)\n",
    "plt.plot(McRae_sim_MEN, color='k', linestyle='None', marker='^', markersize=6, linewidth=1 )  \n",
    "plt.title('McRae', fontsize=f_size)\n",
    "plt.xlabel('Pair number', fontsize=f_size)\n",
    "plt.ylabel('Semantic similarity', fontsize=f_size)\n",
    "plt.grid(True)\n",
    "\n",
    "plt.subplot(233)\n",
    "plt.plot(LCH_sim_MEN, color='k', linestyle='None', marker='*', markersize=7, linewidth=1 )  \n",
    "plt.title('Leacock & Chodorow', fontsize=f_size)\n",
    "plt.xlabel('Pair number', fontsize=f_size)\n",
    "plt.ylabel('Semantic similarity', fontsize=f_size)\n",
    "plt.grid(True)\n",
    "\n",
    "plt.subplot(234)\n",
    "plt.plot(RES_sim_MEN, color='k', linestyle='None', marker='.', markersize=9, linewidth=1 )  \n",
    "plt.title('Resnik', fontsize=f_size)\n",
    "plt.xlabel('Pair number', fontsize=f_size)\n",
    "plt.ylabel('Semantic similarity', fontsize=f_size)\n",
    "plt.grid(True)\n",
    "\n",
    "plt.subplot(235)\n",
    "plt.plot(WUP_sim_MEN, color='k', linestyle='None', marker='.', markersize=8, linewidth=1 )  \n",
    "plt.title('Wu & Palmer', fontsize=f_size)\n",
    "plt.xlabel('Pair number', fontsize=f_size)\n",
    "plt.ylabel('Semantic similarity', fontsize=f_size)\n",
    "plt.grid(True)\n",
    "\n",
    "plt.subplot(236)\n",
    "plt.plot(JCN_sim_MEN, color='k', linestyle='None', marker='+', markersize=8, linewidth=1 )  \n",
    "plt.title('Jiang & Conrath', fontsize=f_size)\n",
    "plt.xlabel('Pair number', fontsize=f_size)\n",
    "plt.ylabel('Semantic similarity', fontsize=f_size)\n",
    "plt.grid(True)\n",
    "\n",
    "plt.savefig('SubPlots-MEN.png') #, dpi=1000)"
   ]
  },
  {
   "cell_type": "markdown",
   "metadata": {},
   "source": [
    "## Exploring some characteristics of the MEN dataset\n",
    "\n",
    "List of names and a list of how many features are there for each concept"
   ]
  },
  {
   "cell_type": "code",
   "execution_count": 8,
   "metadata": {},
   "outputs": [
    {
     "name": "stdout",
     "output_type": "stream",
     "text": [
      "[13, 18, 19, 12, 15, 17, 17, 10, 16, 14, 16, 9, 7, 15, 17, 16, 13, 16, 11, 13, 12, 20, 14, 15, 13, 22, 13, 20, 13, 13, 20, 17, 17, 11, 11, 16, 9, 14, 15, 11, 13, 16, 15, 12, 16, 12, 20, 14, 11, 16, 14, 17, 11, 16, 13, 15, 12, 13, 13, 10, 14, 14, 11, 10, 12, 12, 12, 13, 21, 18, 10, 14, 12, 15, 18, 11, 14, 17, 14, 16, 19, 11, 10, 13, 15, 13, 15, 8, 14, 12, 16]\n",
      "22 7 14\n"
     ]
    }
   ],
   "source": [
    "#print MEN_names\n",
    "#print Dict_defs[MEN_names[0]]\n",
    "L = []\n",
    "for n in MEN_names:\n",
    "    L.append(len(Dict_defs[n]))\n",
    "\n",
    "print L\n",
    "print max(L), min(L), sum(L)/len(L)"
   ]
  },
  {
   "cell_type": "markdown",
   "metadata": {},
   "source": [
    "## Distribution of Prod_Freq values in MEN\n",
    "\n",
    "Since we are going to weight features based on the Prod_Freq value we have to have an idea of how the prod_freq values are distributed"
   ]
  },
  {
   "cell_type": "code",
   "execution_count": 9,
   "metadata": {},
   "outputs": [],
   "source": [
    "df = pd.read_excel( pathh + 'CONCS_FEATS_concstats_brm.xlsx')\n",
    "\n",
    "# Extracting only relevant columns (from concepts in MEN)\n",
    "NewDF = df[df['Concept'].isin(MEN_names)]\n",
    "Newnew= NewDF[['Concept','Feature','Prod_Freq']]\n",
    "#Newnew"
   ]
  },
  {
   "cell_type": "code",
   "execution_count": 10,
   "metadata": {},
   "outputs": [
    {
     "data": {
      "text/plain": [
       "<matplotlib.axes._subplots.AxesSubplot at 0x492ed2b0>"
      ]
     },
     "execution_count": 10,
     "metadata": {},
     "output_type": "execute_result"
    },
    {
     "data": {
      "image/png": "[encoded data removed]",
      "text/plain": [
       "<matplotlib.figure.Figure at 0x77874518>"
      ]
     },
     "metadata": {},
     "output_type": "display_data"
    }
   ],
   "source": [
    "# Plotting distribution (x-axis is the Production Frequency value)\n",
    "Freq = Newnew['Prod_Freq'].value_counts().sort_index()\n",
    "#print Freq.sort_values()\n",
    "Freq.plot('bar')"
   ]
  },
  {
   "cell_type": "markdown",
   "metadata": {},
   "source": [
    "From the previous analysis I decided to weight each feature according to the following rules:\n",
    "\n",
    "|Prod_Freq| Weight |\n",
    "| ----- | ----- |\n",
    "|28-30|5|\n",
    "|21-27|4|\n",
    "|15-20|3|\n",
    "|10-14|2|\n",
    "|5-9|1|"
   ]
  },
  {
   "cell_type": "markdown",
   "metadata": {},
   "source": [
    "## Testing weighted HDC representations\n",
    "\n",
    "Here we find the correlation between the similarity values obtained from the HDC weighted representations and the dataset."
   ]
  },
  {
   "cell_type": "code",
   "execution_count": 18,
   "metadata": {
    "scrolled": false
   },
   "outputs": [
    {
     "name": "stdout",
     "output_type": "stream",
     "text": [
      "\n",
      "\n",
      "Mode: Prod_Freq   Number of features: 30\n",
      "Begining to encode dataset...\n",
      "End of encoding\n",
      "   Pearson's correlation value:  0.6684498533360771\n",
      "   Spearman's correlation value:  0.7173419574904475\n"
     ]
    }
   ],
   "source": [
    "%run EncodingDataset.ipynb\n",
    "\n",
    "num_f = 30\n",
    "# List of similarity values from dataset...\n",
    "for mode in ['Prod_Freq']: \n",
    "    # Printing current mode\n",
    "    print \"\\n\\nMode:\", mode, \"  Number of features:\", num_f\n",
    "    # Initialize memory\n",
    "    Init_mem( mode, num_f, MEN_names) \n",
    "    # Create list of distances\n",
    "    HD_MEN = []\n",
    "    # Loop over all pairs of concepts\n",
    "    for pair in MENList:\n",
    "        HD_MEN.append(1. - HDvector.dist(Dict[pair[0]].getPointer(), Dict[pair[1]].getPointer()) / float(N))\n",
    "        \n",
    "    pear_correlation= pearsonr(MEN_sim, HD_MEN)[0]\n",
    "    spear_correlation= spearmanr(MEN_sim, HD_MEN)[0]\n",
    "    print \"   Pearson's correlation value: \", pear_correlation\n",
    "    print \"   Spearman's correlation value: \", spear_correlation"
   ]
  },
  {
   "cell_type": "markdown",
   "metadata": {},
   "source": [
    "## Distribution of Inter_corr_tax values in MEN\n",
    "\n",
    "Since we are going to weight features based on the Inter_corr_str_tax value we have to have an idea of how the values are distributed"
   ]
  },
  {
   "cell_type": "code",
   "execution_count": 12,
   "metadata": {},
   "outputs": [],
   "source": [
    "df = pd.read_excel( pathh + 'CONCS_FEATS_concstats_brm.xlsx')\n",
    "\n",
    "# Extracting only relevant columns (from concepts in MEN)\n",
    "NewDF = df[df['Concept'].isin(MEN_names)]\n",
    "Newnew= NewDF[['Concept','Feature','Intercorr_Str_Tax']]\n",
    "#Newnew"
   ]
  },
  {
   "cell_type": "code",
   "execution_count": 13,
   "metadata": {},
   "outputs": [],
   "source": [
    "# Plotting distribution (x-axis is the Production Frequency value)\n",
    "Newnew = Newnew.round()\n",
    "Intercorr = Newnew['Intercorr_Str_Tax'].value_counts().sort_index()\n",
    "#print Intercorr"
   ]
  },
  {
   "cell_type": "code",
   "execution_count": 14,
   "metadata": {},
   "outputs": [
    {
     "name": "stdout",
     "output_type": "stream",
     "text": [
      "\n",
      "\n",
      "Mode: Intercorr_str_tax   Number of features: 30\n",
      "Begining to encode dataset...\n",
      "End of encoding\n",
      "   Pearson's correlation value:  0.6678779387024252\n",
      "   Spearman's correlation value:  0.6739709751722487\n"
     ]
    }
   ],
   "source": [
    "%run EncodingDataset.ipynb\n",
    "\n",
    "num_f = 30\n",
    "# List of similarity values from dataset...\n",
    "for mode in ['Intercorr_str_tax']:\n",
    "    # Printing current mode\n",
    "    print \"\\n\\nMode:\", mode, \"  Number of features:\", num_f\n",
    "    # Initialize memory\n",
    "    Init_mem( mode, num_f, MEN_names) \n",
    "    # Create list of distances\n",
    "    HD_MEN = []\n",
    "    # Loop over all pairs of concepts\n",
    "    for pair in MENList:\n",
    "        HD_MEN.append(1. - HDvector.dist(Dict[pair[0]].getPointer(), Dict[pair[1]].getPointer()) / float(N))\n",
    "        \n",
    "    pear_correlation= pearsonr(MEN_sim, HD_MEN)[0]\n",
    "    spear_correlation= spearmanr(MEN_sim, HD_MEN)[0]\n",
    "    print \"   Pearson's correlation value: \", pear_correlation\n",
    "    print \"   Spearman's correlation value: \", spear_correlation"
   ]
  },
  {
   "cell_type": "markdown",
   "metadata": {},
   "source": [
    "## No_Tax...."
   ]
  },
  {
   "cell_type": "code",
   "execution_count": 16,
   "metadata": {},
   "outputs": [
    {
     "name": "stdout",
     "output_type": "stream",
     "text": [
      "\n",
      "\n",
      "Mode: Intercorr_str_No_tax   Number of features: 30\n",
      "Begining to encode dataset...\n",
      "End of encoding\n",
      "   Pearson's correlation value:  0.6370988696317392\n",
      "   Spearman's correlation value:  0.6840519385014343\n"
     ]
    }
   ],
   "source": [
    "%run EncodingDataset.ipynb\n",
    "\n",
    "num_f = 30\n",
    "# List of similarity values from dataset...\n",
    "for mode in ['Intercorr_str_No_tax']:\n",
    "    # Printing current mode\n",
    "    print \"\\n\\nMode:\", mode, \"  Number of features:\", num_f\n",
    "    # Initialize memory\n",
    "    Init_mem( mode, num_f, MEN_names) \n",
    "    # Create list of distances\n",
    "    HD_MEN = []\n",
    "    # Loop over all pairs of concepts\n",
    "    for pair in MENList:\n",
    "        HD_MEN.append(1. - HDvector.dist(Dict[pair[0]].getPointer(), Dict[pair[1]].getPointer()) / float(N))\n",
    "        \n",
    "    pear_correlation= pearsonr(MEN_sim, HD_MEN)[0]\n",
    "    spear_correlation= spearmanr(MEN_sim, HD_MEN)[0]\n",
    "    print \"   Pearson's correlation value: \", pear_correlation\n",
    "    print \"   Spearman's correlation value: \", spear_correlation"
   ]
  },
  {
   "cell_type": "markdown",
   "metadata": {},
   "source": [
    "## Combining methods..."
   ]
  },
  {
   "cell_type": "code",
   "execution_count": 15,
   "metadata": {},
   "outputs": [
    {
     "name": "stdout",
     "output_type": "stream",
     "text": [
      "\n",
      "\n",
      "0\n",
      "Begining to encode dataset...\n",
      "End of encoding\n",
      "   Pearson's correlation value:  0.6781103253879818\n",
      "   Spearman's correlation value:  0.7331969692409934\n",
      "\n",
      "\n",
      "1\n",
      "Begining to encode dataset...\n",
      "End of encoding\n",
      "   Pearson's correlation value:  0.6682028955044091\n",
      "   Spearman's correlation value:  0.6840928574082048\n",
      "\n",
      "\n",
      "2\n",
      "Begining to encode dataset...\n",
      "End of encoding\n",
      "   Pearson's correlation value:  0.6770425536894877\n",
      "   Spearman's correlation value:  0.7232420272864664\n",
      "\n",
      "\n",
      "3\n",
      "Begining to encode dataset...\n",
      "End of encoding\n",
      "   Pearson's correlation value:  0.6684755209525504\n",
      "   Spearman's correlation value:  0.7143661100046387\n",
      "\n",
      "\n",
      "4\n",
      "Begining to encode dataset...\n",
      "End of encoding\n",
      "   Pearson's correlation value:  0.662134333212473\n",
      "   Spearman's correlation value:  0.6590989342218162\n"
     ]
    }
   ],
   "source": [
    "%run EncodingDataset.ipynb\n",
    "\n",
    "num_f = 30\n",
    "mode = 'Intercorr_PF'\n",
    "\n",
    "for i in range(5):\n",
    "    # Printing current mode\n",
    "    print \"\\n\\n\",i\n",
    "    # Initialize memory\n",
    "    Init_mem( mode, num_f, MEN_names) \n",
    "    # Create list of distances\n",
    "    HD_MEN = []\n",
    "    # Loop over all pairs of concepts\n",
    "    for pair in MENList:\n",
    "        HD_MEN.append(1. - HDvector.dist(Dict[pair[0]].getPointer(), Dict[pair[1]].getPointer()) / float(N))\n",
    "        \n",
    "    pear_correlation= pearsonr(MEN_sim, HD_MEN)[0]\n",
    "    spear_correlation= spearmanr(MEN_sim, HD_MEN)[0]\n",
    "    print \"   Pearson's correlation value: \", pear_correlation\n",
    "    print \"   Spearman's correlation value: \", spear_correlation"
   ]
  },
  {
   "cell_type": "markdown",
   "metadata": {},
   "source": [
    "### Combining with Intercorr_No_Tax... "
   ]
  },
  {
   "cell_type": "code",
   "execution_count": 17,
   "metadata": {},
   "outputs": [
    {
     "name": "stdout",
     "output_type": "stream",
     "text": [
      "\n",
      "\n",
      "0\n",
      "Begining to encode dataset...\n",
      "End of encoding\n",
      "   Pearson's correlation value:  0.6572807232088086\n",
      "   Spearman's correlation value:  0.7155851758829317\n",
      "\n",
      "\n",
      "1\n",
      "Begining to encode dataset...\n",
      "End of encoding\n",
      "   Pearson's correlation value:  0.6583304246983857\n",
      "   Spearman's correlation value:  0.6808183670597161\n",
      "\n",
      "\n",
      "2\n",
      "Begining to encode dataset...\n",
      "End of encoding\n",
      "   Pearson's correlation value:  0.6659422212263946\n",
      "   Spearman's correlation value:  0.7278686900889597\n",
      "\n",
      "\n",
      "3\n",
      "Begining to encode dataset...\n",
      "End of encoding\n",
      "   Pearson's correlation value:  0.6625137099982632\n",
      "   Spearman's correlation value:  0.7105384387080134\n",
      "\n",
      "\n",
      "4\n",
      "Begining to encode dataset...\n",
      "End of encoding\n",
      "   Pearson's correlation value:  0.6500814072660884\n",
      "   Spearman's correlation value:  0.6762032183084711\n"
     ]
    }
   ],
   "source": [
    "%run EncodingDataset.ipynb\n",
    "\n",
    "num_f = 30\n",
    "mode = 'Intercorr_NoT_PF'\n",
    "\n",
    "for i in range(5):\n",
    "    # Printing current mode\n",
    "    print \"\\n\\n\",i\n",
    "    # Initialize memory\n",
    "    Init_mem( mode, num_f, MEN_names) \n",
    "    # Create list of distances\n",
    "    HD_MEN = []\n",
    "    # Loop over all pairs of concepts\n",
    "    for pair in MENList:\n",
    "        HD_MEN.append(1. - HDvector.dist(Dict[pair[0]].getPointer(), Dict[pair[1]].getPointer()) / float(N))\n",
    "        \n",
    "    pear_correlation= pearsonr(MEN_sim, HD_MEN)[0]\n",
    "    spear_correlation= spearmanr(MEN_sim, HD_MEN)[0]\n",
    "    print \"   Pearson's correlation value: \", pear_correlation\n",
    "    print \"   Spearman's correlation value: \", spear_correlation"
   ]
  }
 ],
 "metadata": {
  "kernelspec": {
   "display_name": "Python 2",
   "language": "python",
   "name": "python2"
  },
  "language_info": {
   "codemirror_mode": {
    "name": "ipython",
    "version": 2
   },
   "file_extension": ".py",
   "mimetype": "text/x-python",
   "name": "python",
   "nbconvert_exporter": "python",
   "pygments_lexer": "ipython2",
   "version": "2.7.14"
  }
 },
 "nbformat": 4,
 "nbformat_minor": 2
}
